{
 "cells": [
  {
   "cell_type": "markdown",
   "metadata": {},
   "source": [
    "## Features Explanation\n",
    "\n",
    "- **id**: Unique identifier for each record.\n",
    "- **dur**: Duration of the connection (in seconds).\n",
    "- **proto**: Protocol type of the connection (e.g., tcp, udp).\n",
    "- **service**: Network service on the destination (e.g., http, ftp; \"-\" if not applicable).\n",
    "- **state**: Status of the connection (e.g., FIN for normal termination).\n",
    "- **spkts**: Number of source packets during the connection.\n",
    "- **dpkts**: Number of destination packets during the connection.\n",
    "- **sbytes**: Total bytes from source to destination.\n",
    "- **dbytes**: Total bytes from destination to source.\n",
    "- **rate**: Transmission rate (packets/second).\n",
    "- **sttl**: Source to destination time to live value.\n",
    "- **dttl**: Destination to source time to live value.\n",
    "- **sload**: Source bits per second.\n",
    "- **dload**: Destination bits per second.\n",
    "- **sloss**: Source packet retransmissions or losses.\n",
    "- **dloss**: Destination packet retransmissions or losses.\n",
    "- **sinpkt**: Time between two packets sent from the source.\n",
    "- **dinpkt**: Time between two packets sent from the destination.\n",
    "- **sjit**: Source jitter (variation in time delay).\n",
    "- **djit**: Destination jitter (variation in time delay).\n",
    "- **swin**: Source window size.\n",
    "- **stcpb**: Source TCP base sequence number.\n",
    "- **dtcpb**: Destination TCP base sequence number.\n",
    "- **dwin**: Destination window size.\n",
    "- **tcprtt**: Round trip time of the TCP connection.\n",
    "- **synack**: The time between the SYN and the ACK packets.\n",
    "- **ackdat**: The time between the ACK packet and the data packet.\n",
    "- **smean**: Mean of the packet size transmitted by the source.\n",
    "- **dmean**: Mean of the packet size transmitted by the destination.\n",
    "- **trans_depth**: Represents the depth into the connection of the packet.\n",
    "- **response_body_len**: Actual data payload in the response packets.\n",
    "- **ct_srv_src**: Count of connections that have the same service (port number) as the current connection in the past 100 connections to the same service.\n",
    "- **ct_state_ttl**: Number of connections that have the same source or destination in the past 100 connections that have the same state and are directed to the same destination port number.\n",
    "- **ct_dst_ltm**: Number of connections to the same destination in the past 100 connections.\n",
    "- **ct_src_dport_ltm**: Number of connections to the same source and destination port in the past 100 connections.\n",
    "- **ct_dst_sport_ltm**: Number of connections to the same destination and source port in the past 100 connections.\n",
    "- **ct_dst_src_ltm**: Number of connections from the same source to the same destination in the past 100 connections.\n",
    "- **is_ftp_login**: Indicates if the FTP session is logged in (1 if true, 0 if false).\n",
    "- **ct_ftp_cmd**: Count of FTP commands in the session.\n",
    "- **ct_flw_http_mthd**: Number of HTTP methods seen in the session.\n",
    "- **ct_src_ltm**: Number of connections from the same source IP in the past 100 connections.\n",
    "- **ct_srv_dst**: Number of connections to the same service (port number) on the destination IP in the past 100 connections.\n",
    "- **is_sm_ips_ports**: Indicates if the source and destination IP are the same and if the source and destination ports are 0.\n",
    "\n",
    "## Target Prediction\n",
    "\n",
    "- **attack_cat**: Category of the attack (e.g., DoS, Worms, Backdoors) or 'Normal' for non-attack records.\n",
    "- **label**: Binary classification; 0 for normal and 1 for attack.\n"
   ]
  },
  {
   "cell_type": "code",
   "execution_count": 2,
   "metadata": {},
   "outputs": [],
   "source": [
    "import pandas as pd\n",
    "df_train = pd.read_csv(\"UNSW_NB15_training-set.csv\")\n",
    "df_test = pd.read_csv(\"UNSW_NB15_testing-set.csv\")"
   ]
  },
  {
   "cell_type": "code",
   "execution_count": 3,
   "metadata": {},
   "outputs": [
    {
     "name": "stdout",
     "output_type": "stream",
     "text": [
      "id\n",
      "count    175341.000000\n",
      "mean      87671.000000\n",
      "std       50616.731112\n",
      "min           1.000000\n",
      "25%       43836.000000\n",
      "50%       87671.000000\n",
      "75%      131506.000000\n",
      "max      175341.000000\n",
      "Name: id, dtype: float64\n",
      "\n",
      "\n",
      "dur\n",
      "count    175341.000000\n",
      "mean          1.359389\n",
      "std           6.480249\n",
      "min           0.000000\n",
      "25%           0.000008\n",
      "50%           0.001582\n",
      "75%           0.668069\n",
      "max          59.999989\n",
      "Name: dur, dtype: float64\n",
      "\n",
      "\n",
      "spkts\n",
      "count    175341.000000\n",
      "mean         20.298664\n",
      "std         136.887597\n",
      "min           1.000000\n",
      "25%           2.000000\n",
      "50%           2.000000\n",
      "75%          12.000000\n",
      "max        9616.000000\n",
      "Name: spkts, dtype: float64\n",
      "\n",
      "\n",
      "dpkts\n",
      "count    175341.000000\n",
      "mean         18.969591\n",
      "std         110.258271\n",
      "min           0.000000\n",
      "25%           0.000000\n",
      "50%           2.000000\n",
      "75%          10.000000\n",
      "max       10974.000000\n",
      "Name: dpkts, dtype: float64\n",
      "\n",
      "\n",
      "sbytes\n",
      "count    1.753410e+05\n",
      "mean     8.844844e+03\n",
      "std      1.747656e+05\n",
      "min      2.800000e+01\n",
      "25%      1.140000e+02\n",
      "50%      4.300000e+02\n",
      "75%      1.418000e+03\n",
      "max      1.296523e+07\n",
      "Name: sbytes, dtype: float64\n",
      "\n",
      "\n",
      "dbytes\n",
      "count    1.753410e+05\n",
      "mean     1.492892e+04\n",
      "std      1.436542e+05\n",
      "min      0.000000e+00\n",
      "25%      0.000000e+00\n",
      "50%      1.640000e+02\n",
      "75%      1.102000e+03\n",
      "max      1.465555e+07\n",
      "Name: dbytes, dtype: float64\n",
      "\n",
      "\n",
      "rate\n",
      "count    1.753410e+05\n",
      "mean     9.540619e+04\n",
      "std      1.654010e+05\n",
      "min      0.000000e+00\n",
      "25%      3.278614e+01\n",
      "50%      3.225807e+03\n",
      "75%      1.250000e+05\n",
      "max      1.000000e+06\n",
      "Name: rate, dtype: float64\n",
      "\n",
      "\n",
      "sttl\n",
      "count    175341.000000\n",
      "mean        179.546997\n",
      "std         102.940011\n",
      "min           0.000000\n",
      "25%          62.000000\n",
      "50%         254.000000\n",
      "75%         254.000000\n",
      "max         255.000000\n",
      "Name: sttl, dtype: float64\n",
      "\n",
      "\n",
      "dttl\n",
      "count    175341.000000\n",
      "mean         79.609567\n",
      "std         110.506863\n",
      "min           0.000000\n",
      "25%           0.000000\n",
      "50%          29.000000\n",
      "75%         252.000000\n",
      "max         254.000000\n",
      "Name: dttl, dtype: float64\n",
      "\n",
      "\n",
      "sload\n",
      "count    1.753410e+05\n",
      "mean     7.345403e+07\n",
      "std      1.883574e+08\n",
      "min      0.000000e+00\n",
      "25%      1.305334e+04\n",
      "50%      8.796748e+05\n",
      "75%      8.888889e+07\n",
      "max      5.988000e+09\n",
      "Name: sload, dtype: float64\n",
      "\n",
      "\n",
      "dload\n",
      "count    1.753410e+05\n",
      "mean     6.712056e+05\n",
      "std      2.421312e+06\n",
      "min      0.000000e+00\n",
      "25%      0.000000e+00\n",
      "50%      1.447023e+03\n",
      "75%      2.784487e+04\n",
      "max      2.242273e+07\n",
      "Name: dload, dtype: float64\n",
      "\n",
      "\n",
      "sloss\n",
      "count    175341.000000\n",
      "mean          4.953000\n",
      "std          66.005059\n",
      "min           0.000000\n",
      "25%           0.000000\n",
      "50%           0.000000\n",
      "75%           3.000000\n",
      "max        4803.000000\n",
      "Name: sloss, dtype: float64\n",
      "\n",
      "\n",
      "dloss\n",
      "count    175341.000000\n",
      "mean          6.948010\n",
      "std          52.732999\n",
      "min           0.000000\n",
      "25%           0.000000\n",
      "50%           0.000000\n",
      "75%           2.000000\n",
      "max        5484.000000\n",
      "Name: dloss, dtype: float64\n",
      "\n",
      "\n",
      "sinpkt\n",
      "count    175341.000000\n",
      "mean        985.976864\n",
      "std        7242.245841\n",
      "min           0.000000\n",
      "25%           0.008000\n",
      "50%           0.279733\n",
      "75%          55.156896\n",
      "max       84371.496000\n",
      "Name: sinpkt, dtype: float64\n",
      "\n",
      "\n",
      "dinpkt\n",
      "count    175341.000000\n",
      "mean         88.216296\n",
      "std         987.093195\n",
      "min           0.000000\n",
      "25%           0.000000\n",
      "50%           0.006000\n",
      "75%          51.053000\n",
      "max       56716.824000\n",
      "Name: dinpkt, dtype: float64\n",
      "\n",
      "\n",
      "sjit\n",
      "count    1.753410e+05\n",
      "mean     4.976254e+03\n",
      "std      4.496585e+04\n",
      "min      0.000000e+00\n",
      "25%      0.000000e+00\n",
      "50%      0.000000e+00\n",
      "75%      2.513295e+03\n",
      "max      1.460480e+06\n",
      "Name: sjit, dtype: float64\n",
      "\n",
      "\n",
      "djit\n",
      "count    175341.000000\n",
      "mean        604.353826\n",
      "std        4061.043281\n",
      "min           0.000000\n",
      "25%           0.000000\n",
      "50%           0.000000\n",
      "75%         114.990625\n",
      "max      289388.269700\n",
      "Name: djit, dtype: float64\n",
      "\n",
      "\n",
      "swin\n",
      "count    175341.000000\n",
      "mean        116.257339\n",
      "std         127.001024\n",
      "min           0.000000\n",
      "25%           0.000000\n",
      "50%           0.000000\n",
      "75%         255.000000\n",
      "max         255.000000\n",
      "Name: swin, dtype: float64\n",
      "\n",
      "\n",
      "stcpb\n",
      "count    1.753410e+05\n",
      "mean     9.692504e+08\n",
      "std      1.355264e+09\n",
      "min      0.000000e+00\n",
      "25%      0.000000e+00\n",
      "50%      0.000000e+00\n",
      "75%      1.916651e+09\n",
      "max      4.294959e+09\n",
      "Name: stcpb, dtype: float64\n",
      "\n",
      "\n",
      "dtcpb\n",
      "count    1.753410e+05\n",
      "mean     9.688770e+08\n",
      "std      1.354000e+09\n",
      "min      0.000000e+00\n",
      "25%      0.000000e+00\n",
      "50%      0.000000e+00\n",
      "75%      1.913675e+09\n",
      "max      4.294882e+09\n",
      "Name: dtcpb, dtype: float64\n",
      "\n",
      "\n",
      "dwin\n",
      "count    175341.000000\n",
      "mean        115.013625\n",
      "std         126.886530\n",
      "min           0.000000\n",
      "25%           0.000000\n",
      "50%           0.000000\n",
      "75%         255.000000\n",
      "max         255.000000\n",
      "Name: dwin, dtype: float64\n",
      "\n",
      "\n",
      "tcprtt\n",
      "count    175341.000000\n",
      "mean          0.041396\n",
      "std           0.079354\n",
      "min           0.000000\n",
      "25%           0.000000\n",
      "50%           0.000000\n",
      "75%           0.065481\n",
      "max           2.518893\n",
      "Name: tcprtt, dtype: float64\n",
      "\n",
      "\n",
      "synack\n",
      "count    175341.000000\n",
      "mean          0.021020\n",
      "std           0.043400\n",
      "min           0.000000\n",
      "25%           0.000000\n",
      "50%           0.000000\n",
      "75%           0.023268\n",
      "max           2.100352\n",
      "Name: synack, dtype: float64\n",
      "\n",
      "\n",
      "ackdat\n",
      "count    175341.000000\n",
      "mean          0.020375\n",
      "std           0.040506\n",
      "min           0.000000\n",
      "25%           0.000000\n",
      "50%           0.000000\n",
      "75%           0.038906\n",
      "max           1.520884\n",
      "Name: ackdat, dtype: float64\n",
      "\n",
      "\n",
      "smean\n",
      "count    175341.000000\n",
      "mean        136.751769\n",
      "std         204.677360\n",
      "min          28.000000\n",
      "25%          57.000000\n",
      "50%          73.000000\n",
      "75%         100.000000\n",
      "max        1504.000000\n",
      "Name: smean, dtype: float64\n",
      "\n",
      "\n",
      "dmean\n",
      "count    175341.000000\n",
      "mean        124.173382\n",
      "std         258.317056\n",
      "min           0.000000\n",
      "25%           0.000000\n",
      "50%          44.000000\n",
      "75%          89.000000\n",
      "max        1458.000000\n",
      "Name: dmean, dtype: float64\n",
      "\n",
      "\n",
      "trans_depth\n",
      "count    175341.000000\n",
      "mean          0.105982\n",
      "std           0.776911\n",
      "min           0.000000\n",
      "25%           0.000000\n",
      "50%           0.000000\n",
      "75%           0.000000\n",
      "max         172.000000\n",
      "Name: trans_depth, dtype: float64\n",
      "\n",
      "\n",
      "response_body_len\n",
      "count    1.753410e+05\n",
      "mean     2.144292e+03\n",
      "std      5.420797e+04\n",
      "min      0.000000e+00\n",
      "25%      0.000000e+00\n",
      "50%      0.000000e+00\n",
      "75%      0.000000e+00\n",
      "max      6.558056e+06\n",
      "Name: response_body_len, dtype: float64\n",
      "\n",
      "\n",
      "ct_srv_src\n",
      "count    175341.000000\n",
      "mean          9.306437\n",
      "std          10.704331\n",
      "min           1.000000\n",
      "25%           2.000000\n",
      "50%           5.000000\n",
      "75%          12.000000\n",
      "max          63.000000\n",
      "Name: ct_srv_src, dtype: float64\n",
      "\n",
      "\n",
      "ct_state_ttl\n",
      "count    175341.000000\n",
      "mean          1.304179\n",
      "std           0.954406\n",
      "min           0.000000\n",
      "25%           1.000000\n",
      "50%           1.000000\n",
      "75%           2.000000\n",
      "max           6.000000\n",
      "Name: ct_state_ttl, dtype: float64\n",
      "\n",
      "\n",
      "ct_dst_ltm\n",
      "count    175341.000000\n",
      "mean          6.193936\n",
      "std           8.052476\n",
      "min           1.000000\n",
      "25%           1.000000\n",
      "50%           2.000000\n",
      "75%           7.000000\n",
      "max          51.000000\n",
      "Name: ct_dst_ltm, dtype: float64\n",
      "\n",
      "\n",
      "ct_src_dport_ltm\n",
      "count    175341.000000\n",
      "mean          5.383538\n",
      "std           8.047104\n",
      "min           1.000000\n",
      "25%           1.000000\n",
      "50%           1.000000\n",
      "75%           5.000000\n",
      "max          51.000000\n",
      "Name: ct_src_dport_ltm, dtype: float64\n",
      "\n",
      "\n",
      "ct_dst_sport_ltm\n",
      "count    175341.000000\n",
      "mean          4.206255\n",
      "std           5.783585\n",
      "min           1.000000\n",
      "25%           1.000000\n",
      "50%           1.000000\n",
      "75%           3.000000\n",
      "max          46.000000\n",
      "Name: ct_dst_sport_ltm, dtype: float64\n",
      "\n",
      "\n",
      "ct_dst_src_ltm\n",
      "count    175341.000000\n",
      "mean          8.729881\n",
      "std          10.956186\n",
      "min           1.000000\n",
      "25%           1.000000\n",
      "50%           3.000000\n",
      "75%          12.000000\n",
      "max          65.000000\n",
      "Name: ct_dst_src_ltm, dtype: float64\n",
      "\n",
      "\n",
      "is_ftp_login\n",
      "count    175341.000000\n",
      "mean          0.014948\n",
      "std           0.126048\n",
      "min           0.000000\n",
      "25%           0.000000\n",
      "50%           0.000000\n",
      "75%           0.000000\n",
      "max           4.000000\n",
      "Name: is_ftp_login, dtype: float64\n",
      "\n",
      "\n",
      "ct_ftp_cmd\n",
      "count    175341.000000\n",
      "mean          0.014948\n",
      "std           0.126048\n",
      "min           0.000000\n",
      "25%           0.000000\n",
      "50%           0.000000\n",
      "75%           0.000000\n",
      "max           4.000000\n",
      "Name: ct_ftp_cmd, dtype: float64\n",
      "\n",
      "\n",
      "ct_flw_http_mthd\n",
      "count    175341.000000\n",
      "mean          0.133066\n",
      "std           0.701208\n",
      "min           0.000000\n",
      "25%           0.000000\n",
      "50%           0.000000\n",
      "75%           0.000000\n",
      "max          30.000000\n",
      "Name: ct_flw_http_mthd, dtype: float64\n",
      "\n",
      "\n",
      "ct_src_ltm\n",
      "count    175341.000000\n",
      "mean          6.955789\n",
      "std           8.321493\n",
      "min           1.000000\n",
      "25%           2.000000\n",
      "50%           3.000000\n",
      "75%           9.000000\n",
      "max          60.000000\n",
      "Name: ct_src_ltm, dtype: float64\n",
      "\n",
      "\n",
      "ct_srv_dst\n",
      "count    175341.000000\n",
      "mean          9.100758\n",
      "std          10.756952\n",
      "min           1.000000\n",
      "25%           2.000000\n",
      "50%           4.000000\n",
      "75%          12.000000\n",
      "max          62.000000\n",
      "Name: ct_srv_dst, dtype: float64\n",
      "\n",
      "\n",
      "is_sm_ips_ports\n",
      "count    175341.000000\n",
      "mean          0.015752\n",
      "std           0.124516\n",
      "min           0.000000\n",
      "25%           0.000000\n",
      "50%           0.000000\n",
      "75%           0.000000\n",
      "max           1.000000\n",
      "Name: is_sm_ips_ports, dtype: float64\n",
      "\n",
      "\n",
      "label\n",
      "count    175341.000000\n",
      "mean          0.680622\n",
      "std           0.466237\n",
      "min           0.000000\n",
      "25%           0.000000\n",
      "50%           1.000000\n",
      "75%           1.000000\n",
      "max           1.000000\n",
      "Name: label, dtype: float64\n",
      "\n",
      "\n"
     ]
    }
   ],
   "source": [
    "for column in df_train.columns:\n",
    "    if df_train[column].dtype != 'object':\n",
    "        print(column)\n",
    "        print(df_train[column].describe())\n",
    "        print(\"\\n\")"
   ]
  },
  {
   "cell_type": "code",
   "execution_count": 4,
   "metadata": {},
   "outputs": [
    {
     "name": "stdout",
     "output_type": "stream",
     "text": [
      "id\n",
      "count    82332.000000\n",
      "mean     41166.500000\n",
      "std      23767.345519\n",
      "min          1.000000\n",
      "25%      20583.750000\n",
      "50%      41166.500000\n",
      "75%      61749.250000\n",
      "max      82332.000000\n",
      "Name: id, dtype: float64\n",
      "\n",
      "\n",
      "dur\n",
      "count    82332.000000\n",
      "mean         1.006756\n",
      "std          4.710444\n",
      "min          0.000000\n",
      "25%          0.000008\n",
      "50%          0.014138\n",
      "75%          0.719360\n",
      "max         59.999989\n",
      "Name: dur, dtype: float64\n",
      "\n",
      "\n",
      "spkts\n",
      "count    82332.000000\n",
      "mean        18.666472\n",
      "std        133.916353\n",
      "min          1.000000\n",
      "25%          2.000000\n",
      "50%          6.000000\n",
      "75%         12.000000\n",
      "max      10646.000000\n",
      "Name: spkts, dtype: float64\n",
      "\n",
      "\n",
      "dpkts\n",
      "count    82332.000000\n",
      "mean        17.545936\n",
      "std        115.574086\n",
      "min          0.000000\n",
      "25%          0.000000\n",
      "50%          2.000000\n",
      "75%         10.000000\n",
      "max      11018.000000\n",
      "Name: dpkts, dtype: float64\n",
      "\n",
      "\n",
      "sbytes\n",
      "count    8.233200e+04\n",
      "mean     7.993908e+03\n",
      "std      1.716423e+05\n",
      "min      2.400000e+01\n",
      "25%      1.140000e+02\n",
      "50%      5.340000e+02\n",
      "75%      1.280000e+03\n",
      "max      1.435577e+07\n",
      "Name: sbytes, dtype: float64\n",
      "\n",
      "\n",
      "dbytes\n",
      "count    8.233200e+04\n",
      "mean     1.323379e+04\n",
      "std      1.514715e+05\n",
      "min      0.000000e+00\n",
      "25%      0.000000e+00\n",
      "50%      1.780000e+02\n",
      "75%      9.560000e+02\n",
      "max      1.465753e+07\n",
      "Name: dbytes, dtype: float64\n",
      "\n",
      "\n",
      "rate\n",
      "count    8.233200e+04\n",
      "mean     8.241089e+04\n",
      "std      1.486204e+05\n",
      "min      0.000000e+00\n",
      "25%      2.860611e+01\n",
      "50%      2.650177e+03\n",
      "75%      1.111111e+05\n",
      "max      1.000000e+06\n",
      "Name: rate, dtype: float64\n",
      "\n",
      "\n",
      "sttl\n",
      "count    82332.000000\n",
      "mean       180.967667\n",
      "std        101.513358\n",
      "min          0.000000\n",
      "25%         62.000000\n",
      "50%        254.000000\n",
      "75%        254.000000\n",
      "max        255.000000\n",
      "Name: sttl, dtype: float64\n",
      "\n",
      "\n",
      "dttl\n",
      "count    82332.000000\n",
      "mean        95.713003\n",
      "std        116.667722\n",
      "min          0.000000\n",
      "25%          0.000000\n",
      "50%         29.000000\n",
      "75%        252.000000\n",
      "max        253.000000\n",
      "Name: dttl, dtype: float64\n",
      "\n",
      "\n",
      "sload\n",
      "count    8.233200e+04\n",
      "mean     6.454902e+07\n",
      "std      1.798618e+08\n",
      "min      0.000000e+00\n",
      "25%      1.120247e+04\n",
      "50%      5.770032e+05\n",
      "75%      6.514286e+07\n",
      "max      5.268000e+09\n",
      "Name: sload, dtype: float64\n",
      "\n",
      "\n",
      "dload\n",
      "count    8.233200e+04\n",
      "mean     6.305470e+05\n",
      "std      2.393001e+06\n",
      "min      0.000000e+00\n",
      "25%      0.000000e+00\n",
      "50%      2.112951e+03\n",
      "75%      1.585808e+04\n",
      "max      2.082111e+07\n",
      "Name: dload, dtype: float64\n",
      "\n",
      "\n",
      "sloss\n",
      "count    82332.000000\n",
      "mean         4.753692\n",
      "std         64.649620\n",
      "min          0.000000\n",
      "25%          0.000000\n",
      "50%          1.000000\n",
      "75%          3.000000\n",
      "max       5319.000000\n",
      "Name: sloss, dtype: float64\n",
      "\n",
      "\n",
      "dloss\n",
      "count    82332.000000\n",
      "mean         6.308556\n",
      "std         55.708021\n",
      "min          0.000000\n",
      "25%          0.000000\n",
      "50%          0.000000\n",
      "75%          2.000000\n",
      "max       5507.000000\n",
      "Name: dloss, dtype: float64\n",
      "\n",
      "\n",
      "sinpkt\n",
      "count    82332.000000\n",
      "mean       755.394301\n",
      "std       6182.615732\n",
      "min          0.000000\n",
      "25%          0.008000\n",
      "50%          0.557929\n",
      "75%         63.409444\n",
      "max      60009.992000\n",
      "Name: sinpkt, dtype: float64\n",
      "\n",
      "\n",
      "dinpkt\n",
      "count    82332.000000\n",
      "mean       121.701284\n",
      "std       1292.378499\n",
      "min          0.000000\n",
      "25%          0.000000\n",
      "50%          0.010000\n",
      "75%         63.136369\n",
      "max      57739.240000\n",
      "Name: dinpkt, dtype: float64\n",
      "\n",
      "\n",
      "sjit\n",
      "count    8.233200e+04\n",
      "mean     6.363075e+03\n",
      "std      5.672402e+04\n",
      "min      0.000000e+00\n",
      "25%      0.000000e+00\n",
      "50%      1.762392e+01\n",
      "75%      3.219332e+03\n",
      "max      1.483831e+06\n",
      "Name: sjit, dtype: float64\n",
      "\n",
      "\n",
      "djit\n",
      "count     82332.000000\n",
      "mean        535.180430\n",
      "std        3635.305383\n",
      "min           0.000000\n",
      "25%           0.000000\n",
      "50%           0.000000\n",
      "75%         128.459914\n",
      "max      463199.240100\n",
      "Name: djit, dtype: float64\n",
      "\n",
      "\n",
      "swin\n",
      "count    82332.00000\n",
      "mean       133.45908\n",
      "std        127.35700\n",
      "min          0.00000\n",
      "25%          0.00000\n",
      "50%        255.00000\n",
      "75%        255.00000\n",
      "max        255.00000\n",
      "Name: swin, dtype: float64\n",
      "\n",
      "\n",
      "stcpb\n",
      "count    8.233200e+04\n",
      "mean     1.084642e+09\n",
      "std      1.390860e+09\n",
      "min      0.000000e+00\n",
      "25%      0.000000e+00\n",
      "50%      2.788886e+07\n",
      "75%      2.171310e+09\n",
      "max      4.294950e+09\n",
      "Name: stcpb, dtype: float64\n",
      "\n",
      "\n",
      "dtcpb\n",
      "count    8.233200e+04\n",
      "mean     1.073465e+09\n",
      "std      1.381996e+09\n",
      "min      0.000000e+00\n",
      "25%      0.000000e+00\n",
      "50%      2.856975e+07\n",
      "75%      2.144205e+09\n",
      "max      4.294881e+09\n",
      "Name: dtcpb, dtype: float64\n",
      "\n",
      "\n",
      "dwin\n",
      "count    82332.00000\n",
      "mean       128.28662\n",
      "std        127.49137\n",
      "min          0.00000\n",
      "25%          0.00000\n",
      "50%        255.00000\n",
      "75%        255.00000\n",
      "max        255.00000\n",
      "Name: dwin, dtype: float64\n",
      "\n",
      "\n",
      "tcprtt\n",
      "count    82332.000000\n",
      "mean         0.055925\n",
      "std          0.116022\n",
      "min          0.000000\n",
      "25%          0.000000\n",
      "50%          0.000551\n",
      "75%          0.105541\n",
      "max          3.821465\n",
      "Name: tcprtt, dtype: float64\n",
      "\n",
      "\n",
      "synack\n",
      "count    82332.000000\n",
      "mean         0.029256\n",
      "std          0.070854\n",
      "min          0.000000\n",
      "25%          0.000000\n",
      "50%          0.000441\n",
      "75%          0.052596\n",
      "max          3.226788\n",
      "Name: synack, dtype: float64\n",
      "\n",
      "\n",
      "ackdat\n",
      "count    82332.000000\n",
      "mean         0.026669\n",
      "std          0.055094\n",
      "min          0.000000\n",
      "25%          0.000000\n",
      "50%          0.000080\n",
      "75%          0.048816\n",
      "max          2.928778\n",
      "Name: ackdat, dtype: float64\n",
      "\n",
      "\n",
      "smean\n",
      "count    82332.000000\n",
      "mean       139.528604\n",
      "std        208.472063\n",
      "min         24.000000\n",
      "25%         57.000000\n",
      "50%         65.000000\n",
      "75%        100.000000\n",
      "max       1504.000000\n",
      "Name: smean, dtype: float64\n",
      "\n",
      "\n",
      "dmean\n",
      "count    82332.000000\n",
      "mean       116.275069\n",
      "std        244.600271\n",
      "min          0.000000\n",
      "25%          0.000000\n",
      "50%         44.000000\n",
      "75%         87.000000\n",
      "max       1500.000000\n",
      "Name: dmean, dtype: float64\n",
      "\n",
      "\n",
      "trans_depth\n",
      "count    82332.000000\n",
      "mean         0.094277\n",
      "std          0.542922\n",
      "min          0.000000\n",
      "25%          0.000000\n",
      "50%          0.000000\n",
      "75%          0.000000\n",
      "max        131.000000\n",
      "Name: trans_depth, dtype: float64\n",
      "\n",
      "\n",
      "response_body_len\n",
      "count    8.233200e+04\n",
      "mean     1.595372e+03\n",
      "std      3.806697e+04\n",
      "min      0.000000e+00\n",
      "25%      0.000000e+00\n",
      "50%      0.000000e+00\n",
      "75%      0.000000e+00\n",
      "max      5.242880e+06\n",
      "Name: response_body_len, dtype: float64\n",
      "\n",
      "\n",
      "ct_srv_src\n",
      "count    82332.000000\n",
      "mean         9.546604\n",
      "std         11.090289\n",
      "min          1.000000\n",
      "25%          2.000000\n",
      "50%          5.000000\n",
      "75%         11.000000\n",
      "max         63.000000\n",
      "Name: ct_srv_src, dtype: float64\n",
      "\n",
      "\n",
      "ct_state_ttl\n",
      "count    82332.000000\n",
      "mean         1.369273\n",
      "std          1.067188\n",
      "min          0.000000\n",
      "25%          1.000000\n",
      "50%          1.000000\n",
      "75%          2.000000\n",
      "max          6.000000\n",
      "Name: ct_state_ttl, dtype: float64\n",
      "\n",
      "\n",
      "ct_dst_ltm\n",
      "count    82332.000000\n",
      "mean         5.744923\n",
      "std          8.418112\n",
      "min          1.000000\n",
      "25%          1.000000\n",
      "50%          2.000000\n",
      "75%          6.000000\n",
      "max         59.000000\n",
      "Name: ct_dst_ltm, dtype: float64\n",
      "\n",
      "\n",
      "ct_src_dport_ltm\n",
      "count    82332.000000\n",
      "mean         4.928898\n",
      "std          8.389545\n",
      "min          1.000000\n",
      "25%          1.000000\n",
      "50%          1.000000\n",
      "75%          4.000000\n",
      "max         59.000000\n",
      "Name: ct_src_dport_ltm, dtype: float64\n",
      "\n",
      "\n",
      "ct_dst_sport_ltm\n",
      "count    82332.000000\n",
      "mean         3.663011\n",
      "std          5.915386\n",
      "min          1.000000\n",
      "25%          1.000000\n",
      "50%          1.000000\n",
      "75%          3.000000\n",
      "max         38.000000\n",
      "Name: ct_dst_sport_ltm, dtype: float64\n",
      "\n",
      "\n",
      "ct_dst_src_ltm\n",
      "count    82332.000000\n",
      "mean         7.456360\n",
      "std         11.415191\n",
      "min          1.000000\n",
      "25%          1.000000\n",
      "50%          3.000000\n",
      "75%          6.000000\n",
      "max         63.000000\n",
      "Name: ct_dst_src_ltm, dtype: float64\n",
      "\n",
      "\n",
      "is_ftp_login\n",
      "count    82332.000000\n",
      "mean         0.008284\n",
      "std          0.091171\n",
      "min          0.000000\n",
      "25%          0.000000\n",
      "50%          0.000000\n",
      "75%          0.000000\n",
      "max          2.000000\n",
      "Name: is_ftp_login, dtype: float64\n",
      "\n",
      "\n",
      "ct_ftp_cmd\n",
      "count    82332.000000\n",
      "mean         0.008381\n",
      "std          0.092485\n",
      "min          0.000000\n",
      "25%          0.000000\n",
      "50%          0.000000\n",
      "75%          0.000000\n",
      "max          2.000000\n",
      "Name: ct_ftp_cmd, dtype: float64\n",
      "\n",
      "\n",
      "ct_flw_http_mthd\n",
      "count    82332.000000\n",
      "mean         0.129743\n",
      "std          0.638683\n",
      "min          0.000000\n",
      "25%          0.000000\n",
      "50%          0.000000\n",
      "75%          0.000000\n",
      "max         16.000000\n",
      "Name: ct_flw_http_mthd, dtype: float64\n",
      "\n",
      "\n",
      "ct_src_ltm\n",
      "count    82332.000000\n",
      "mean         6.468360\n",
      "std          8.543927\n",
      "min          1.000000\n",
      "25%          1.000000\n",
      "50%          3.000000\n",
      "75%          7.000000\n",
      "max         60.000000\n",
      "Name: ct_src_ltm, dtype: float64\n",
      "\n",
      "\n",
      "ct_srv_dst\n",
      "count    82332.000000\n",
      "mean         9.164262\n",
      "std         11.121413\n",
      "min          1.000000\n",
      "25%          2.000000\n",
      "50%          5.000000\n",
      "75%         11.000000\n",
      "max         62.000000\n",
      "Name: ct_srv_dst, dtype: float64\n",
      "\n",
      "\n",
      "is_sm_ips_ports\n",
      "count    82332.000000\n",
      "mean         0.011126\n",
      "std          0.104891\n",
      "min          0.000000\n",
      "25%          0.000000\n",
      "50%          0.000000\n",
      "75%          0.000000\n",
      "max          1.000000\n",
      "Name: is_sm_ips_ports, dtype: float64\n",
      "\n",
      "\n",
      "label\n",
      "count    82332.000000\n",
      "mean         0.550600\n",
      "std          0.497436\n",
      "min          0.000000\n",
      "25%          0.000000\n",
      "50%          1.000000\n",
      "75%          1.000000\n",
      "max          1.000000\n",
      "Name: label, dtype: float64\n",
      "\n",
      "\n"
     ]
    }
   ],
   "source": [
    "for column in df_test.columns:\n",
    "    if df_test[column].dtype != 'object':\n",
    "        print(column)\n",
    "        print(df_test[column].describe())\n",
    "        print(\"\\n\")"
   ]
  },
  {
   "cell_type": "code",
   "execution_count": 5,
   "metadata": {},
   "outputs": [
    {
     "data": {
      "text/html": [
       "<div>\n",
       "<style scoped>\n",
       "    .dataframe tbody tr th:only-of-type {\n",
       "        vertical-align: middle;\n",
       "    }\n",
       "\n",
       "    .dataframe tbody tr th {\n",
       "        vertical-align: top;\n",
       "    }\n",
       "\n",
       "    .dataframe thead th {\n",
       "        text-align: right;\n",
       "    }\n",
       "</style>\n",
       "<table border=\"1\" class=\"dataframe\">\n",
       "  <thead>\n",
       "    <tr style=\"text-align: right;\">\n",
       "      <th></th>\n",
       "      <th>id</th>\n",
       "      <th>dur</th>\n",
       "      <th>proto</th>\n",
       "      <th>service</th>\n",
       "      <th>state</th>\n",
       "      <th>spkts</th>\n",
       "      <th>dpkts</th>\n",
       "      <th>sbytes</th>\n",
       "      <th>dbytes</th>\n",
       "      <th>rate</th>\n",
       "      <th>...</th>\n",
       "      <th>ct_dst_sport_ltm</th>\n",
       "      <th>ct_dst_src_ltm</th>\n",
       "      <th>is_ftp_login</th>\n",
       "      <th>ct_ftp_cmd</th>\n",
       "      <th>ct_flw_http_mthd</th>\n",
       "      <th>ct_src_ltm</th>\n",
       "      <th>ct_srv_dst</th>\n",
       "      <th>is_sm_ips_ports</th>\n",
       "      <th>attack_cat</th>\n",
       "      <th>label</th>\n",
       "    </tr>\n",
       "  </thead>\n",
       "  <tbody>\n",
       "    <tr>\n",
       "      <th>0</th>\n",
       "      <td>1</td>\n",
       "      <td>0.179469</td>\n",
       "      <td>tcp</td>\n",
       "      <td>-</td>\n",
       "      <td>FIN</td>\n",
       "      <td>0.4</td>\n",
       "      <td>0.2</td>\n",
       "      <td>-0.131902</td>\n",
       "      <td>0.007260</td>\n",
       "      <td>-0.025220</td>\n",
       "      <td>...</td>\n",
       "      <td>0.0</td>\n",
       "      <td>-0.181818</td>\n",
       "      <td>0.0</td>\n",
       "      <td>0.0</td>\n",
       "      <td>0.0</td>\n",
       "      <td>-0.285714</td>\n",
       "      <td>-0.3</td>\n",
       "      <td>0.0</td>\n",
       "      <td>Normal</td>\n",
       "      <td>0</td>\n",
       "    </tr>\n",
       "    <tr>\n",
       "      <th>1</th>\n",
       "      <td>2</td>\n",
       "      <td>0.970450</td>\n",
       "      <td>tcp</td>\n",
       "      <td>-</td>\n",
       "      <td>FIN</td>\n",
       "      <td>1.2</td>\n",
       "      <td>3.6</td>\n",
       "      <td>0.233129</td>\n",
       "      <td>37.976407</td>\n",
       "      <td>-0.025185</td>\n",
       "      <td>...</td>\n",
       "      <td>0.0</td>\n",
       "      <td>-0.090909</td>\n",
       "      <td>0.0</td>\n",
       "      <td>0.0</td>\n",
       "      <td>0.0</td>\n",
       "      <td>-0.285714</td>\n",
       "      <td>0.2</td>\n",
       "      <td>0.0</td>\n",
       "      <td>Normal</td>\n",
       "      <td>0</td>\n",
       "    </tr>\n",
       "    <tr>\n",
       "      <th>2</th>\n",
       "      <td>3</td>\n",
       "      <td>2.427244</td>\n",
       "      <td>tcp</td>\n",
       "      <td>-</td>\n",
       "      <td>FIN</td>\n",
       "      <td>0.6</td>\n",
       "      <td>1.4</td>\n",
       "      <td>-0.050613</td>\n",
       "      <td>11.816697</td>\n",
       "      <td>-0.025700</td>\n",
       "      <td>...</td>\n",
       "      <td>0.0</td>\n",
       "      <td>0.000000</td>\n",
       "      <td>0.0</td>\n",
       "      <td>0.0</td>\n",
       "      <td>0.0</td>\n",
       "      <td>-0.142857</td>\n",
       "      <td>0.2</td>\n",
       "      <td>0.0</td>\n",
       "      <td>Normal</td>\n",
       "      <td>0</td>\n",
       "    </tr>\n",
       "    <tr>\n",
       "      <th>3</th>\n",
       "      <td>4</td>\n",
       "      <td>2.514830</td>\n",
       "      <td>tcp</td>\n",
       "      <td>ftp</td>\n",
       "      <td>FIN</td>\n",
       "      <td>1.0</td>\n",
       "      <td>1.0</td>\n",
       "      <td>0.151840</td>\n",
       "      <td>0.549909</td>\n",
       "      <td>-0.025704</td>\n",
       "      <td>...</td>\n",
       "      <td>0.0</td>\n",
       "      <td>0.000000</td>\n",
       "      <td>1.0</td>\n",
       "      <td>1.0</td>\n",
       "      <td>0.0</td>\n",
       "      <td>-0.142857</td>\n",
       "      <td>-0.3</td>\n",
       "      <td>0.0</td>\n",
       "      <td>Normal</td>\n",
       "      <td>0</td>\n",
       "    </tr>\n",
       "    <tr>\n",
       "      <th>4</th>\n",
       "      <td>5</td>\n",
       "      <td>0.670406</td>\n",
       "      <td>tcp</td>\n",
       "      <td>-</td>\n",
       "      <td>FIN</td>\n",
       "      <td>0.8</td>\n",
       "      <td>0.4</td>\n",
       "      <td>0.079755</td>\n",
       "      <td>0.094374</td>\n",
       "      <td>-0.025546</td>\n",
       "      <td>...</td>\n",
       "      <td>0.0</td>\n",
       "      <td>3.363636</td>\n",
       "      <td>0.0</td>\n",
       "      <td>0.0</td>\n",
       "      <td>0.0</td>\n",
       "      <td>-0.142857</td>\n",
       "      <td>3.5</td>\n",
       "      <td>0.0</td>\n",
       "      <td>Normal</td>\n",
       "      <td>0</td>\n",
       "    </tr>\n",
       "    <tr>\n",
       "      <th>...</th>\n",
       "      <td>...</td>\n",
       "      <td>...</td>\n",
       "      <td>...</td>\n",
       "      <td>...</td>\n",
       "      <td>...</td>\n",
       "      <td>...</td>\n",
       "      <td>...</td>\n",
       "      <td>...</td>\n",
       "      <td>...</td>\n",
       "      <td>...</td>\n",
       "      <td>...</td>\n",
       "      <td>...</td>\n",
       "      <td>...</td>\n",
       "      <td>...</td>\n",
       "      <td>...</td>\n",
       "      <td>...</td>\n",
       "      <td>...</td>\n",
       "      <td>...</td>\n",
       "      <td>...</td>\n",
       "      <td>...</td>\n",
       "      <td>...</td>\n",
       "    </tr>\n",
       "    <tr>\n",
       "      <th>175336</th>\n",
       "      <td>175337</td>\n",
       "      <td>-0.002355</td>\n",
       "      <td>udp</td>\n",
       "      <td>dns</td>\n",
       "      <td>INT</td>\n",
       "      <td>0.0</td>\n",
       "      <td>-0.2</td>\n",
       "      <td>-0.242331</td>\n",
       "      <td>-0.148820</td>\n",
       "      <td>0.863309</td>\n",
       "      <td>...</td>\n",
       "      <td>6.0</td>\n",
       "      <td>1.909091</td>\n",
       "      <td>0.0</td>\n",
       "      <td>0.0</td>\n",
       "      <td>0.0</td>\n",
       "      <td>3.000000</td>\n",
       "      <td>2.0</td>\n",
       "      <td>0.0</td>\n",
       "      <td>Generic</td>\n",
       "      <td>1</td>\n",
       "    </tr>\n",
       "    <tr>\n",
       "      <th>175337</th>\n",
       "      <td>175338</td>\n",
       "      <td>0.754692</td>\n",
       "      <td>tcp</td>\n",
       "      <td>-</td>\n",
       "      <td>FIN</td>\n",
       "      <td>0.8</td>\n",
       "      <td>0.6</td>\n",
       "      <td>0.145706</td>\n",
       "      <td>0.172414</td>\n",
       "      <td>-0.025544</td>\n",
       "      <td>...</td>\n",
       "      <td>0.0</td>\n",
       "      <td>-0.090909</td>\n",
       "      <td>0.0</td>\n",
       "      <td>0.0</td>\n",
       "      <td>0.0</td>\n",
       "      <td>-0.285714</td>\n",
       "      <td>-0.3</td>\n",
       "      <td>0.0</td>\n",
       "      <td>Shellcode</td>\n",
       "      <td>1</td>\n",
       "    </tr>\n",
       "    <tr>\n",
       "      <th>175338</th>\n",
       "      <td>175339</td>\n",
       "      <td>-0.002355</td>\n",
       "      <td>udp</td>\n",
       "      <td>dns</td>\n",
       "      <td>INT</td>\n",
       "      <td>0.0</td>\n",
       "      <td>-0.2</td>\n",
       "      <td>-0.242331</td>\n",
       "      <td>-0.148820</td>\n",
       "      <td>0.863309</td>\n",
       "      <td>...</td>\n",
       "      <td>1.0</td>\n",
       "      <td>0.909091</td>\n",
       "      <td>0.0</td>\n",
       "      <td>0.0</td>\n",
       "      <td>0.0</td>\n",
       "      <td>0.000000</td>\n",
       "      <td>0.8</td>\n",
       "      <td>0.0</td>\n",
       "      <td>Generic</td>\n",
       "      <td>1</td>\n",
       "    </tr>\n",
       "    <tr>\n",
       "      <th>175339</th>\n",
       "      <td>175340</td>\n",
       "      <td>-0.002355</td>\n",
       "      <td>udp</td>\n",
       "      <td>dns</td>\n",
       "      <td>INT</td>\n",
       "      <td>0.0</td>\n",
       "      <td>-0.2</td>\n",
       "      <td>-0.242331</td>\n",
       "      <td>-0.148820</td>\n",
       "      <td>0.863309</td>\n",
       "      <td>...</td>\n",
       "      <td>6.5</td>\n",
       "      <td>2.454545</td>\n",
       "      <td>0.0</td>\n",
       "      <td>0.0</td>\n",
       "      <td>0.0</td>\n",
       "      <td>3.857143</td>\n",
       "      <td>2.6</td>\n",
       "      <td>0.0</td>\n",
       "      <td>Generic</td>\n",
       "      <td>1</td>\n",
       "    </tr>\n",
       "    <tr>\n",
       "      <th>175340</th>\n",
       "      <td>175341</td>\n",
       "      <td>-0.002355</td>\n",
       "      <td>udp</td>\n",
       "      <td>dns</td>\n",
       "      <td>INT</td>\n",
       "      <td>0.0</td>\n",
       "      <td>-0.2</td>\n",
       "      <td>-0.242331</td>\n",
       "      <td>-0.148820</td>\n",
       "      <td>0.863309</td>\n",
       "      <td>...</td>\n",
       "      <td>7.5</td>\n",
       "      <td>2.454545</td>\n",
       "      <td>0.0</td>\n",
       "      <td>0.0</td>\n",
       "      <td>0.0</td>\n",
       "      <td>3.857143</td>\n",
       "      <td>2.6</td>\n",
       "      <td>0.0</td>\n",
       "      <td>Generic</td>\n",
       "      <td>1</td>\n",
       "    </tr>\n",
       "  </tbody>\n",
       "</table>\n",
       "<p>175341 rows × 45 columns</p>\n",
       "</div>"
      ],
      "text/plain": [
       "            id       dur proto service state  spkts  dpkts    sbytes  \\\n",
       "0            1  0.179469   tcp       -   FIN    0.4    0.2 -0.131902   \n",
       "1            2  0.970450   tcp       -   FIN    1.2    3.6  0.233129   \n",
       "2            3  2.427244   tcp       -   FIN    0.6    1.4 -0.050613   \n",
       "3            4  2.514830   tcp     ftp   FIN    1.0    1.0  0.151840   \n",
       "4            5  0.670406   tcp       -   FIN    0.8    0.4  0.079755   \n",
       "...        ...       ...   ...     ...   ...    ...    ...       ...   \n",
       "175336  175337 -0.002355   udp     dns   INT    0.0   -0.2 -0.242331   \n",
       "175337  175338  0.754692   tcp       -   FIN    0.8    0.6  0.145706   \n",
       "175338  175339 -0.002355   udp     dns   INT    0.0   -0.2 -0.242331   \n",
       "175339  175340 -0.002355   udp     dns   INT    0.0   -0.2 -0.242331   \n",
       "175340  175341 -0.002355   udp     dns   INT    0.0   -0.2 -0.242331   \n",
       "\n",
       "           dbytes      rate  ...  ct_dst_sport_ltm  ct_dst_src_ltm  \\\n",
       "0        0.007260 -0.025220  ...               0.0       -0.181818   \n",
       "1       37.976407 -0.025185  ...               0.0       -0.090909   \n",
       "2       11.816697 -0.025700  ...               0.0        0.000000   \n",
       "3        0.549909 -0.025704  ...               0.0        0.000000   \n",
       "4        0.094374 -0.025546  ...               0.0        3.363636   \n",
       "...           ...       ...  ...               ...             ...   \n",
       "175336  -0.148820  0.863309  ...               6.0        1.909091   \n",
       "175337   0.172414 -0.025544  ...               0.0       -0.090909   \n",
       "175338  -0.148820  0.863309  ...               1.0        0.909091   \n",
       "175339  -0.148820  0.863309  ...               6.5        2.454545   \n",
       "175340  -0.148820  0.863309  ...               7.5        2.454545   \n",
       "\n",
       "        is_ftp_login  ct_ftp_cmd  ct_flw_http_mthd  ct_src_ltm  ct_srv_dst  \\\n",
       "0                0.0         0.0               0.0   -0.285714        -0.3   \n",
       "1                0.0         0.0               0.0   -0.285714         0.2   \n",
       "2                0.0         0.0               0.0   -0.142857         0.2   \n",
       "3                1.0         1.0               0.0   -0.142857        -0.3   \n",
       "4                0.0         0.0               0.0   -0.142857         3.5   \n",
       "...              ...         ...               ...         ...         ...   \n",
       "175336           0.0         0.0               0.0    3.000000         2.0   \n",
       "175337           0.0         0.0               0.0   -0.285714        -0.3   \n",
       "175338           0.0         0.0               0.0    0.000000         0.8   \n",
       "175339           0.0         0.0               0.0    3.857143         2.6   \n",
       "175340           0.0         0.0               0.0    3.857143         2.6   \n",
       "\n",
       "        is_sm_ips_ports  attack_cat  label  \n",
       "0                   0.0      Normal      0  \n",
       "1                   0.0      Normal      0  \n",
       "2                   0.0      Normal      0  \n",
       "3                   0.0      Normal      0  \n",
       "4                   0.0      Normal      0  \n",
       "...                 ...         ...    ...  \n",
       "175336              0.0     Generic      1  \n",
       "175337              0.0   Shellcode      1  \n",
       "175338              0.0     Generic      1  \n",
       "175339              0.0     Generic      1  \n",
       "175340              0.0     Generic      1  \n",
       "\n",
       "[175341 rows x 45 columns]"
      ]
     },
     "execution_count": 5,
     "metadata": {},
     "output_type": "execute_result"
    }
   ],
   "source": [
    "from sklearn.preprocessing import RobustScaler\n",
    "\n",
    "numeric_cols = df_train.select_dtypes(include=['int64', 'float64']).columns.difference(['id','label'])\n",
    "\n",
    "# Initialize the RobustScaler\n",
    "scaler = RobustScaler()\n",
    "\n",
    "# Fit and transform the numeric columns\n",
    "df_train[numeric_cols] = scaler.fit_transform(df_train[numeric_cols])\n",
    "\n",
    "df_train"
   ]
  },
  {
   "cell_type": "code",
   "execution_count": 6,
   "metadata": {},
   "outputs": [],
   "source": [
    "numeric_cols = df_test.select_dtypes(include=['int64', 'float64']).columns.difference(['id','label'])\n",
    "\n",
    "# Initialize the RobustScaler\n",
    "scaler = RobustScaler()\n",
    "\n",
    "# Fit and transform the numeric columns\n",
    "df_test[numeric_cols] = scaler.fit_transform(df_test[numeric_cols])"
   ]
  },
  {
   "cell_type": "code",
   "execution_count": 7,
   "metadata": {},
   "outputs": [],
   "source": [
    "from sklearn.preprocessing import LabelEncoder\n",
    "\n",
    "string_cols = df_train.select_dtypes(include=['object']).columns\n",
    "\n",
    "# Initialize the LabelEncoder\n",
    "label_encoder = LabelEncoder()\n",
    "\n",
    "# Initialize a dictionary to store the mappings\n",
    "label_mappings = {}\n",
    "\n",
    "# Encode the string columns using label encoding\n",
    "for col in string_cols:\n",
    "    df_train[col] = label_encoder.fit_transform(df_train[col])\n",
    "    label_mappings[col] = dict(zip(label_encoder.classes_, label_encoder.transform(label_encoder.classes_)))"
   ]
  },
  {
   "cell_type": "code",
   "execution_count": 8,
   "metadata": {},
   "outputs": [
    {
     "data": {
      "text/plain": [
       "{'proto': {'3pc': 0,\n",
       "  'a/n': 1,\n",
       "  'aes-sp3-d': 2,\n",
       "  'any': 3,\n",
       "  'argus': 4,\n",
       "  'aris': 5,\n",
       "  'arp': 6,\n",
       "  'ax.25': 7,\n",
       "  'bbn-rcc': 8,\n",
       "  'bna': 9,\n",
       "  'br-sat-mon': 10,\n",
       "  'cbt': 11,\n",
       "  'cftp': 12,\n",
       "  'chaos': 13,\n",
       "  'compaq-peer': 14,\n",
       "  'cphb': 15,\n",
       "  'cpnx': 16,\n",
       "  'crtp': 17,\n",
       "  'crudp': 18,\n",
       "  'dcn': 19,\n",
       "  'ddp': 20,\n",
       "  'ddx': 21,\n",
       "  'dgp': 22,\n",
       "  'egp': 23,\n",
       "  'eigrp': 24,\n",
       "  'emcon': 25,\n",
       "  'encap': 26,\n",
       "  'etherip': 27,\n",
       "  'fc': 28,\n",
       "  'fire': 29,\n",
       "  'ggp': 30,\n",
       "  'gmtp': 31,\n",
       "  'gre': 32,\n",
       "  'hmp': 33,\n",
       "  'i-nlsp': 34,\n",
       "  'iatp': 35,\n",
       "  'ib': 36,\n",
       "  'icmp': 37,\n",
       "  'idpr': 38,\n",
       "  'idpr-cmtp': 39,\n",
       "  'idrp': 40,\n",
       "  'ifmp': 41,\n",
       "  'igmp': 42,\n",
       "  'igp': 43,\n",
       "  'il': 44,\n",
       "  'ip': 45,\n",
       "  'ipcomp': 46,\n",
       "  'ipcv': 47,\n",
       "  'ipip': 48,\n",
       "  'iplt': 49,\n",
       "  'ipnip': 50,\n",
       "  'ippc': 51,\n",
       "  'ipv6': 52,\n",
       "  'ipv6-frag': 53,\n",
       "  'ipv6-no': 54,\n",
       "  'ipv6-opts': 55,\n",
       "  'ipv6-route': 56,\n",
       "  'ipx-n-ip': 57,\n",
       "  'irtp': 58,\n",
       "  'isis': 59,\n",
       "  'iso-ip': 60,\n",
       "  'iso-tp4': 61,\n",
       "  'kryptolan': 62,\n",
       "  'l2tp': 63,\n",
       "  'larp': 64,\n",
       "  'leaf-1': 65,\n",
       "  'leaf-2': 66,\n",
       "  'merit-inp': 67,\n",
       "  'mfe-nsp': 68,\n",
       "  'mhrp': 69,\n",
       "  'micp': 70,\n",
       "  'mobile': 71,\n",
       "  'mtp': 72,\n",
       "  'mux': 73,\n",
       "  'narp': 74,\n",
       "  'netblt': 75,\n",
       "  'nsfnet-igp': 76,\n",
       "  'nvp': 77,\n",
       "  'ospf': 78,\n",
       "  'pgm': 79,\n",
       "  'pim': 80,\n",
       "  'pipe': 81,\n",
       "  'pnni': 82,\n",
       "  'pri-enc': 83,\n",
       "  'prm': 84,\n",
       "  'ptp': 85,\n",
       "  'pup': 86,\n",
       "  'pvp': 87,\n",
       "  'qnx': 88,\n",
       "  'rdp': 89,\n",
       "  'rsvp': 90,\n",
       "  'rtp': 91,\n",
       "  'rvd': 92,\n",
       "  'sat-expak': 93,\n",
       "  'sat-mon': 94,\n",
       "  'sccopmce': 95,\n",
       "  'scps': 96,\n",
       "  'sctp': 97,\n",
       "  'sdrp': 98,\n",
       "  'secure-vmtp': 99,\n",
       "  'sep': 100,\n",
       "  'skip': 101,\n",
       "  'sm': 102,\n",
       "  'smp': 103,\n",
       "  'snp': 104,\n",
       "  'sprite-rpc': 105,\n",
       "  'sps': 106,\n",
       "  'srp': 107,\n",
       "  'st2': 108,\n",
       "  'stp': 109,\n",
       "  'sun-nd': 110,\n",
       "  'swipe': 111,\n",
       "  'tcf': 112,\n",
       "  'tcp': 113,\n",
       "  'tlsp': 114,\n",
       "  'tp++': 115,\n",
       "  'trunk-1': 116,\n",
       "  'trunk-2': 117,\n",
       "  'ttp': 118,\n",
       "  'udp': 119,\n",
       "  'unas': 120,\n",
       "  'uti': 121,\n",
       "  'vines': 122,\n",
       "  'visa': 123,\n",
       "  'vmtp': 124,\n",
       "  'vrrp': 125,\n",
       "  'wb-expak': 126,\n",
       "  'wb-mon': 127,\n",
       "  'wsn': 128,\n",
       "  'xnet': 129,\n",
       "  'xns-idp': 130,\n",
       "  'xtp': 131,\n",
       "  'zero': 132},\n",
       " 'service': {'-': 0,\n",
       "  'dhcp': 1,\n",
       "  'dns': 2,\n",
       "  'ftp': 3,\n",
       "  'ftp-data': 4,\n",
       "  'http': 5,\n",
       "  'irc': 6,\n",
       "  'pop3': 7,\n",
       "  'radius': 8,\n",
       "  'smtp': 9,\n",
       "  'snmp': 10,\n",
       "  'ssh': 11,\n",
       "  'ssl': 12},\n",
       " 'state': {'CON': 0,\n",
       "  'ECO': 1,\n",
       "  'FIN': 2,\n",
       "  'INT': 3,\n",
       "  'PAR': 4,\n",
       "  'REQ': 5,\n",
       "  'RST': 6,\n",
       "  'URN': 7,\n",
       "  'no': 8},\n",
       " 'attack_cat': {'Analysis': 0,\n",
       "  'Backdoor': 1,\n",
       "  'DoS': 2,\n",
       "  'Exploits': 3,\n",
       "  'Fuzzers': 4,\n",
       "  'Generic': 5,\n",
       "  'Normal': 6,\n",
       "  'Reconnaissance': 7,\n",
       "  'Shellcode': 8,\n",
       "  'Worms': 9}}"
      ]
     },
     "execution_count": 8,
     "metadata": {},
     "output_type": "execute_result"
    }
   ],
   "source": [
    "label_mappings"
   ]
  },
  {
   "cell_type": "code",
   "execution_count": 9,
   "metadata": {},
   "outputs": [],
   "source": [
    "from sklearn.preprocessing import LabelEncoder\n",
    "\n",
    "string_cols = df_test.select_dtypes(include=['object']).columns\n",
    "\n",
    "# Initialize the LabelEncoder\n",
    "label_encoder = LabelEncoder()\n",
    "\n",
    "# Initialize a dictionary to store the mappings\n",
    "label_mappings = {}\n",
    "\n",
    "# Encode the string columns using label encoding\n",
    "for col in string_cols:\n",
    "    df_test[col] = label_encoder.fit_transform(df_test[col])\n",
    "    label_mappings[col] = dict(zip(label_encoder.classes_, label_encoder.transform(label_encoder.classes_)))"
   ]
  },
  {
   "cell_type": "code",
   "execution_count": 10,
   "metadata": {},
   "outputs": [
    {
     "name": "stderr",
     "output_type": "stream",
     "text": [
      "Evolving Generations:   2%|▎         | 1/40 [01:44<1:08:04, 104.73s/it]"
     ]
    },
    {
     "name": "stdout",
     "output_type": "stream",
     "text": [
      "Generation 1: Avg Fitness = 0.6194\n"
     ]
    },
    {
     "name": "stderr",
     "output_type": "stream",
     "text": [
      "Evolving Generations:   5%|▌         | 2/40 [03:21<1:03:11, 99.77s/it] "
     ]
    },
    {
     "name": "stdout",
     "output_type": "stream",
     "text": [
      "Generation 2: Avg Fitness = 0.6414\n"
     ]
    },
    {
     "name": "stderr",
     "output_type": "stream",
     "text": [
      "Evolving Generations:   8%|▊         | 3/40 [05:02<1:02:05, 100.69s/it]"
     ]
    },
    {
     "name": "stdout",
     "output_type": "stream",
     "text": [
      "Generation 3: Avg Fitness = 0.6656\n"
     ]
    },
    {
     "name": "stderr",
     "output_type": "stream",
     "text": [
      "Evolving Generations:  10%|█         | 4/40 [06:43<1:00:18, 100.51s/it]"
     ]
    },
    {
     "name": "stdout",
     "output_type": "stream",
     "text": [
      "Generation 4: Avg Fitness = 0.6817\n"
     ]
    },
    {
     "name": "stderr",
     "output_type": "stream",
     "text": [
      "Evolving Generations:  12%|█▎        | 5/40 [08:13<56:36, 97.04s/it]   "
     ]
    },
    {
     "name": "stdout",
     "output_type": "stream",
     "text": [
      "Generation 5: Avg Fitness = 0.6862\n"
     ]
    },
    {
     "name": "stderr",
     "output_type": "stream",
     "text": [
      "Evolving Generations:  15%|█▌        | 6/40 [09:44<53:45, 94.87s/it]"
     ]
    },
    {
     "name": "stdout",
     "output_type": "stream",
     "text": [
      "Generation 6: Avg Fitness = 0.6930\n"
     ]
    },
    {
     "name": "stderr",
     "output_type": "stream",
     "text": [
      "Evolving Generations:  18%|█▊        | 7/40 [11:11<50:49, 92.41s/it]"
     ]
    },
    {
     "name": "stdout",
     "output_type": "stream",
     "text": [
      "Generation 7: Avg Fitness = 0.6992\n"
     ]
    },
    {
     "name": "stderr",
     "output_type": "stream",
     "text": [
      "Evolving Generations:  20%|██        | 8/40 [12:39<48:30, 90.95s/it]"
     ]
    },
    {
     "name": "stdout",
     "output_type": "stream",
     "text": [
      "Generation 8: Avg Fitness = 0.6995\n"
     ]
    },
    {
     "name": "stderr",
     "output_type": "stream",
     "text": [
      "Evolving Generations:  22%|██▎       | 9/40 [14:06<46:22, 89.75s/it]"
     ]
    },
    {
     "name": "stdout",
     "output_type": "stream",
     "text": [
      "Generation 9: Avg Fitness = 0.7032\n"
     ]
    },
    {
     "name": "stderr",
     "output_type": "stream",
     "text": [
      "Evolving Generations:  25%|██▌       | 10/40 [15:32<44:10, 88.33s/it]"
     ]
    },
    {
     "name": "stdout",
     "output_type": "stream",
     "text": [
      "Generation 10: Avg Fitness = 0.7063\n"
     ]
    },
    {
     "name": "stderr",
     "output_type": "stream",
     "text": [
      "Evolving Generations:  28%|██▊       | 11/40 [16:54<41:46, 86.42s/it]"
     ]
    },
    {
     "name": "stdout",
     "output_type": "stream",
     "text": [
      "Generation 11: Avg Fitness = 0.7079\n"
     ]
    },
    {
     "name": "stderr",
     "output_type": "stream",
     "text": [
      "Evolving Generations:  30%|███       | 12/40 [18:17<39:53, 85.50s/it]"
     ]
    },
    {
     "name": "stdout",
     "output_type": "stream",
     "text": [
      "Generation 12: Avg Fitness = 0.7118\n"
     ]
    },
    {
     "name": "stderr",
     "output_type": "stream",
     "text": [
      "Evolving Generations:  32%|███▎      | 13/40 [19:39<37:56, 84.33s/it]"
     ]
    },
    {
     "name": "stdout",
     "output_type": "stream",
     "text": [
      "Generation 13: Avg Fitness = 0.7144\n"
     ]
    },
    {
     "name": "stderr",
     "output_type": "stream",
     "text": [
      "Evolving Generations:  35%|███▌      | 14/40 [21:00<36:09, 83.45s/it]"
     ]
    },
    {
     "name": "stdout",
     "output_type": "stream",
     "text": [
      "Generation 14: Avg Fitness = 0.7168\n"
     ]
    },
    {
     "name": "stderr",
     "output_type": "stream",
     "text": [
      "Evolving Generations:  38%|███▊      | 15/40 [22:18<34:05, 81.80s/it]"
     ]
    },
    {
     "name": "stdout",
     "output_type": "stream",
     "text": [
      "Generation 15: Avg Fitness = 0.7195\n"
     ]
    },
    {
     "name": "stderr",
     "output_type": "stream",
     "text": [
      "Evolving Generations:  40%|████      | 16/40 [23:34<32:02, 80.11s/it]"
     ]
    },
    {
     "name": "stdout",
     "output_type": "stream",
     "text": [
      "Generation 16: Avg Fitness = 0.7203\n"
     ]
    },
    {
     "name": "stderr",
     "output_type": "stream",
     "text": [
      "Evolving Generations:  42%|████▎     | 17/40 [24:51<30:19, 79.10s/it]"
     ]
    },
    {
     "name": "stdout",
     "output_type": "stream",
     "text": [
      "Generation 17: Avg Fitness = 0.7208\n"
     ]
    },
    {
     "name": "stderr",
     "output_type": "stream",
     "text": [
      "Evolving Generations:  45%|████▌     | 18/40 [26:12<29:10, 79.57s/it]"
     ]
    },
    {
     "name": "stdout",
     "output_type": "stream",
     "text": [
      "Generation 18: Avg Fitness = 0.7221\n"
     ]
    },
    {
     "name": "stderr",
     "output_type": "stream",
     "text": [
      "Evolving Generations:  48%|████▊     | 19/40 [27:31<27:47, 79.40s/it]"
     ]
    },
    {
     "name": "stdout",
     "output_type": "stream",
     "text": [
      "Generation 19: Avg Fitness = 0.7243\n"
     ]
    },
    {
     "name": "stderr",
     "output_type": "stream",
     "text": [
      "Evolving Generations:  50%|█████     | 20/40 [28:49<26:22, 79.15s/it]"
     ]
    },
    {
     "name": "stdout",
     "output_type": "stream",
     "text": [
      "Generation 20: Avg Fitness = 0.7250\n"
     ]
    },
    {
     "name": "stderr",
     "output_type": "stream",
     "text": [
      "Evolving Generations:  52%|█████▎    | 21/40 [30:10<25:14, 79.69s/it]"
     ]
    },
    {
     "name": "stdout",
     "output_type": "stream",
     "text": [
      "Generation 21: Avg Fitness = 0.7250\n"
     ]
    },
    {
     "name": "stderr",
     "output_type": "stream",
     "text": [
      "Evolving Generations:  55%|█████▌    | 22/40 [31:33<24:11, 80.63s/it]"
     ]
    },
    {
     "name": "stdout",
     "output_type": "stream",
     "text": [
      "Generation 22: Avg Fitness = 0.7253\n"
     ]
    },
    {
     "name": "stderr",
     "output_type": "stream",
     "text": [
      "Evolving Generations:  57%|█████▊    | 23/40 [32:52<22:44, 80.29s/it]"
     ]
    },
    {
     "name": "stdout",
     "output_type": "stream",
     "text": [
      "Generation 23: Avg Fitness = 0.7257\n"
     ]
    },
    {
     "name": "stderr",
     "output_type": "stream",
     "text": [
      "Evolving Generations:  60%|██████    | 24/40 [34:15<21:35, 80.97s/it]"
     ]
    },
    {
     "name": "stdout",
     "output_type": "stream",
     "text": [
      "Generation 24: Avg Fitness = 0.7258\n"
     ]
    },
    {
     "name": "stderr",
     "output_type": "stream",
     "text": [
      "Evolving Generations:  62%|██████▎   | 25/40 [35:33<20:00, 80.03s/it]"
     ]
    },
    {
     "name": "stdout",
     "output_type": "stream",
     "text": [
      "Generation 25: Avg Fitness = 0.7252\n"
     ]
    },
    {
     "name": "stderr",
     "output_type": "stream",
     "text": [
      "Evolving Generations:  65%|██████▌   | 26/40 [36:50<18:29, 79.24s/it]"
     ]
    },
    {
     "name": "stdout",
     "output_type": "stream",
     "text": [
      "Generation 26: Avg Fitness = 0.7262\n"
     ]
    },
    {
     "name": "stderr",
     "output_type": "stream",
     "text": [
      "Evolving Generations:  68%|██████▊   | 27/40 [38:06<16:56, 78.23s/it]"
     ]
    },
    {
     "name": "stdout",
     "output_type": "stream",
     "text": [
      "Generation 27: Avg Fitness = 0.7263\n"
     ]
    },
    {
     "name": "stderr",
     "output_type": "stream",
     "text": [
      "Evolving Generations:  70%|███████   | 28/40 [39:23<15:34, 77.91s/it]"
     ]
    },
    {
     "name": "stdout",
     "output_type": "stream",
     "text": [
      "Generation 28: Avg Fitness = 0.7263\n"
     ]
    },
    {
     "name": "stderr",
     "output_type": "stream",
     "text": [
      "Evolving Generations:  72%|███████▎  | 29/40 [40:39<14:10, 77.32s/it]"
     ]
    },
    {
     "name": "stdout",
     "output_type": "stream",
     "text": [
      "Generation 29: Avg Fitness = 0.7263\n"
     ]
    },
    {
     "name": "stderr",
     "output_type": "stream",
     "text": [
      "Evolving Generations:  75%|███████▌  | 30/40 [41:55<12:48, 76.80s/it]"
     ]
    },
    {
     "name": "stdout",
     "output_type": "stream",
     "text": [
      "Generation 30: Avg Fitness = 0.7263\n"
     ]
    },
    {
     "name": "stderr",
     "output_type": "stream",
     "text": [
      "Evolving Generations:  78%|███████▊  | 31/40 [43:10<11:27, 76.42s/it]"
     ]
    },
    {
     "name": "stdout",
     "output_type": "stream",
     "text": [
      "Generation 31: Avg Fitness = 0.7263\n"
     ]
    },
    {
     "name": "stderr",
     "output_type": "stream",
     "text": [
      "Evolving Generations:  80%|████████  | 32/40 [44:28<10:13, 76.69s/it]"
     ]
    },
    {
     "name": "stdout",
     "output_type": "stream",
     "text": [
      "Generation 32: Avg Fitness = 0.7263\n"
     ]
    },
    {
     "name": "stderr",
     "output_type": "stream",
     "text": [
      "Evolving Generations:  82%|████████▎ | 33/40 [45:44<08:56, 76.59s/it]"
     ]
    },
    {
     "name": "stdout",
     "output_type": "stream",
     "text": [
      "Generation 33: Avg Fitness = 0.7263\n"
     ]
    },
    {
     "name": "stderr",
     "output_type": "stream",
     "text": [
      "Evolving Generations:  85%|████████▌ | 34/40 [47:01<07:39, 76.58s/it]"
     ]
    },
    {
     "name": "stdout",
     "output_type": "stream",
     "text": [
      "Generation 34: Avg Fitness = 0.7263\n"
     ]
    },
    {
     "name": "stderr",
     "output_type": "stream",
     "text": [
      "Evolving Generations:  88%|████████▊ | 35/40 [48:19<06:26, 77.20s/it]"
     ]
    },
    {
     "name": "stdout",
     "output_type": "stream",
     "text": [
      "Generation 35: Avg Fitness = 0.7263\n"
     ]
    },
    {
     "name": "stderr",
     "output_type": "stream",
     "text": [
      "Evolving Generations:  90%|█████████ | 36/40 [49:37<05:09, 77.37s/it]"
     ]
    },
    {
     "name": "stdout",
     "output_type": "stream",
     "text": [
      "Generation 36: Avg Fitness = 0.7263\n"
     ]
    },
    {
     "name": "stderr",
     "output_type": "stream",
     "text": [
      "Evolving Generations:  92%|█████████▎| 37/40 [50:54<03:51, 77.24s/it]"
     ]
    },
    {
     "name": "stdout",
     "output_type": "stream",
     "text": [
      "Generation 37: Avg Fitness = 0.7261\n"
     ]
    },
    {
     "name": "stderr",
     "output_type": "stream",
     "text": [
      "Evolving Generations:  95%|█████████▌| 38/40 [52:10<02:34, 77.02s/it]"
     ]
    },
    {
     "name": "stdout",
     "output_type": "stream",
     "text": [
      "Generation 38: Avg Fitness = 0.7263\n"
     ]
    },
    {
     "name": "stderr",
     "output_type": "stream",
     "text": [
      "Evolving Generations:  98%|█████████▊| 39/40 [53:27<01:16, 76.85s/it]"
     ]
    },
    {
     "name": "stdout",
     "output_type": "stream",
     "text": [
      "Generation 39: Avg Fitness = 0.7263\n"
     ]
    },
    {
     "name": "stderr",
     "output_type": "stream",
     "text": [
      "Evolving Generations: 100%|██████████| 40/40 [54:44<00:00, 82.12s/it]\n"
     ]
    },
    {
     "name": "stdout",
     "output_type": "stream",
     "text": [
      "Generation 40: Avg Fitness = 0.7263\n",
      "Selected Features Index: [0, 1, 2, 3, 5, 9, 10, 14, 16, 17, 18, 19, 27, 31, 32, 34, 38, 40, 41]\n",
      "Best Fitness: 0.7263396978088714\n"
     ]
    }
   ],
   "source": [
    "import random\n",
    "import numpy as np\n",
    "from tqdm import tqdm\n",
    "from deap import base, creator, tools, algorithms\n",
    "from sklearn.metrics import accuracy_score\n",
    "from sklearn.ensemble import RandomForestClassifier\n",
    "from concurrent.futures import ThreadPoolExecutor\n",
    "\n",
    "X_train = df_train.drop(['label', 'attack_cat', 'id'], axis=1)  #\n",
    "y_train = df_train['attack_cat']  \n",
    "\n",
    "X_test = df_test.drop(['label', 'attack_cat', 'id'], axis=1)  \n",
    "y_test = df_test['attack_cat']\n",
    "\n",
    "# Define the fitness function\n",
    "def eval_features(individual):\n",
    "    features = [index for index, bit in enumerate(individual) if bit == 1]\n",
    "    if not features:\n",
    "        return 0,  # Large penalty if no features are selected\n",
    "    \n",
    "    X_train_selected = X_train.iloc[:, features]\n",
    "    X_test_selected = X_test.iloc[:, features]\n",
    "    clf = RandomForestClassifier(n_estimators=10, random_state=42)\n",
    "    clf.fit(X_train_selected, y_train)\n",
    "    \n",
    "    predictions = clf.predict(X_test_selected)\n",
    "    accuracy = accuracy_score(y_test, predictions)\n",
    "    return accuracy,\n",
    "\n",
    "# Setup the genetic algorithm\n",
    "creator.create(\"FitnessMax\", base.Fitness, weights=(1.0,))\n",
    "creator.create(\"Individual\", list, fitness=creator.FitnessMax)\n",
    "\n",
    "toolbox = base.Toolbox()\n",
    "toolbox.register(\"attr_bool\", lambda: random.randint(0, 1))  # Use random initialization of 0s and 1s\n",
    "toolbox.register(\"individual\", tools.initRepeat, creator.Individual, toolbox.attr_bool, n=len(X_train.columns))\n",
    "toolbox.register(\"population\", tools.initRepeat, list, toolbox.individual)\n",
    "toolbox.register(\"evaluate\", eval_features)\n",
    "toolbox.register(\"mate\", tools.cxTwoPoint)\n",
    "toolbox.register(\"mutate\", tools.mutFlipBit, indpb=0.05)\n",
    "toolbox.register(\"select\", tools.selTournament, tournsize=3)\n",
    "\n",
    "# Function to run the genetic algorithm with threading and print generation fitness\n",
    "def run_ga():\n",
    "    population = toolbox.population(n=50)\n",
    "    NGEN = 40\n",
    "    pbar = tqdm(total=NGEN, desc=\"Evolving Generations\")\n",
    "    gen_fitness = []\n",
    "\n",
    "    for gen in range(NGEN):\n",
    "        with ThreadPoolExecutor(max_workers=12) as executor:\n",
    "            offspring = list(executor.map(toolbox.clone, population))\n",
    "            offspring = algorithms.varAnd(offspring, toolbox, cxpb=0.5, mutpb=0.2)\n",
    "\n",
    "        fits = list(map(toolbox.evaluate, offspring))\n",
    "        for fit, ind in zip(fits, offspring):\n",
    "            ind.fitness.values = fit\n",
    "        \n",
    "        population = toolbox.select(offspring, k=len(population))\n",
    "        gen_fitness.append(np.mean([ind.fitness.values[0] for ind in population]))\n",
    "        pbar.update(1)\n",
    "        print(f\"Generation {gen+1}: Avg Fitness = {gen_fitness[-1]:.4f}\")\n",
    "\n",
    "    pbar.close()\n",
    "    return population, gen_fitness\n",
    "\n",
    "# Run the genetic algorithm\n",
    "final_population, generation_fitness = run_ga()\n",
    "\n",
    "# Extract the best individual\n",
    "top1 = tools.selBest(final_population, k=1)[0]\n",
    "print(\"Selected Features Index:\", [index for index, bit in enumerate(top1) if bit == 1])\n",
    "print(\"Best Fitness:\", eval_features(top1)[0])\n"
   ]
  },
  {
   "cell_type": "code",
   "execution_count": 11,
   "metadata": {},
   "outputs": [
    {
     "data": {
      "text/html": [
       "<div>\n",
       "<style scoped>\n",
       "    .dataframe tbody tr th:only-of-type {\n",
       "        vertical-align: middle;\n",
       "    }\n",
       "\n",
       "    .dataframe tbody tr th {\n",
       "        vertical-align: top;\n",
       "    }\n",
       "\n",
       "    .dataframe thead th {\n",
       "        text-align: right;\n",
       "    }\n",
       "</style>\n",
       "<table border=\"1\" class=\"dataframe\">\n",
       "  <thead>\n",
       "    <tr style=\"text-align: right;\">\n",
       "      <th></th>\n",
       "      <th>id</th>\n",
       "      <th>dur</th>\n",
       "      <th>proto</th>\n",
       "      <th>service</th>\n",
       "      <th>spkts</th>\n",
       "      <th>rate</th>\n",
       "      <th>sttl</th>\n",
       "      <th>sloss</th>\n",
       "      <th>sinpkt</th>\n",
       "      <th>dinpkt</th>\n",
       "      <th>...</th>\n",
       "      <th>smean</th>\n",
       "      <th>ct_srv_src</th>\n",
       "      <th>ct_state_ttl</th>\n",
       "      <th>ct_src_dport_ltm</th>\n",
       "      <th>ct_ftp_cmd</th>\n",
       "      <th>ct_src_ltm</th>\n",
       "      <th>ct_srv_dst</th>\n",
       "      <th>id</th>\n",
       "      <th>attack_cat</th>\n",
       "      <th>label</th>\n",
       "    </tr>\n",
       "  </thead>\n",
       "  <tbody>\n",
       "    <tr>\n",
       "      <th>0</th>\n",
       "      <td>1</td>\n",
       "      <td>0.179469</td>\n",
       "      <td>113</td>\n",
       "      <td>0</td>\n",
       "      <td>0.4</td>\n",
       "      <td>-0.025220</td>\n",
       "      <td>-0.010417</td>\n",
       "      <td>0.000000</td>\n",
       "      <td>0.435473</td>\n",
       "      <td>0.163928</td>\n",
       "      <td>...</td>\n",
       "      <td>-0.697674</td>\n",
       "      <td>-0.4</td>\n",
       "      <td>-1.0</td>\n",
       "      <td>0.00</td>\n",
       "      <td>0.0</td>\n",
       "      <td>-0.285714</td>\n",
       "      <td>-0.3</td>\n",
       "      <td>1</td>\n",
       "      <td>6</td>\n",
       "      <td>0</td>\n",
       "    </tr>\n",
       "    <tr>\n",
       "      <th>1</th>\n",
       "      <td>2</td>\n",
       "      <td>0.970450</td>\n",
       "      <td>113</td>\n",
       "      <td>0</td>\n",
       "      <td>1.2</td>\n",
       "      <td>-0.025185</td>\n",
       "      <td>-1.000000</td>\n",
       "      <td>0.666667</td>\n",
       "      <td>0.900023</td>\n",
       "      <td>0.302174</td>\n",
       "      <td>...</td>\n",
       "      <td>-0.488372</td>\n",
       "      <td>3.8</td>\n",
       "      <td>0.0</td>\n",
       "      <td>0.00</td>\n",
       "      <td>0.0</td>\n",
       "      <td>-0.285714</td>\n",
       "      <td>0.2</td>\n",
       "      <td>2</td>\n",
       "      <td>6</td>\n",
       "      <td>0</td>\n",
       "    </tr>\n",
       "    <tr>\n",
       "      <th>2</th>\n",
       "      <td>3</td>\n",
       "      <td>2.427244</td>\n",
       "      <td>113</td>\n",
       "      <td>0</td>\n",
       "      <td>0.6</td>\n",
       "      <td>-0.025700</td>\n",
       "      <td>-1.000000</td>\n",
       "      <td>0.333333</td>\n",
       "      <td>4.199465</td>\n",
       "      <td>2.012246</td>\n",
       "      <td>...</td>\n",
       "      <td>-0.627907</td>\n",
       "      <td>0.2</td>\n",
       "      <td>0.0</td>\n",
       "      <td>0.00</td>\n",
       "      <td>0.0</td>\n",
       "      <td>-0.142857</td>\n",
       "      <td>0.2</td>\n",
       "      <td>3</td>\n",
       "      <td>6</td>\n",
       "      <td>0</td>\n",
       "    </tr>\n",
       "    <tr>\n",
       "      <th>3</th>\n",
       "      <td>4</td>\n",
       "      <td>2.514830</td>\n",
       "      <td>113</td>\n",
       "      <td>3</td>\n",
       "      <td>1.0</td>\n",
       "      <td>-0.025704</td>\n",
       "      <td>-1.000000</td>\n",
       "      <td>0.333333</td>\n",
       "      <td>2.766997</td>\n",
       "      <td>1.767374</td>\n",
       "      <td>...</td>\n",
       "      <td>-0.488372</td>\n",
       "      <td>-0.4</td>\n",
       "      <td>0.0</td>\n",
       "      <td>0.00</td>\n",
       "      <td>1.0</td>\n",
       "      <td>-0.142857</td>\n",
       "      <td>-0.3</td>\n",
       "      <td>4</td>\n",
       "      <td>6</td>\n",
       "      <td>0</td>\n",
       "    </tr>\n",
       "    <tr>\n",
       "      <th>4</th>\n",
       "      <td>5</td>\n",
       "      <td>0.670406</td>\n",
       "      <td>113</td>\n",
       "      <td>0</td>\n",
       "      <td>0.8</td>\n",
       "      <td>-0.025546</td>\n",
       "      <td>0.000000</td>\n",
       "      <td>0.666667</td>\n",
       "      <td>0.860772</td>\n",
       "      <td>1.481864</td>\n",
       "      <td>...</td>\n",
       "      <td>-0.465116</td>\n",
       "      <td>3.8</td>\n",
       "      <td>0.0</td>\n",
       "      <td>0.25</td>\n",
       "      <td>0.0</td>\n",
       "      <td>-0.142857</td>\n",
       "      <td>3.5</td>\n",
       "      <td>5</td>\n",
       "      <td>6</td>\n",
       "      <td>0</td>\n",
       "    </tr>\n",
       "    <tr>\n",
       "      <th>...</th>\n",
       "      <td>...</td>\n",
       "      <td>...</td>\n",
       "      <td>...</td>\n",
       "      <td>...</td>\n",
       "      <td>...</td>\n",
       "      <td>...</td>\n",
       "      <td>...</td>\n",
       "      <td>...</td>\n",
       "      <td>...</td>\n",
       "      <td>...</td>\n",
       "      <td>...</td>\n",
       "      <td>...</td>\n",
       "      <td>...</td>\n",
       "      <td>...</td>\n",
       "      <td>...</td>\n",
       "      <td>...</td>\n",
       "      <td>...</td>\n",
       "      <td>...</td>\n",
       "      <td>...</td>\n",
       "      <td>...</td>\n",
       "      <td>...</td>\n",
       "    </tr>\n",
       "    <tr>\n",
       "      <th>175336</th>\n",
       "      <td>175337</td>\n",
       "      <td>-0.002355</td>\n",
       "      <td>119</td>\n",
       "      <td>2</td>\n",
       "      <td>0.0</td>\n",
       "      <td>0.863309</td>\n",
       "      <td>0.000000</td>\n",
       "      <td>0.000000</td>\n",
       "      <td>-0.004909</td>\n",
       "      <td>-0.000118</td>\n",
       "      <td>...</td>\n",
       "      <td>-0.372093</td>\n",
       "      <td>1.9</td>\n",
       "      <td>1.0</td>\n",
       "      <td>5.75</td>\n",
       "      <td>0.0</td>\n",
       "      <td>3.000000</td>\n",
       "      <td>2.0</td>\n",
       "      <td>175337</td>\n",
       "      <td>5</td>\n",
       "      <td>1</td>\n",
       "    </tr>\n",
       "    <tr>\n",
       "      <th>175337</th>\n",
       "      <td>175338</td>\n",
       "      <td>0.754692</td>\n",
       "      <td>113</td>\n",
       "      <td>0</td>\n",
       "      <td>0.8</td>\n",
       "      <td>-0.025544</td>\n",
       "      <td>0.000000</td>\n",
       "      <td>0.666667</td>\n",
       "      <td>0.981350</td>\n",
       "      <td>1.311864</td>\n",
       "      <td>...</td>\n",
       "      <td>-0.255814</td>\n",
       "      <td>-0.4</td>\n",
       "      <td>0.0</td>\n",
       "      <td>0.00</td>\n",
       "      <td>0.0</td>\n",
       "      <td>-0.285714</td>\n",
       "      <td>-0.3</td>\n",
       "      <td>175338</td>\n",
       "      <td>8</td>\n",
       "      <td>1</td>\n",
       "    </tr>\n",
       "    <tr>\n",
       "      <th>175338</th>\n",
       "      <td>175339</td>\n",
       "      <td>-0.002355</td>\n",
       "      <td>119</td>\n",
       "      <td>2</td>\n",
       "      <td>0.0</td>\n",
       "      <td>0.863309</td>\n",
       "      <td>0.000000</td>\n",
       "      <td>0.000000</td>\n",
       "      <td>-0.004909</td>\n",
       "      <td>-0.000118</td>\n",
       "      <td>...</td>\n",
       "      <td>-0.372093</td>\n",
       "      <td>0.7</td>\n",
       "      <td>1.0</td>\n",
       "      <td>0.50</td>\n",
       "      <td>0.0</td>\n",
       "      <td>0.000000</td>\n",
       "      <td>0.8</td>\n",
       "      <td>175339</td>\n",
       "      <td>5</td>\n",
       "      <td>1</td>\n",
       "    </tr>\n",
       "    <tr>\n",
       "      <th>175339</th>\n",
       "      <td>175340</td>\n",
       "      <td>-0.002355</td>\n",
       "      <td>119</td>\n",
       "      <td>2</td>\n",
       "      <td>0.0</td>\n",
       "      <td>0.863309</td>\n",
       "      <td>0.000000</td>\n",
       "      <td>0.000000</td>\n",
       "      <td>-0.004909</td>\n",
       "      <td>-0.000118</td>\n",
       "      <td>...</td>\n",
       "      <td>-0.372093</td>\n",
       "      <td>2.5</td>\n",
       "      <td>1.0</td>\n",
       "      <td>7.25</td>\n",
       "      <td>0.0</td>\n",
       "      <td>3.857143</td>\n",
       "      <td>2.6</td>\n",
       "      <td>175340</td>\n",
       "      <td>5</td>\n",
       "      <td>1</td>\n",
       "    </tr>\n",
       "    <tr>\n",
       "      <th>175340</th>\n",
       "      <td>175341</td>\n",
       "      <td>-0.002355</td>\n",
       "      <td>119</td>\n",
       "      <td>2</td>\n",
       "      <td>0.0</td>\n",
       "      <td>0.863309</td>\n",
       "      <td>0.000000</td>\n",
       "      <td>0.000000</td>\n",
       "      <td>-0.004909</td>\n",
       "      <td>-0.000118</td>\n",
       "      <td>...</td>\n",
       "      <td>-0.372093</td>\n",
       "      <td>2.5</td>\n",
       "      <td>1.0</td>\n",
       "      <td>7.25</td>\n",
       "      <td>0.0</td>\n",
       "      <td>3.857143</td>\n",
       "      <td>2.6</td>\n",
       "      <td>175341</td>\n",
       "      <td>5</td>\n",
       "      <td>1</td>\n",
       "    </tr>\n",
       "  </tbody>\n",
       "</table>\n",
       "<p>175341 rows × 22 columns</p>\n",
       "</div>"
      ],
      "text/plain": [
       "            id       dur  proto  service  spkts      rate      sttl     sloss  \\\n",
       "0            1  0.179469    113        0    0.4 -0.025220 -0.010417  0.000000   \n",
       "1            2  0.970450    113        0    1.2 -0.025185 -1.000000  0.666667   \n",
       "2            3  2.427244    113        0    0.6 -0.025700 -1.000000  0.333333   \n",
       "3            4  2.514830    113        3    1.0 -0.025704 -1.000000  0.333333   \n",
       "4            5  0.670406    113        0    0.8 -0.025546  0.000000  0.666667   \n",
       "...        ...       ...    ...      ...    ...       ...       ...       ...   \n",
       "175336  175337 -0.002355    119        2    0.0  0.863309  0.000000  0.000000   \n",
       "175337  175338  0.754692    113        0    0.8 -0.025544  0.000000  0.666667   \n",
       "175338  175339 -0.002355    119        2    0.0  0.863309  0.000000  0.000000   \n",
       "175339  175340 -0.002355    119        2    0.0  0.863309  0.000000  0.000000   \n",
       "175340  175341 -0.002355    119        2    0.0  0.863309  0.000000  0.000000   \n",
       "\n",
       "          sinpkt    dinpkt  ...     smean  ct_srv_src  ct_state_ttl  \\\n",
       "0       0.435473  0.163928  ... -0.697674        -0.4          -1.0   \n",
       "1       0.900023  0.302174  ... -0.488372         3.8           0.0   \n",
       "2       4.199465  2.012246  ... -0.627907         0.2           0.0   \n",
       "3       2.766997  1.767374  ... -0.488372        -0.4           0.0   \n",
       "4       0.860772  1.481864  ... -0.465116         3.8           0.0   \n",
       "...          ...       ...  ...       ...         ...           ...   \n",
       "175336 -0.004909 -0.000118  ... -0.372093         1.9           1.0   \n",
       "175337  0.981350  1.311864  ... -0.255814        -0.4           0.0   \n",
       "175338 -0.004909 -0.000118  ... -0.372093         0.7           1.0   \n",
       "175339 -0.004909 -0.000118  ... -0.372093         2.5           1.0   \n",
       "175340 -0.004909 -0.000118  ... -0.372093         2.5           1.0   \n",
       "\n",
       "        ct_src_dport_ltm  ct_ftp_cmd  ct_src_ltm  ct_srv_dst      id  \\\n",
       "0                   0.00         0.0   -0.285714        -0.3       1   \n",
       "1                   0.00         0.0   -0.285714         0.2       2   \n",
       "2                   0.00         0.0   -0.142857         0.2       3   \n",
       "3                   0.00         1.0   -0.142857        -0.3       4   \n",
       "4                   0.25         0.0   -0.142857         3.5       5   \n",
       "...                  ...         ...         ...         ...     ...   \n",
       "175336              5.75         0.0    3.000000         2.0  175337   \n",
       "175337              0.00         0.0   -0.285714        -0.3  175338   \n",
       "175338              0.50         0.0    0.000000         0.8  175339   \n",
       "175339              7.25         0.0    3.857143         2.6  175340   \n",
       "175340              7.25         0.0    3.857143         2.6  175341   \n",
       "\n",
       "        attack_cat  label  \n",
       "0                6      0  \n",
       "1                6      0  \n",
       "2                6      0  \n",
       "3                6      0  \n",
       "4                6      0  \n",
       "...            ...    ...  \n",
       "175336           5      1  \n",
       "175337           8      1  \n",
       "175338           5      1  \n",
       "175339           5      1  \n",
       "175340           5      1  \n",
       "\n",
       "[175341 rows x 22 columns]"
      ]
     },
     "execution_count": 11,
     "metadata": {},
     "output_type": "execute_result"
    }
   ],
   "source": [
    "selected_features_index = [0, 1, 2, 3, 5, 9, 10, 14, 16, 17, 18, 19, 27, 31, 32, 34, 38, 40, 41]\n",
    "selected_features = [df_train.columns[i] for i in selected_features_index]\n",
    "\n",
    "# Add 'id', 'attack_cat', and 'label' to the list of selected features\n",
    "selected_features.extend(['id', 'attack_cat', 'label'])\n",
    "\n",
    "# Create a new DataFrame with the selected features\n",
    "df_selected = df_train[selected_features]\n",
    "df_selected"
   ]
  },
  {
   "cell_type": "code",
   "execution_count": 12,
   "metadata": {},
   "outputs": [],
   "source": [
    "df_train.to_csv(\"checking.csv\", index=False)"
   ]
  },
  {
   "cell_type": "code",
   "execution_count": 40,
   "metadata": {},
   "outputs": [],
   "source": [
    "from sklearn.tree import DecisionTreeClassifier\n",
    "import matplotlib.pyplot as plt"
   ]
  },
  {
   "cell_type": "code",
   "execution_count": 28,
   "metadata": {},
   "outputs": [],
   "source": [
    "X_train = df_train.drop(['label', 'attack_cat', 'id'], axis=1)  #\n",
    "y_train = df_train['label']  \n",
    "\n",
    "X_test = df_test.drop(['label', 'attack_cat', 'id'], axis=1)  \n",
    "y_test = df_test['label']"
   ]
  },
  {
   "cell_type": "code",
   "execution_count": 48,
   "metadata": {},
   "outputs": [
    {
     "name": "stderr",
     "output_type": "stream",
     "text": [
      "/home/hashim/.local/lib/python3.10/site-packages/deap/creator.py:185: RuntimeWarning: A class named 'FitnessMax' has already been created and it will be overwritten. Consider deleting previous creation of that class or rename it.\n",
      "  warnings.warn(\"A class named '{0}' has already been created and it \"\n",
      "/home/hashim/.local/lib/python3.10/site-packages/deap/creator.py:185: RuntimeWarning: A class named 'Individual' has already been created and it will be overwritten. Consider deleting previous creation of that class or rename it.\n",
      "  warnings.warn(\"A class named '{0}' has already been created and it \"\n",
      "Generation:   2%|▎         | 1/40 [00:42<27:23, 42.14s/it]"
     ]
    },
    {
     "name": "stdout",
     "output_type": "stream",
     "text": [
      "Generation 1, Best individual fitness: 0.7746076859544284\n",
      "max_depth: 42\n",
      "min_samples_split: 16\n",
      "min_samples_leaf: 82\n"
     ]
    },
    {
     "name": "stderr",
     "output_type": "stream",
     "text": [
      "Generation:   5%|▌         | 2/40 [01:23<26:34, 41.96s/it]"
     ]
    },
    {
     "name": "stdout",
     "output_type": "stream",
     "text": [
      "Generation 2, Best individual fitness: 0.7762716805130447\n",
      "max_depth: 15\n",
      "min_samples_split: 9\n",
      "min_samples_leaf: 82\n"
     ]
    },
    {
     "name": "stderr",
     "output_type": "stream",
     "text": [
      "Generation:   8%|▊         | 3/40 [02:05<25:41, 41.67s/it]"
     ]
    },
    {
     "name": "stdout",
     "output_type": "stream",
     "text": [
      "Generation 3, Best individual fitness: 0.7762716805130447\n",
      "max_depth: 15\n",
      "min_samples_split: 14\n",
      "min_samples_leaf: 82\n"
     ]
    },
    {
     "name": "stderr",
     "output_type": "stream",
     "text": [
      "Generation:  10%|█         | 4/40 [02:46<24:50, 41.39s/it]"
     ]
    },
    {
     "name": "stdout",
     "output_type": "stream",
     "text": [
      "Generation 4, Best individual fitness: 0.7769639994169946\n",
      "max_depth: 15\n",
      "min_samples_split: 31\n",
      "min_samples_leaf: 84\n"
     ]
    },
    {
     "name": "stderr",
     "output_type": "stream",
     "text": [
      "Generation:  12%|█▎        | 5/40 [03:27<24:01, 41.19s/it]"
     ]
    },
    {
     "name": "stdout",
     "output_type": "stream",
     "text": [
      "Generation 5, Best individual fitness: 0.7769639994169946\n",
      "max_depth: 15\n",
      "min_samples_split: 31\n",
      "min_samples_leaf: 84\n"
     ]
    },
    {
     "name": "stderr",
     "output_type": "stream",
     "text": [
      "Generation:  15%|█▌        | 6/40 [04:07<23:17, 41.09s/it]"
     ]
    },
    {
     "name": "stdout",
     "output_type": "stream",
     "text": [
      "Generation 6, Best individual fitness: 0.7769639994169946\n",
      "max_depth: 15\n",
      "min_samples_split: 28\n",
      "min_samples_leaf: 84\n",
      "Restarting due to stagnant fitness...\n"
     ]
    },
    {
     "name": "stderr",
     "output_type": "stream",
     "text": [
      "Generation:  18%|█▊        | 7/40 [04:49<22:40, 41.22s/it]"
     ]
    },
    {
     "name": "stdout",
     "output_type": "stream",
     "text": [
      "Generation 7, Best individual fitness: 0.7769639994169946\n",
      "max_depth: 15\n",
      "min_samples_split: 28\n",
      "min_samples_leaf: 84\n"
     ]
    },
    {
     "name": "stderr",
     "output_type": "stream",
     "text": [
      "Generation:  20%|██        | 8/40 [05:31<22:02, 41.34s/it]"
     ]
    },
    {
     "name": "stdout",
     "output_type": "stream",
     "text": [
      "Generation 8, Best individual fitness: 0.7769639994169946\n",
      "max_depth: 15\n",
      "min_samples_split: 28\n",
      "min_samples_leaf: 84\n"
     ]
    },
    {
     "name": "stderr",
     "output_type": "stream",
     "text": [
      "Generation:  22%|██▎       | 9/40 [06:13<21:34, 41.75s/it]"
     ]
    },
    {
     "name": "stdout",
     "output_type": "stream",
     "text": [
      "Generation 9, Best individual fitness: 0.7769639994169946\n",
      "max_depth: 15\n",
      "min_samples_split: 28\n",
      "min_samples_leaf: 84\n",
      "Restarting due to stagnant fitness...\n"
     ]
    },
    {
     "name": "stderr",
     "output_type": "stream",
     "text": [
      "Generation:  25%|██▌       | 10/40 [06:56<21:03, 42.13s/it]"
     ]
    },
    {
     "name": "stdout",
     "output_type": "stream",
     "text": [
      "Generation 10, Best individual fitness: 0.7769639994169946\n",
      "max_depth: 15\n",
      "min_samples_split: 28\n",
      "min_samples_leaf: 84\n"
     ]
    },
    {
     "name": "stderr",
     "output_type": "stream",
     "text": [
      "Generation:  28%|██▊       | 11/40 [07:44<21:11, 43.84s/it]"
     ]
    },
    {
     "name": "stdout",
     "output_type": "stream",
     "text": [
      "Generation 11, Best individual fitness: 0.7769639994169946\n",
      "max_depth: 15\n",
      "min_samples_split: 24\n",
      "min_samples_leaf: 84\n"
     ]
    },
    {
     "name": "stderr",
     "output_type": "stream",
     "text": [
      "Generation:  30%|███       | 12/40 [08:28<20:30, 43.96s/it]"
     ]
    },
    {
     "name": "stdout",
     "output_type": "stream",
     "text": [
      "Generation 12, Best individual fitness: 0.7778263615605111\n",
      "max_depth: 17\n",
      "min_samples_split: 9\n",
      "min_samples_leaf: 82\n"
     ]
    },
    {
     "name": "stderr",
     "output_type": "stream",
     "text": [
      "Generation:  32%|███▎      | 13/40 [09:13<19:50, 44.08s/it]"
     ]
    },
    {
     "name": "stdout",
     "output_type": "stream",
     "text": [
      "Generation 13, Best individual fitness: 0.7778263615605111\n",
      "max_depth: 17\n",
      "min_samples_split: 27\n",
      "min_samples_leaf: 82\n"
     ]
    },
    {
     "name": "stderr",
     "output_type": "stream",
     "text": [
      "Generation:  35%|███▌      | 14/40 [09:56<19:04, 44.01s/it]"
     ]
    },
    {
     "name": "stdout",
     "output_type": "stream",
     "text": [
      "Generation 14, Best individual fitness: 0.7778263615605111\n",
      "max_depth: 17\n",
      "min_samples_split: 27\n",
      "min_samples_leaf: 82\n",
      "Restarting due to stagnant fitness...\n"
     ]
    },
    {
     "name": "stderr",
     "output_type": "stream",
     "text": [
      "Generation:  38%|███▊      | 15/40 [10:38<18:01, 43.24s/it]"
     ]
    },
    {
     "name": "stdout",
     "output_type": "stream",
     "text": [
      "Generation 15, Best individual fitness: 0.7778263615605111\n",
      "max_depth: 17\n",
      "min_samples_split: 27\n",
      "min_samples_leaf: 82\n"
     ]
    },
    {
     "name": "stderr",
     "output_type": "stream",
     "text": [
      "Generation:  40%|████      | 16/40 [11:19<17:01, 42.56s/it]"
     ]
    },
    {
     "name": "stdout",
     "output_type": "stream",
     "text": [
      "Generation 16, Best individual fitness: 0.7778263615605111\n",
      "max_depth: 17\n",
      "min_samples_split: 27\n",
      "min_samples_leaf: 82\n"
     ]
    },
    {
     "name": "stderr",
     "output_type": "stream",
     "text": [
      "Generation:  42%|████▎     | 17/40 [12:00<16:08, 42.12s/it]"
     ]
    },
    {
     "name": "stdout",
     "output_type": "stream",
     "text": [
      "Generation 17, Best individual fitness: 0.7778263615605111\n",
      "max_depth: 17\n",
      "min_samples_split: 27\n",
      "min_samples_leaf: 82\n",
      "Restarting due to stagnant fitness...\n"
     ]
    },
    {
     "name": "stderr",
     "output_type": "stream",
     "text": [
      "Generation:  45%|████▌     | 18/40 [12:41<15:20, 41.84s/it]"
     ]
    },
    {
     "name": "stdout",
     "output_type": "stream",
     "text": [
      "Generation 18, Best individual fitness: 0.7778263615605111\n",
      "max_depth: 17\n",
      "min_samples_split: 27\n",
      "min_samples_leaf: 82\n"
     ]
    },
    {
     "name": "stderr",
     "output_type": "stream",
     "text": [
      "Generation:  48%|████▊     | 19/40 [13:23<14:37, 41.77s/it]"
     ]
    },
    {
     "name": "stdout",
     "output_type": "stream",
     "text": [
      "Generation 19, Best individual fitness: 0.7778263615605111\n",
      "max_depth: 17\n",
      "min_samples_split: 27\n",
      "min_samples_leaf: 82\n"
     ]
    },
    {
     "name": "stderr",
     "output_type": "stream",
     "text": [
      "Generation:  50%|█████     | 20/40 [14:04<13:53, 41.69s/it]"
     ]
    },
    {
     "name": "stdout",
     "output_type": "stream",
     "text": [
      "Generation 20, Best individual fitness: 0.7778263615605111\n",
      "max_depth: 17\n",
      "min_samples_split: 36\n",
      "min_samples_leaf: 82\n",
      "Restarting due to stagnant fitness...\n"
     ]
    },
    {
     "name": "stderr",
     "output_type": "stream",
     "text": [
      "Generation:  52%|█████▎    | 21/40 [14:45<13:08, 41.49s/it]"
     ]
    },
    {
     "name": "stdout",
     "output_type": "stream",
     "text": [
      "Generation 21, Best individual fitness: 0.7778263615605111\n",
      "max_depth: 17\n",
      "min_samples_split: 36\n",
      "min_samples_leaf: 82\n"
     ]
    },
    {
     "name": "stderr",
     "output_type": "stream",
     "text": [
      "Generation:  55%|█████▌    | 22/40 [15:27<12:25, 41.44s/it]"
     ]
    },
    {
     "name": "stdout",
     "output_type": "stream",
     "text": [
      "Generation 22, Best individual fitness: 0.7778263615605111\n",
      "max_depth: 17\n",
      "min_samples_split: 36\n",
      "min_samples_leaf: 82\n"
     ]
    },
    {
     "name": "stderr",
     "output_type": "stream",
     "text": [
      "Generation:  57%|█████▊    | 23/40 [16:06<11:36, 40.98s/it]"
     ]
    },
    {
     "name": "stdout",
     "output_type": "stream",
     "text": [
      "Generation 23, Best individual fitness: 0.7778263615605111\n",
      "max_depth: 17\n",
      "min_samples_split: 36\n",
      "min_samples_leaf: 82\n",
      "Restarting due to stagnant fitness...\n"
     ]
    },
    {
     "name": "stderr",
     "output_type": "stream",
     "text": [
      "Generation:  60%|██████    | 24/40 [16:47<10:54, 40.92s/it]"
     ]
    },
    {
     "name": "stdout",
     "output_type": "stream",
     "text": [
      "Generation 24, Best individual fitness: 0.7778263615605111\n",
      "max_depth: 17\n",
      "min_samples_split: 36\n",
      "min_samples_leaf: 82\n"
     ]
    },
    {
     "name": "stderr",
     "output_type": "stream",
     "text": [
      "Generation:  62%|██████▎   | 25/40 [17:28<10:15, 41.00s/it]"
     ]
    },
    {
     "name": "stdout",
     "output_type": "stream",
     "text": [
      "Generation 25, Best individual fitness: 0.7778263615605111\n",
      "max_depth: 17\n",
      "min_samples_split: 36\n",
      "min_samples_leaf: 82\n"
     ]
    },
    {
     "name": "stderr",
     "output_type": "stream",
     "text": [
      "Generation:  65%|██████▌   | 26/40 [18:10<09:34, 41.02s/it]"
     ]
    },
    {
     "name": "stdout",
     "output_type": "stream",
     "text": [
      "Generation 26, Best individual fitness: 0.7778263615605111\n",
      "max_depth: 17\n",
      "min_samples_split: 39\n",
      "min_samples_leaf: 82\n",
      "Restarting due to stagnant fitness...\n"
     ]
    },
    {
     "name": "stderr",
     "output_type": "stream",
     "text": [
      "Generation:  68%|██████▊   | 27/40 [18:51<08:55, 41.19s/it]"
     ]
    },
    {
     "name": "stdout",
     "output_type": "stream",
     "text": [
      "Generation 27, Best individual fitness: 0.7778263615605111\n",
      "max_depth: 17\n",
      "min_samples_split: 39\n",
      "min_samples_leaf: 82\n"
     ]
    },
    {
     "name": "stderr",
     "output_type": "stream",
     "text": [
      "Generation:  70%|███████   | 28/40 [19:33<08:15, 41.26s/it]"
     ]
    },
    {
     "name": "stdout",
     "output_type": "stream",
     "text": [
      "Generation 28, Best individual fitness: 0.7778263615605111\n",
      "max_depth: 17\n",
      "min_samples_split: 39\n",
      "min_samples_leaf: 82\n"
     ]
    },
    {
     "name": "stderr",
     "output_type": "stream",
     "text": [
      "Generation:  72%|███████▎  | 29/40 [20:13<07:32, 41.17s/it]"
     ]
    },
    {
     "name": "stdout",
     "output_type": "stream",
     "text": [
      "Generation 29, Best individual fitness: 0.7778263615605111\n",
      "max_depth: 17\n",
      "min_samples_split: 39\n",
      "min_samples_leaf: 82\n",
      "Restarting due to stagnant fitness...\n"
     ]
    },
    {
     "name": "stderr",
     "output_type": "stream",
     "text": [
      "Generation:  75%|███████▌  | 30/40 [20:55<06:52, 41.20s/it]"
     ]
    },
    {
     "name": "stdout",
     "output_type": "stream",
     "text": [
      "Generation 30, Best individual fitness: 0.7778263615605111\n",
      "max_depth: 17\n",
      "min_samples_split: 39\n",
      "min_samples_leaf: 82\n"
     ]
    },
    {
     "name": "stderr",
     "output_type": "stream",
     "text": [
      "Generation:  78%|███████▊  | 31/40 [21:36<06:10, 41.14s/it]"
     ]
    },
    {
     "name": "stdout",
     "output_type": "stream",
     "text": [
      "Generation 31, Best individual fitness: 0.7778263615605111\n",
      "max_depth: 17\n",
      "min_samples_split: 39\n",
      "min_samples_leaf: 82\n"
     ]
    },
    {
     "name": "stderr",
     "output_type": "stream",
     "text": [
      "Generation:  80%|████████  | 32/40 [22:16<05:26, 40.82s/it]"
     ]
    },
    {
     "name": "stdout",
     "output_type": "stream",
     "text": [
      "Generation 32, Best individual fitness: 0.7778263615605111\n",
      "max_depth: 17\n",
      "min_samples_split: 39\n",
      "min_samples_leaf: 82\n",
      "Restarting due to stagnant fitness...\n"
     ]
    },
    {
     "name": "stderr",
     "output_type": "stream",
     "text": [
      "Generation:  82%|████████▎ | 33/40 [22:57<04:47, 41.02s/it]"
     ]
    },
    {
     "name": "stdout",
     "output_type": "stream",
     "text": [
      "Generation 33, Best individual fitness: 0.7778263615605111\n",
      "max_depth: 17\n",
      "min_samples_split: 39\n",
      "min_samples_leaf: 82\n"
     ]
    },
    {
     "name": "stderr",
     "output_type": "stream",
     "text": [
      "Generation:  85%|████████▌ | 34/40 [23:38<04:06, 41.03s/it]"
     ]
    },
    {
     "name": "stdout",
     "output_type": "stream",
     "text": [
      "Generation 34, Best individual fitness: 0.7778263615605111\n",
      "max_depth: 17\n",
      "min_samples_split: 39\n",
      "min_samples_leaf: 82\n"
     ]
    },
    {
     "name": "stderr",
     "output_type": "stream",
     "text": [
      "Generation:  88%|████████▊ | 35/40 [24:20<03:25, 41.09s/it]"
     ]
    },
    {
     "name": "stdout",
     "output_type": "stream",
     "text": [
      "Generation 35, Best individual fitness: 0.7778263615605111\n",
      "max_depth: 17\n",
      "min_samples_split: 39\n",
      "min_samples_leaf: 82\n",
      "Restarting due to stagnant fitness...\n"
     ]
    },
    {
     "name": "stderr",
     "output_type": "stream",
     "text": [
      "Generation:  90%|█████████ | 36/40 [25:00<02:44, 41.03s/it]"
     ]
    },
    {
     "name": "stdout",
     "output_type": "stream",
     "text": [
      "Generation 36, Best individual fitness: 0.7778263615605111\n",
      "max_depth: 17\n",
      "min_samples_split: 45\n",
      "min_samples_leaf: 82\n"
     ]
    },
    {
     "name": "stderr",
     "output_type": "stream",
     "text": [
      "Generation:  92%|█████████▎| 37/40 [25:43<02:04, 41.33s/it]"
     ]
    },
    {
     "name": "stdout",
     "output_type": "stream",
     "text": [
      "Generation 37, Best individual fitness: 0.7778263615605111\n",
      "max_depth: 17\n",
      "min_samples_split: 45\n",
      "min_samples_leaf: 82\n"
     ]
    },
    {
     "name": "stderr",
     "output_type": "stream",
     "text": [
      "Generation:  95%|█████████▌| 38/40 [26:25<01:23, 41.55s/it]"
     ]
    },
    {
     "name": "stdout",
     "output_type": "stream",
     "text": [
      "Generation 38, Best individual fitness: 0.7778263615605111\n",
      "max_depth: 17\n",
      "min_samples_split: 41\n",
      "min_samples_leaf: 82\n",
      "Restarting due to stagnant fitness...\n"
     ]
    },
    {
     "name": "stderr",
     "output_type": "stream",
     "text": [
      "Generation:  98%|█████████▊| 39/40 [27:09<00:42, 42.39s/it]"
     ]
    },
    {
     "name": "stdout",
     "output_type": "stream",
     "text": [
      "Generation 39, Best individual fitness: 0.7778263615605111\n",
      "max_depth: 17\n",
      "min_samples_split: 41\n",
      "min_samples_leaf: 82\n"
     ]
    },
    {
     "name": "stderr",
     "output_type": "stream",
     "text": [
      "Generation: 100%|██████████| 40/40 [27:54<00:00, 41.86s/it]"
     ]
    },
    {
     "name": "stdout",
     "output_type": "stream",
     "text": [
      "Generation 40, Best individual fitness: 0.7778263615605111\n",
      "max_depth: 17\n",
      "min_samples_split: 41\n",
      "min_samples_leaf: 82\n",
      "Best Individual: [17, 41, 82]\n",
      "Best Fitness: 0.7778263615605111\n"
     ]
    },
    {
     "name": "stderr",
     "output_type": "stream",
     "text": [
      "\n"
     ]
    },
    {
     "data": {
      "image/png": "[encoded data removed]",
      "text/plain": [
       "<Figure size 1000x500 with 1 Axes>"
      ]
     },
     "metadata": {},
     "output_type": "display_data"
    }
   ],
   "source": [
    "import concurrent.futures\n",
    "\n",
    "# Set up the environment and definitions for DEAP\n",
    "creator.create(\"FitnessMax\", base.Fitness, weights=(1.0,))\n",
    "creator.create(\"Individual\", list, fitness=creator.FitnessMax)\n",
    "\n",
    "toolbox = base.Toolbox()\n",
    "\n",
    "# Attribute generators for the hyperparameters\n",
    "toolbox.register(\"max_depth\", random.randint, 10, 100)  # Tree depth from 10 to 100\n",
    "toolbox.register(\"min_samples_split\", random.randint, 8, 50)  # Min samples split from 8 to 50\n",
    "toolbox.register(\"min_samples_leaf\", random.randint, 50, 150)  # Min samples leaf from 50 to 150\n",
    "\n",
    "# Structure initializers\n",
    "toolbox.register(\"individual\", tools.initCycle, creator.Individual,\n",
    "                 (toolbox.max_depth, toolbox.min_samples_split, toolbox.min_samples_leaf), n=1)\n",
    "toolbox.register(\"population\", tools.initRepeat, list, toolbox.individual)\n",
    "\n",
    "# Evaluation function\n",
    "def eval_decision_tree(individual):\n",
    "    max_depth, min_samples_split, min_samples_leaf = individual\n",
    "    model = DecisionTreeClassifier(max_depth=max_depth,\n",
    "                                   min_samples_split=min_samples_split,\n",
    "                                   min_samples_leaf=min_samples_leaf,\n",
    "                                   random_state=42)\n",
    "    model.fit(X_train, y_train)\n",
    "    predictions = model.predict(X_test)\n",
    "    accuracy = accuracy_score(y_test, predictions)\n",
    "    return accuracy,\n",
    "\n",
    "toolbox.register(\"evaluate\", eval_decision_tree)\n",
    "toolbox.register(\"mate\", tools.cxTwoPoint)  # Two-point crossover\n",
    "toolbox.register(\"mutate\", tools.mutUniformInt, low=[10, 8, 50], up=[100, 50, 150], indpb=0.8)\n",
    "toolbox.register(\"select\", tools.selTournament, tournsize=30)\n",
    "\n",
    "# Initialize population\n",
    "population = toolbox.population(n=100)  # Increased population\n",
    "NGEN = 40\n",
    "best_fitnesses = []\n",
    "\n",
    "# Function to perform evolutionary operations and manage restarts\n",
    "def perform_evolutionary_operations(population):\n",
    "    stagnant_generations = 0\n",
    "    best_fitness = 0\n",
    "\n",
    "    with concurrent.futures.ThreadPoolExecutor() as executor:\n",
    "        for gen in tqdm(range(NGEN), desc=\"Generation\"):\n",
    "            offspring = algorithms.varAnd(population, toolbox, cxpb=0.7, mutpb=0.8)\n",
    "            fits = list(executor.map(toolbox.evaluate, offspring))\n",
    "            for fit, ind in zip(fits, offspring):\n",
    "                ind.fitness.values = fit\n",
    "\n",
    "            # Elitism: Keep the best individual from the previous generation\n",
    "            best = tools.selBest(population, 1)[0]\n",
    "            population = toolbox.select(offspring, k=len(population) - 1) + [best]\n",
    "            \n",
    "            current_best = tools.selBest(population, 1)[0]\n",
    "            best_fitnesses.append(current_best.fitness.values[0])\n",
    "            print(f'Generation {gen+1}, Best individual fitness: {current_best.fitness.values[0]}')\n",
    "            print(\"max_depth:\", current_best[0])\n",
    "            print(\"min_samples_split:\", current_best[1])\n",
    "            print(\"min_samples_leaf:\", current_best[2])\n",
    "\n",
    "            # Check for stagnant fitness\n",
    "            if current_best.fitness.values[0] > best_fitness:\n",
    "                best_fitness = current_best.fitness.values[0]\n",
    "                stagnant_generations = 0\n",
    "            else:\n",
    "                stagnant_generations += 1\n",
    "\n",
    "            # Restart strategy\n",
    "            if stagnant_generations >= 2:\n",
    "                print(\"Restarting due to stagnant fitness...\")\n",
    "                population = toolbox.population(n=len(population) - 1) + [current_best]\n",
    "                best_fitness = 0\n",
    "                stagnant_generations = 0\n",
    "\n",
    "    return population\n",
    "\n",
    "final_population = perform_evolutionary_operations(population)\n",
    "top_individual = tools.selBest(final_population, k=1)[0]\n",
    "print('Best Individual:', top_individual)\n",
    "print('Best Fitness:', top_individual.fitness.values[0])\n",
    "\n",
    "# Plotting the fitness values\n",
    "plt.figure(figsize=(10, 5))\n",
    "plt.plot(best_fitnesses)\n",
    "plt.title('Fitness values per generation')\n",
    "plt.xlabel('Generation')\n",
    "plt.ylabel('Fitness')\n",
    "plt.show()"
   ]
  },
  {
   "cell_type": "code",
   "execution_count": 51,
   "metadata": {},
   "outputs": [
    {
     "name": "stderr",
     "output_type": "stream",
     "text": [
      "/home/hashim/.local/lib/python3.10/site-packages/deap/creator.py:185: RuntimeWarning: A class named 'FitnessMax' has already been created and it will be overwritten. Consider deleting previous creation of that class or rename it.\n",
      "  warnings.warn(\"A class named '{0}' has already been created and it \"\n",
      "/home/hashim/.local/lib/python3.10/site-packages/deap/creator.py:185: RuntimeWarning: A class named 'Individual' has already been created and it will be overwritten. Consider deleting previous creation of that class or rename it.\n",
      "  warnings.warn(\"A class named '{0}' has already been created and it \"\n",
      "Generation:   2%|▎         | 1/40 [00:48<31:17, 48.13s/it]"
     ]
    },
    {
     "name": "stdout",
     "output_type": "stream",
     "text": [
      "Generation 1, Best individual fitness: 0.773453821114512\n",
      "max_depth: 22\n",
      "min_samples_split: 11\n",
      "min_samples_leaf: 58\n"
     ]
    },
    {
     "name": "stderr",
     "output_type": "stream",
     "text": [
      "Generation:   5%|▌         | 2/40 [01:34<29:59, 47.36s/it]"
     ]
    },
    {
     "name": "stdout",
     "output_type": "stream",
     "text": [
      "Generation 2, Best individual fitness: 0.773453821114512\n",
      "max_depth: 22\n",
      "min_samples_split: 11\n",
      "min_samples_leaf: 58\n"
     ]
    },
    {
     "name": "stderr",
     "output_type": "stream",
     "text": [
      "Generation:   8%|▊         | 3/40 [02:22<29:15, 47.45s/it]"
     ]
    },
    {
     "name": "stdout",
     "output_type": "stream",
     "text": [
      "Generation 3, Best individual fitness: 0.7754457562065783\n",
      "max_depth: 12\n",
      "min_samples_split: 47\n",
      "min_samples_leaf: 58\n"
     ]
    },
    {
     "name": "stderr",
     "output_type": "stream",
     "text": [
      "Generation:  10%|█         | 4/40 [03:08<28:08, 46.90s/it]"
     ]
    },
    {
     "name": "stdout",
     "output_type": "stream",
     "text": [
      "Generation 4, Best individual fitness: 0.7754457562065783\n",
      "max_depth: 12\n",
      "min_samples_split: 47\n",
      "min_samples_leaf: 58\n"
     ]
    },
    {
     "name": "stderr",
     "output_type": "stream",
     "text": [
      "Generation:  12%|█▎        | 5/40 [03:53<27:01, 46.33s/it]"
     ]
    },
    {
     "name": "stdout",
     "output_type": "stream",
     "text": [
      "Generation 5, Best individual fitness: 0.7762595345673614\n",
      "max_depth: 12\n",
      "min_samples_split: 38\n",
      "min_samples_leaf: 63\n"
     ]
    },
    {
     "name": "stderr",
     "output_type": "stream",
     "text": [
      "Generation:  15%|█▌        | 6/40 [04:41<26:29, 46.75s/it]"
     ]
    },
    {
     "name": "stdout",
     "output_type": "stream",
     "text": [
      "Generation 6, Best individual fitness: 0.7762595345673614\n",
      "max_depth: 12\n",
      "min_samples_split: 47\n",
      "min_samples_leaf: 63\n"
     ]
    },
    {
     "name": "stderr",
     "output_type": "stream",
     "text": [
      "Generation:  18%|█▊        | 7/40 [05:26<25:19, 46.03s/it]"
     ]
    },
    {
     "name": "stdout",
     "output_type": "stream",
     "text": [
      "Generation 7, Best individual fitness: 0.7762595345673614\n",
      "max_depth: 12\n",
      "min_samples_split: 49\n",
      "min_samples_leaf: 63\n",
      "Restarting due to stagnant fitness...\n"
     ]
    },
    {
     "name": "stderr",
     "output_type": "stream",
     "text": [
      "Generation:  20%|██        | 8/40 [06:13<24:43, 46.35s/it]"
     ]
    },
    {
     "name": "stdout",
     "output_type": "stream",
     "text": [
      "Generation 8, Best individual fitness: 0.7746076859544284\n",
      "max_depth: 94\n",
      "min_samples_split: 35\n",
      "min_samples_leaf: 82\n"
     ]
    },
    {
     "name": "stderr",
     "output_type": "stream",
     "text": [
      "Generation:  22%|██▎       | 9/40 [07:02<24:24, 47.23s/it]"
     ]
    },
    {
     "name": "stdout",
     "output_type": "stream",
     "text": [
      "Generation 9, Best individual fitness: 0.7753971724238449\n",
      "max_depth: 21\n",
      "min_samples_split: 45\n",
      "min_samples_leaf: 82\n"
     ]
    },
    {
     "name": "stderr",
     "output_type": "stream",
     "text": [
      "Generation:  25%|██▌       | 10/40 [07:48<23:25, 46.85s/it]"
     ]
    },
    {
     "name": "stdout",
     "output_type": "stream",
     "text": [
      "Generation 10, Best individual fitness: 0.7753971724238449\n",
      "max_depth: 21\n",
      "min_samples_split: 45\n",
      "min_samples_leaf: 82\n"
     ]
    },
    {
     "name": "stderr",
     "output_type": "stream",
     "text": [
      "Generation:  28%|██▊       | 11/40 [08:34<22:33, 46.68s/it]"
     ]
    },
    {
     "name": "stdout",
     "output_type": "stream",
     "text": [
      "Generation 11, Best individual fitness: 0.7753971724238449\n",
      "max_depth: 21\n",
      "min_samples_split: 45\n",
      "min_samples_leaf: 82\n",
      "Restarting due to stagnant fitness...\n"
     ]
    },
    {
     "name": "stderr",
     "output_type": "stream",
     "text": [
      "Generation:  30%|███       | 12/40 [09:24<22:11, 47.57s/it]"
     ]
    },
    {
     "name": "stdout",
     "output_type": "stream",
     "text": [
      "Generation 12, Best individual fitness: 0.7745469562260118\n",
      "max_depth: 92\n",
      "min_samples_split: 30\n",
      "min_samples_leaf: 85\n"
     ]
    },
    {
     "name": "stderr",
     "output_type": "stream",
     "text": [
      "Generation:  32%|███▎      | 13/40 [10:14<21:44, 48.33s/it]"
     ]
    },
    {
     "name": "stdout",
     "output_type": "stream",
     "text": [
      "Generation 13, Best individual fitness: 0.7772312102220279\n",
      "max_depth: 12\n",
      "min_samples_split: 16\n",
      "min_samples_leaf: 75\n"
     ]
    },
    {
     "name": "stderr",
     "output_type": "stream",
     "text": [
      "Generation:  32%|███▎      | 13/40 [10:19<21:25, 47.62s/it]\n"
     ]
    },
    {
     "ename": "KeyboardInterrupt",
     "evalue": "",
     "output_type": "error",
     "traceback": [
      "\u001b[0;31m---------------------------------------------------------------------------\u001b[0m",
      "\u001b[0;31mKeyboardInterrupt\u001b[0m                         Traceback (most recent call last)",
      "Cell \u001b[0;32mIn[51], line 80\u001b[0m\n\u001b[1;32m     76\u001b[0m                 stagnant_generations \u001b[38;5;241m=\u001b[39m \u001b[38;5;241m0\u001b[39m\n\u001b[1;32m     78\u001b[0m     \u001b[38;5;28;01mreturn\u001b[39;00m population\n\u001b[0;32m---> 80\u001b[0m final_population \u001b[38;5;241m=\u001b[39m \u001b[43mperform_evolutionary_operations\u001b[49m\u001b[43m(\u001b[49m\u001b[43mpopulation\u001b[49m\u001b[43m)\u001b[49m\n\u001b[1;32m     81\u001b[0m top_individual \u001b[38;5;241m=\u001b[39m tools\u001b[38;5;241m.\u001b[39mselBest(final_population, k\u001b[38;5;241m=\u001b[39m\u001b[38;5;241m1\u001b[39m)[\u001b[38;5;241m0\u001b[39m]\n\u001b[1;32m     82\u001b[0m \u001b[38;5;28mprint\u001b[39m(\u001b[38;5;124m'\u001b[39m\u001b[38;5;124mBest Individual:\u001b[39m\u001b[38;5;124m'\u001b[39m, top_individual)\n",
      "Cell \u001b[0;32mIn[51], line 49\u001b[0m, in \u001b[0;36mperform_evolutionary_operations\u001b[0;34m(population)\u001b[0m\n\u001b[1;32m     47\u001b[0m \u001b[38;5;28;01mfor\u001b[39;00m gen \u001b[38;5;129;01min\u001b[39;00m tqdm(\u001b[38;5;28mrange\u001b[39m(NGEN), desc\u001b[38;5;241m=\u001b[39m\u001b[38;5;124m\"\u001b[39m\u001b[38;5;124mGeneration\u001b[39m\u001b[38;5;124m\"\u001b[39m):\n\u001b[1;32m     48\u001b[0m     offspring \u001b[38;5;241m=\u001b[39m algorithms\u001b[38;5;241m.\u001b[39mvarAnd(population, toolbox, cxpb\u001b[38;5;241m=\u001b[39m\u001b[38;5;241m0.7\u001b[39m, mutpb\u001b[38;5;241m=\u001b[39m\u001b[38;5;241m0.8\u001b[39m)\n\u001b[0;32m---> 49\u001b[0m     fits \u001b[38;5;241m=\u001b[39m \u001b[38;5;28;43mlist\u001b[39;49m\u001b[43m(\u001b[49m\u001b[43mexecutor\u001b[49m\u001b[38;5;241;43m.\u001b[39;49m\u001b[43mmap\u001b[49m\u001b[43m(\u001b[49m\u001b[43mtoolbox\u001b[49m\u001b[38;5;241;43m.\u001b[39;49m\u001b[43mevaluate\u001b[49m\u001b[43m,\u001b[49m\u001b[43m \u001b[49m\u001b[43moffspring\u001b[49m\u001b[43m)\u001b[49m\u001b[43m)\u001b[49m\n\u001b[1;32m     50\u001b[0m     \u001b[38;5;28;01mfor\u001b[39;00m fit, ind \u001b[38;5;129;01min\u001b[39;00m \u001b[38;5;28mzip\u001b[39m(fits, offspring):\n\u001b[1;32m     51\u001b[0m         ind\u001b[38;5;241m.\u001b[39mfitness\u001b[38;5;241m.\u001b[39mvalues \u001b[38;5;241m=\u001b[39m fit\n",
      "File \u001b[0;32m/usr/lib/python3.10/concurrent/futures/_base.py:621\u001b[0m, in \u001b[0;36mExecutor.map.<locals>.result_iterator\u001b[0;34m()\u001b[0m\n\u001b[1;32m    618\u001b[0m \u001b[38;5;28;01mwhile\u001b[39;00m fs:\n\u001b[1;32m    619\u001b[0m     \u001b[38;5;66;03m# Careful not to keep a reference to the popped future\u001b[39;00m\n\u001b[1;32m    620\u001b[0m     \u001b[38;5;28;01mif\u001b[39;00m timeout \u001b[38;5;129;01mis\u001b[39;00m \u001b[38;5;28;01mNone\u001b[39;00m:\n\u001b[0;32m--> 621\u001b[0m         \u001b[38;5;28;01myield\u001b[39;00m \u001b[43m_result_or_cancel\u001b[49m\u001b[43m(\u001b[49m\u001b[43mfs\u001b[49m\u001b[38;5;241;43m.\u001b[39;49m\u001b[43mpop\u001b[49m\u001b[43m(\u001b[49m\u001b[43m)\u001b[49m\u001b[43m)\u001b[49m\n\u001b[1;32m    622\u001b[0m     \u001b[38;5;28;01melse\u001b[39;00m:\n\u001b[1;32m    623\u001b[0m         \u001b[38;5;28;01myield\u001b[39;00m _result_or_cancel(fs\u001b[38;5;241m.\u001b[39mpop(), end_time \u001b[38;5;241m-\u001b[39m time\u001b[38;5;241m.\u001b[39mmonotonic())\n",
      "File \u001b[0;32m/usr/lib/python3.10/concurrent/futures/_base.py:319\u001b[0m, in \u001b[0;36m_result_or_cancel\u001b[0;34m(***failed resolving arguments***)\u001b[0m\n\u001b[1;32m    317\u001b[0m \u001b[38;5;28;01mtry\u001b[39;00m:\n\u001b[1;32m    318\u001b[0m     \u001b[38;5;28;01mtry\u001b[39;00m:\n\u001b[0;32m--> 319\u001b[0m         \u001b[38;5;28;01mreturn\u001b[39;00m \u001b[43mfut\u001b[49m\u001b[38;5;241;43m.\u001b[39;49m\u001b[43mresult\u001b[49m\u001b[43m(\u001b[49m\u001b[43mtimeout\u001b[49m\u001b[43m)\u001b[49m\n\u001b[1;32m    320\u001b[0m     \u001b[38;5;28;01mfinally\u001b[39;00m:\n\u001b[1;32m    321\u001b[0m         fut\u001b[38;5;241m.\u001b[39mcancel()\n",
      "File \u001b[0;32m/usr/lib/python3.10/concurrent/futures/_base.py:453\u001b[0m, in \u001b[0;36mFuture.result\u001b[0;34m(self, timeout)\u001b[0m\n\u001b[1;32m    450\u001b[0m \u001b[38;5;28;01melif\u001b[39;00m \u001b[38;5;28mself\u001b[39m\u001b[38;5;241m.\u001b[39m_state \u001b[38;5;241m==\u001b[39m FINISHED:\n\u001b[1;32m    451\u001b[0m     \u001b[38;5;28;01mreturn\u001b[39;00m \u001b[38;5;28mself\u001b[39m\u001b[38;5;241m.\u001b[39m__get_result()\n\u001b[0;32m--> 453\u001b[0m \u001b[38;5;28;43mself\u001b[39;49m\u001b[38;5;241;43m.\u001b[39;49m\u001b[43m_condition\u001b[49m\u001b[38;5;241;43m.\u001b[39;49m\u001b[43mwait\u001b[49m\u001b[43m(\u001b[49m\u001b[43mtimeout\u001b[49m\u001b[43m)\u001b[49m\n\u001b[1;32m    455\u001b[0m \u001b[38;5;28;01mif\u001b[39;00m \u001b[38;5;28mself\u001b[39m\u001b[38;5;241m.\u001b[39m_state \u001b[38;5;129;01min\u001b[39;00m [CANCELLED, CANCELLED_AND_NOTIFIED]:\n\u001b[1;32m    456\u001b[0m     \u001b[38;5;28;01mraise\u001b[39;00m CancelledError()\n",
      "File \u001b[0;32m/usr/lib/python3.10/threading.py:320\u001b[0m, in \u001b[0;36mCondition.wait\u001b[0;34m(self, timeout)\u001b[0m\n\u001b[1;32m    318\u001b[0m \u001b[38;5;28;01mtry\u001b[39;00m:    \u001b[38;5;66;03m# restore state no matter what (e.g., KeyboardInterrupt)\u001b[39;00m\n\u001b[1;32m    319\u001b[0m     \u001b[38;5;28;01mif\u001b[39;00m timeout \u001b[38;5;129;01mis\u001b[39;00m \u001b[38;5;28;01mNone\u001b[39;00m:\n\u001b[0;32m--> 320\u001b[0m         \u001b[43mwaiter\u001b[49m\u001b[38;5;241;43m.\u001b[39;49m\u001b[43macquire\u001b[49m\u001b[43m(\u001b[49m\u001b[43m)\u001b[49m\n\u001b[1;32m    321\u001b[0m         gotit \u001b[38;5;241m=\u001b[39m \u001b[38;5;28;01mTrue\u001b[39;00m\n\u001b[1;32m    322\u001b[0m     \u001b[38;5;28;01melse\u001b[39;00m:\n",
      "\u001b[0;31mKeyboardInterrupt\u001b[0m: "
     ]
    }
   ],
   "source": [
    "import concurrent.futures\n",
    "\n",
    "# Set up the environment and definitions for DEAP\n",
    "creator.create(\"FitnessMax\", base.Fitness, weights=(1.0,))\n",
    "creator.create(\"Individual\", list, fitness=creator.FitnessMax)\n",
    "\n",
    "toolbox = base.Toolbox()\n",
    "\n",
    "# Attribute generators for the hyperparameters\n",
    "toolbox.register(\"max_depth\", random.randint, 10, 100)  # Tree depth from 10 to 100\n",
    "toolbox.register(\"min_samples_split\", random.randint, 8, 50)  # Min samples split from 8 to 50\n",
    "toolbox.register(\"min_samples_leaf\", random.randint, 50, 150)  # Min samples leaf from 50 to 150\n",
    "\n",
    "# Structure initializers\n",
    "toolbox.register(\"individual\", tools.initCycle, creator.Individual,\n",
    "                 (toolbox.max_depth, toolbox.min_samples_split, toolbox.min_samples_leaf), n=1)\n",
    "toolbox.register(\"population\", tools.initRepeat, list, toolbox.individual)\n",
    "\n",
    "# Evaluation function\n",
    "def eval_decision_tree(individual):\n",
    "    max_depth, min_samples_split, min_samples_leaf = individual\n",
    "    model = DecisionTreeClassifier(max_depth=max_depth,\n",
    "                                   min_samples_split=min_samples_split,\n",
    "                                   min_samples_leaf=min_samples_leaf,\n",
    "                                   random_state=42)\n",
    "    model.fit(X_train, y_train)\n",
    "    predictions = model.predict(X_test)\n",
    "    accuracy = accuracy_score(y_test, predictions)\n",
    "    return accuracy,\n",
    "\n",
    "toolbox.register(\"evaluate\", eval_decision_tree)\n",
    "toolbox.register(\"mate\", tools.cxTwoPoint)  # Two-point crossover\n",
    "toolbox.register(\"mutate\", tools.mutUniformInt, low=[10, 8, 50], up=[100, 50, 150], indpb=0.8)\n",
    "toolbox.register(\"select\", tools.selTournament, tournsize=30)\n",
    "\n",
    "# Initialize population\n",
    "population = toolbox.population(n=100)  # Increased population\n",
    "NGEN = 40\n",
    "best_fitnesses = []\n",
    "\n",
    "# Function to perform evolutionary operations and manage restarts\n",
    "def perform_evolutionary_operations(population):\n",
    "    stagnant_generations = 0\n",
    "    best_fitness = 0\n",
    "\n",
    "    with concurrent.futures.ThreadPoolExecutor() as executor:\n",
    "        for gen in tqdm(range(NGEN), desc=\"Generation\"):\n",
    "            offspring = algorithms.varAnd(population, toolbox, cxpb=0.7, mutpb=0.8)\n",
    "            fits = list(executor.map(toolbox.evaluate, offspring))\n",
    "            for fit, ind in zip(fits, offspring):\n",
    "                ind.fitness.values = fit\n",
    "\n",
    "            # Elitism: Keep the best individual from the previous generation\n",
    "            best = tools.selBest(population, 1)[0]\n",
    "            population = toolbox.select(offspring, k=len(population) - 1) + [best]\n",
    "            \n",
    "            current_best = tools.selBest(population, 1)[0]\n",
    "            best_fitnesses.append(current_best.fitness.values[0])\n",
    "            print(f'Generation {gen+1}, Best individual fitness: {current_best.fitness.values[0]}')\n",
    "            print(\"max_depth:\", current_best[0])\n",
    "            print(\"min_samples_split:\", current_best[1])\n",
    "            print(\"min_samples_leaf:\", current_best[2])\n",
    "\n",
    "            # Check for stagnant fitness\n",
    "            if current_best.fitness.values[0] > best_fitness:\n",
    "                best_fitness = current_best.fitness.values[0]\n",
    "                stagnant_generations = 0\n",
    "            else:\n",
    "                stagnant_generations += 1\n",
    "\n",
    "            # Restart strategy\n",
    "            if stagnant_generations >= 2:\n",
    "                print(\"Restarting due to stagnant fitness...\")\n",
    "                population = toolbox.population(n=100)  # Restart with a new population\n",
    "                best_fitness = 0\n",
    "                stagnant_generations = 0\n",
    "\n",
    "    return population\n",
    "\n",
    "final_population = perform_evolutionary_operations(population)\n",
    "top_individual = tools.selBest(final_population, k=1)[0]\n",
    "print('Best Individual:', top_individual)\n",
    "print('Best Fitness:', top_individual.fitness.values[0])\n",
    "\n",
    "# Plotting the fitness values\n",
    "plt.figure(figsize=(10, 5))\n",
    "plt.plot(best_fitnesses)\n",
    "plt.title('Fitness values per generation')\n",
    "plt.xlabel('Generation')\n",
    "plt.ylabel('Fitness')\n",
    "plt.show()"
   ]
  },
  {
   "cell_type": "code",
   "execution_count": 61,
   "metadata": {},
   "outputs": [
    {
     "name": "stderr",
     "output_type": "stream",
     "text": [
      "/home/hashim/.local/lib/python3.10/site-packages/deap/creator.py:185: RuntimeWarning: A class named 'FitnessMax' has already been created and it will be overwritten. Consider deleting previous creation of that class or rename it.\n",
      "  warnings.warn(\"A class named '{0}' has already been created and it \"\n",
      "/home/hashim/.local/lib/python3.10/site-packages/deap/creator.py:185: RuntimeWarning: A class named 'Individual' has already been created and it will be overwritten. Consider deleting previous creation of that class or rename it.\n",
      "  warnings.warn(\"A class named '{0}' has already been created and it \"\n",
      "Generation:   2%|▎         | 1/40 [00:03<02:12,  3.41s/it]"
     ]
    },
    {
     "name": "stdout",
     "output_type": "stream",
     "text": [
      "Generation 1, Best individual fitness: 0.5506000097167566\n",
      "max_depth: 25\n",
      "min_samples_split: 17\n",
      "min_samples_leaf: 103\n",
      "criterion: gini\n",
      "splitter: best\n",
      "max_features: sqrt\n",
      "min_weight_fraction_leaf: 0.24373776104245753\n",
      "max_leaf_nodes: 6970\n",
      "min_impurity_decrease: 1.046902907356052\n",
      "ccp_alpha: 2.1133431135639755\n"
     ]
    },
    {
     "name": "stderr",
     "output_type": "stream",
     "text": [
      "Generation:   5%|▌         | 2/40 [00:06<02:08,  3.39s/it]"
     ]
    },
    {
     "name": "stdout",
     "output_type": "stream",
     "text": [
      "Generation 2, Best individual fitness: 0.5506000097167566\n",
      "max_depth: 20\n",
      "min_samples_split: 41\n",
      "min_samples_leaf: 54\n",
      "criterion: entropy\n",
      "splitter: random\n",
      "max_features: sqrt\n",
      "min_weight_fraction_leaf: 0.4033292208560663\n",
      "max_leaf_nodes: 5636\n",
      "min_impurity_decrease: 3.632428390719315\n",
      "ccp_alpha: 4.180266807089124\n"
     ]
    },
    {
     "name": "stderr",
     "output_type": "stream",
     "text": [
      "Generation:   8%|▊         | 3/40 [00:10<02:05,  3.40s/it]"
     ]
    },
    {
     "name": "stdout",
     "output_type": "stream",
     "text": [
      "Generation 3, Best individual fitness: 0.5506000097167566\n",
      "max_depth: 52\n",
      "min_samples_split: 21\n",
      "min_samples_leaf: 69\n",
      "criterion: entropy\n",
      "splitter: best\n",
      "max_features: sqrt\n",
      "min_weight_fraction_leaf: 0.24373776104245753\n",
      "max_leaf_nodes: 5970\n",
      "min_impurity_decrease: 3.9044804779263984\n",
      "ccp_alpha: 2.907305730725463\n"
     ]
    },
    {
     "name": "stderr",
     "output_type": "stream",
     "text": [
      "Generation:  10%|█         | 4/40 [00:13<02:01,  3.39s/it]"
     ]
    },
    {
     "name": "stdout",
     "output_type": "stream",
     "text": [
      "Generation 4, Best individual fitness: 0.5506000097167566\n",
      "max_depth: 22\n",
      "min_samples_split: 19\n",
      "min_samples_leaf: 125\n",
      "criterion: entropy\n",
      "splitter: random\n",
      "max_features: None\n",
      "min_weight_fraction_leaf: 0.009702015979534406\n",
      "max_leaf_nodes: 6994\n",
      "min_impurity_decrease: 3.666664190597345\n",
      "ccp_alpha: 0.20659922113770157\n",
      "Restarting due to stagnant fitness...\n"
     ]
    },
    {
     "name": "stderr",
     "output_type": "stream",
     "text": [
      "Generation:  12%|█▎        | 5/40 [00:20<02:39,  4.57s/it]"
     ]
    },
    {
     "name": "stdout",
     "output_type": "stream",
     "text": [
      "Generation 5, Best individual fitness: 0.5506000097167566\n",
      "max_depth: 99\n",
      "min_samples_split: 42\n",
      "min_samples_leaf: 120\n",
      "criterion: entropy\n",
      "splitter: best\n",
      "max_features: log2\n",
      "min_weight_fraction_leaf: 0.45686007386438476\n",
      "max_leaf_nodes: 2514\n",
      "min_impurity_decrease: 4.6390174379549105\n",
      "ccp_alpha: 2.4359571039098302\n"
     ]
    },
    {
     "name": "stderr",
     "output_type": "stream",
     "text": [
      "Generation:  15%|█▌        | 6/40 [00:26<02:58,  5.24s/it]"
     ]
    },
    {
     "name": "stdout",
     "output_type": "stream",
     "text": [
      "Generation 6, Best individual fitness: 0.5506000097167566\n",
      "max_depth: 31\n",
      "min_samples_split: 47\n",
      "min_samples_leaf: 63\n",
      "criterion: entropy\n",
      "splitter: random\n",
      "max_features: sqrt\n",
      "min_weight_fraction_leaf: 0.3739771734847682\n",
      "max_leaf_nodes: 9503\n",
      "min_impurity_decrease: 3.615069298302853\n",
      "ccp_alpha: 4.882850097862226\n"
     ]
    },
    {
     "name": "stderr",
     "output_type": "stream",
     "text": [
      "Generation:  18%|█▊        | 7/40 [00:33<03:05,  5.63s/it]"
     ]
    },
    {
     "name": "stdout",
     "output_type": "stream",
     "text": [
      "Generation 7, Best individual fitness: 0.5506000097167566\n",
      "max_depth: 91\n",
      "min_samples_split: 18\n",
      "min_samples_leaf: 138\n",
      "criterion: entropy\n",
      "splitter: random\n",
      "max_features: sqrt\n",
      "min_weight_fraction_leaf: 0.37296494421209775\n",
      "max_leaf_nodes: 6974\n",
      "min_impurity_decrease: 3.777353379691717\n",
      "ccp_alpha: 1.376798578193037\n"
     ]
    },
    {
     "name": "stderr",
     "output_type": "stream",
     "text": [
      "Generation:  20%|██        | 8/40 [00:39<03:10,  5.94s/it]"
     ]
    },
    {
     "name": "stdout",
     "output_type": "stream",
     "text": [
      "Generation 8, Best individual fitness: 0.5506000097167566\n",
      "max_depth: 66\n",
      "min_samples_split: 18\n",
      "min_samples_leaf: 91\n",
      "criterion: gini\n",
      "splitter: random\n",
      "max_features: sqrt\n",
      "min_weight_fraction_leaf: 0.1667085568396836\n",
      "max_leaf_nodes: 921\n",
      "min_impurity_decrease: 3.777353379691717\n",
      "ccp_alpha: 0.5098942808046386\n",
      "Restarting due to stagnant fitness...\n"
     ]
    },
    {
     "name": "stderr",
     "output_type": "stream",
     "text": [
      "Generation:  22%|██▎       | 9/40 [00:45<03:06,  6.02s/it]"
     ]
    },
    {
     "name": "stdout",
     "output_type": "stream",
     "text": [
      "Generation 9, Best individual fitness: 0.5506000097167566\n",
      "max_depth: 71\n",
      "min_samples_split: 49\n",
      "min_samples_leaf: 97\n",
      "criterion: entropy\n",
      "splitter: random\n",
      "max_features: log2\n",
      "min_weight_fraction_leaf: 0.3727014938715249\n",
      "max_leaf_nodes: 7903\n",
      "min_impurity_decrease: 0.35006487202222103\n",
      "ccp_alpha: 3.5949784254192463\n"
     ]
    },
    {
     "name": "stderr",
     "output_type": "stream",
     "text": [
      "Generation:  25%|██▌       | 10/40 [00:51<03:00,  6.01s/it]"
     ]
    },
    {
     "name": "stdout",
     "output_type": "stream",
     "text": [
      "Generation 10, Best individual fitness: 0.5506000097167566\n",
      "max_depth: 61\n",
      "min_samples_split: 49\n",
      "min_samples_leaf: 125\n",
      "criterion: gini\n",
      "splitter: best\n",
      "max_features: sqrt\n",
      "min_weight_fraction_leaf: 0.1974175347173196\n",
      "max_leaf_nodes: 5329\n",
      "min_impurity_decrease: 1.8629527498346015\n",
      "ccp_alpha: 1.4174097108856003\n"
     ]
    },
    {
     "name": "stderr",
     "output_type": "stream",
     "text": [
      "Generation:  28%|██▊       | 11/40 [00:58<02:57,  6.13s/it]"
     ]
    },
    {
     "name": "stdout",
     "output_type": "stream",
     "text": [
      "Generation 11, Best individual fitness: 0.5506000097167566\n",
      "max_depth: 16\n",
      "min_samples_split: 35\n",
      "min_samples_leaf: 125\n",
      "criterion: gini\n",
      "splitter: best\n",
      "max_features: log2\n",
      "min_weight_fraction_leaf: 0.2994886898999574\n",
      "max_leaf_nodes: 2692\n",
      "min_impurity_decrease: 0.11256240743096835\n",
      "ccp_alpha: 2.8282450489539728\n"
     ]
    },
    {
     "name": "stderr",
     "output_type": "stream",
     "text": [
      "Generation:  30%|███       | 12/40 [01:04<02:54,  6.25s/it]"
     ]
    },
    {
     "name": "stdout",
     "output_type": "stream",
     "text": [
      "Generation 12, Best individual fitness: 0.5506000097167566\n",
      "max_depth: 34\n",
      "min_samples_split: 11\n",
      "min_samples_leaf: 74\n",
      "criterion: gini\n",
      "splitter: random\n",
      "max_features: sqrt\n",
      "min_weight_fraction_leaf: 0.4622827621384695\n",
      "max_leaf_nodes: 9766\n",
      "min_impurity_decrease: 1.2911017152857274\n",
      "ccp_alpha: 4.752098381250156\n",
      "Restarting due to stagnant fitness...\n"
     ]
    },
    {
     "name": "stderr",
     "output_type": "stream",
     "text": [
      "Generation:  32%|███▎      | 13/40 [01:11<02:51,  6.34s/it]"
     ]
    },
    {
     "name": "stdout",
     "output_type": "stream",
     "text": [
      "Generation 13, Best individual fitness: 0.7406111839867852\n",
      "max_depth: 84\n",
      "min_samples_split: 47\n",
      "min_samples_leaf: 85\n",
      "criterion: entropy\n",
      "splitter: random\n",
      "max_features: None\n",
      "min_weight_fraction_leaf: 0.21147975773902572\n",
      "max_leaf_nodes: 2067\n",
      "min_impurity_decrease: 0.05089237264258972\n",
      "ccp_alpha: 0.24472576373128885\n"
     ]
    },
    {
     "name": "stderr",
     "output_type": "stream",
     "text": [
      "Generation:  35%|███▌      | 14/40 [01:18<02:48,  6.47s/it]"
     ]
    },
    {
     "name": "stdout",
     "output_type": "stream",
     "text": [
      "Generation 14, Best individual fitness: 0.7663241509983967\n",
      "max_depth: 78\n",
      "min_samples_split: 10\n",
      "min_samples_leaf: 145\n",
      "criterion: entropy\n",
      "splitter: best\n",
      "max_features: sqrt\n",
      "min_weight_fraction_leaf: 0.07360862732349949\n",
      "max_leaf_nodes: 9655\n",
      "min_impurity_decrease: 0.05089237264258972\n",
      "ccp_alpha: 0.24472576373128885\n"
     ]
    },
    {
     "name": "stderr",
     "output_type": "stream",
     "text": [
      "Generation:  38%|███▊      | 15/40 [01:25<02:44,  6.58s/it]"
     ]
    },
    {
     "name": "stdout",
     "output_type": "stream",
     "text": [
      "Generation 15, Best individual fitness: 0.7663241509983967\n",
      "max_depth: 43\n",
      "min_samples_split: 39\n",
      "min_samples_leaf: 50\n",
      "criterion: entropy\n",
      "splitter: best\n",
      "max_features: sqrt\n",
      "min_weight_fraction_leaf: 0.07360862732349949\n",
      "max_leaf_nodes: 5887\n",
      "min_impurity_decrease: 0.14427693769028194\n",
      "ccp_alpha: 0.1117431711171829\n"
     ]
    },
    {
     "name": "stderr",
     "output_type": "stream",
     "text": [
      "Generation:  40%|████      | 16/40 [01:31<02:38,  6.61s/it]"
     ]
    },
    {
     "name": "stdout",
     "output_type": "stream",
     "text": [
      "Generation 16, Best individual fitness: 0.7663241509983967\n",
      "max_depth: 84\n",
      "min_samples_split: 26\n",
      "min_samples_leaf: 119\n",
      "criterion: gini\n",
      "splitter: best\n",
      "max_features: None\n",
      "min_weight_fraction_leaf: 0.21147975773902572\n",
      "max_leaf_nodes: 2067\n",
      "min_impurity_decrease: 0.05089237264258972\n",
      "ccp_alpha: 0.24472576373128885\n"
     ]
    },
    {
     "name": "stderr",
     "output_type": "stream",
     "text": [
      "Generation:  42%|████▎     | 17/40 [01:39<02:38,  6.90s/it]"
     ]
    },
    {
     "name": "stdout",
     "output_type": "stream",
     "text": [
      "Generation 17, Best individual fitness: 0.7663241509983967\n",
      "max_depth: 84\n",
      "min_samples_split: 47\n",
      "min_samples_leaf: 85\n",
      "criterion: entropy\n",
      "splitter: best\n",
      "max_features: None\n",
      "min_weight_fraction_leaf: 0.21147975773902572\n",
      "max_leaf_nodes: 4954\n",
      "min_impurity_decrease: 0.05089237264258972\n",
      "ccp_alpha: 0.24472576373128885\n",
      "Restarting due to stagnant fitness...\n"
     ]
    },
    {
     "name": "stderr",
     "output_type": "stream",
     "text": [
      "Generation:  45%|████▌     | 18/40 [01:45<02:26,  6.67s/it]"
     ]
    },
    {
     "name": "stdout",
     "output_type": "stream",
     "text": [
      "Generation 18, Best individual fitness: 0.5506000097167566\n",
      "max_depth: 11\n",
      "min_samples_split: 42\n",
      "min_samples_leaf: 146\n",
      "criterion: gini\n",
      "splitter: random\n",
      "max_features: sqrt\n",
      "min_weight_fraction_leaf: 0.3585192880173441\n",
      "max_leaf_nodes: 7312\n",
      "min_impurity_decrease: 4.166210155597661\n",
      "ccp_alpha: 2.15434409838416\n"
     ]
    },
    {
     "name": "stderr",
     "output_type": "stream",
     "text": [
      "Generation:  48%|████▊     | 19/40 [01:51<02:15,  6.47s/it]"
     ]
    },
    {
     "name": "stdout",
     "output_type": "stream",
     "text": [
      "Generation 19, Best individual fitness: 0.5506000097167566\n",
      "max_depth: 52\n",
      "min_samples_split: 34\n",
      "min_samples_leaf: 140\n",
      "criterion: entropy\n",
      "splitter: best\n",
      "max_features: log2\n",
      "min_weight_fraction_leaf: 0.48122207516918974\n",
      "max_leaf_nodes: 6579\n",
      "min_impurity_decrease: 1.785655473510031\n",
      "ccp_alpha: 1.6616702669474104\n"
     ]
    },
    {
     "name": "stderr",
     "output_type": "stream",
     "text": [
      "Generation:  50%|█████     | 20/40 [01:57<02:07,  6.39s/it]"
     ]
    },
    {
     "name": "stdout",
     "output_type": "stream",
     "text": [
      "Generation 20, Best individual fitness: 0.5506000097167566\n",
      "max_depth: 31\n",
      "min_samples_split: 46\n",
      "min_samples_leaf: 76\n",
      "criterion: gini\n",
      "splitter: best\n",
      "max_features: sqrt\n",
      "min_weight_fraction_leaf: 0.22697983058293708\n",
      "max_leaf_nodes: 9177\n",
      "min_impurity_decrease: 1.0566443740006477\n",
      "ccp_alpha: 0.6517163274163978\n"
     ]
    },
    {
     "name": "stderr",
     "output_type": "stream",
     "text": [
      "Generation:  52%|█████▎    | 21/40 [02:04<02:02,  6.44s/it]"
     ]
    },
    {
     "name": "stdout",
     "output_type": "stream",
     "text": [
      "Generation 21, Best individual fitness: 0.5506000097167566\n",
      "max_depth: 97\n",
      "min_samples_split: 37\n",
      "min_samples_leaf: 113\n",
      "criterion: gini\n",
      "splitter: random\n",
      "max_features: log2\n",
      "min_weight_fraction_leaf: 0.20936665452543052\n",
      "max_leaf_nodes: 8223\n",
      "min_impurity_decrease: 4.502552220094832\n",
      "ccp_alpha: 2.6165597131480944\n",
      "Restarting due to stagnant fitness...\n"
     ]
    },
    {
     "name": "stderr",
     "output_type": "stream",
     "text": [
      "Generation:  55%|█████▌    | 22/40 [02:10<01:54,  6.37s/it]"
     ]
    },
    {
     "name": "stdout",
     "output_type": "stream",
     "text": [
      "Generation 22, Best individual fitness: 0.5506000097167566\n",
      "max_depth: 39\n",
      "min_samples_split: 26\n",
      "min_samples_leaf: 113\n",
      "criterion: entropy\n",
      "splitter: random\n",
      "max_features: None\n",
      "min_weight_fraction_leaf: 0.411908738273487\n",
      "max_leaf_nodes: 1636\n",
      "min_impurity_decrease: 2.1026699206550687\n",
      "ccp_alpha: 1.5343210030654038\n"
     ]
    },
    {
     "name": "stderr",
     "output_type": "stream",
     "text": [
      "Generation:  57%|█████▊    | 23/40 [02:16<01:45,  6.20s/it]"
     ]
    },
    {
     "name": "stdout",
     "output_type": "stream",
     "text": [
      "Generation 23, Best individual fitness: 0.5506000097167566\n",
      "max_depth: 95\n",
      "min_samples_split: 30\n",
      "min_samples_leaf: 67\n",
      "criterion: entropy\n",
      "splitter: random\n",
      "max_features: log2\n",
      "min_weight_fraction_leaf: 0.4753461611078111\n",
      "max_leaf_nodes: 7356\n",
      "min_impurity_decrease: 1.3130963025732756\n",
      "ccp_alpha: 0.20749661261170005\n"
     ]
    },
    {
     "name": "stderr",
     "output_type": "stream",
     "text": [
      "Generation:  60%|██████    | 24/40 [02:21<01:36,  6.02s/it]"
     ]
    },
    {
     "name": "stdout",
     "output_type": "stream",
     "text": [
      "Generation 24, Best individual fitness: 0.5506000097167566\n",
      "max_depth: 46\n",
      "min_samples_split: 26\n",
      "min_samples_leaf: 105\n",
      "criterion: gini\n",
      "splitter: random\n",
      "max_features: None\n",
      "min_weight_fraction_leaf: 0.20810429124810498\n",
      "max_leaf_nodes: 91\n",
      "min_impurity_decrease: 3.791618626639641\n",
      "ccp_alpha: 1.8045471908133544\n"
     ]
    },
    {
     "name": "stderr",
     "output_type": "stream",
     "text": [
      "Generation:  62%|██████▎   | 25/40 [02:27<01:29,  5.97s/it]"
     ]
    },
    {
     "name": "stdout",
     "output_type": "stream",
     "text": [
      "Generation 25, Best individual fitness: 0.5506000097167566\n",
      "max_depth: 69\n",
      "min_samples_split: 30\n",
      "min_samples_leaf: 83\n",
      "criterion: entropy\n",
      "splitter: random\n",
      "max_features: None\n",
      "min_weight_fraction_leaf: 0.46140313556409185\n",
      "max_leaf_nodes: 8536\n",
      "min_impurity_decrease: 0.5099554670845158\n",
      "ccp_alpha: 2.6998165191631838\n",
      "Restarting due to stagnant fitness...\n"
     ]
    },
    {
     "name": "stderr",
     "output_type": "stream",
     "text": [
      "Generation:  65%|██████▌   | 26/40 [02:33<01:23,  5.96s/it]"
     ]
    },
    {
     "name": "stdout",
     "output_type": "stream",
     "text": [
      "Generation 26, Best individual fitness: 0.5506000097167566\n",
      "max_depth: 26\n",
      "min_samples_split: 47\n",
      "min_samples_leaf: 129\n",
      "criterion: gini\n",
      "splitter: random\n",
      "max_features: log2\n",
      "min_weight_fraction_leaf: 0.2905725998281282\n",
      "max_leaf_nodes: 6381\n",
      "min_impurity_decrease: 0.8985926177257625\n",
      "ccp_alpha: 0.25905326078444646\n"
     ]
    },
    {
     "name": "stderr",
     "output_type": "stream",
     "text": [
      "Generation:  68%|██████▊   | 27/40 [02:39<01:16,  5.91s/it]"
     ]
    },
    {
     "name": "stdout",
     "output_type": "stream",
     "text": [
      "Generation 27, Best individual fitness: 0.5506000097167566\n",
      "max_depth: 30\n",
      "min_samples_split: 44\n",
      "min_samples_leaf: 102\n",
      "criterion: entropy\n",
      "splitter: random\n",
      "max_features: sqrt\n",
      "min_weight_fraction_leaf: 0.24678097418228756\n",
      "max_leaf_nodes: 1439\n",
      "min_impurity_decrease: 0.3510773386109084\n",
      "ccp_alpha: 3.805155219613932\n"
     ]
    },
    {
     "name": "stderr",
     "output_type": "stream",
     "text": [
      "Generation:  70%|███████   | 28/40 [02:45<01:10,  5.87s/it]"
     ]
    },
    {
     "name": "stdout",
     "output_type": "stream",
     "text": [
      "Generation 28, Best individual fitness: 0.5506000097167566\n",
      "max_depth: 100\n",
      "min_samples_split: 24\n",
      "min_samples_leaf: 52\n",
      "criterion: entropy\n",
      "splitter: random\n",
      "max_features: None\n",
      "min_weight_fraction_leaf: 0.0926268881686732\n",
      "max_leaf_nodes: 1987\n",
      "min_impurity_decrease: 1.5805618296863448\n",
      "ccp_alpha: 2.2482969891241362\n"
     ]
    },
    {
     "name": "stderr",
     "output_type": "stream",
     "text": [
      "Generation:  72%|███████▎  | 29/40 [02:51<01:05,  5.96s/it]"
     ]
    },
    {
     "name": "stdout",
     "output_type": "stream",
     "text": [
      "Generation 29, Best individual fitness: 0.5506000097167566\n",
      "max_depth: 27\n",
      "min_samples_split: 19\n",
      "min_samples_leaf: 87\n",
      "criterion: gini\n",
      "splitter: best\n",
      "max_features: None\n",
      "min_weight_fraction_leaf: 0.1539892801398261\n",
      "max_leaf_nodes: 4436\n",
      "min_impurity_decrease: 2.8589846260721035\n",
      "ccp_alpha: 4.804580522624655\n",
      "Restarting due to stagnant fitness...\n"
     ]
    },
    {
     "name": "stderr",
     "output_type": "stream",
     "text": [
      "Generation:  75%|███████▌  | 30/40 [02:57<01:00,  6.05s/it]"
     ]
    },
    {
     "name": "stdout",
     "output_type": "stream",
     "text": [
      "Generation 30, Best individual fitness: 0.5506000097167566\n",
      "max_depth: 94\n",
      "min_samples_split: 8\n",
      "min_samples_leaf: 98\n",
      "criterion: entropy\n",
      "splitter: random\n",
      "max_features: log2\n",
      "min_weight_fraction_leaf: 0.48011748044571356\n",
      "max_leaf_nodes: 7374\n",
      "min_impurity_decrease: 2.4634853577419973\n",
      "ccp_alpha: 2.3953673728021996\n"
     ]
    },
    {
     "name": "stderr",
     "output_type": "stream",
     "text": [
      "Generation:  78%|███████▊  | 31/40 [03:03<00:54,  6.08s/it]"
     ]
    },
    {
     "name": "stdout",
     "output_type": "stream",
     "text": [
      "Generation 31, Best individual fitness: 0.5506000097167566\n",
      "max_depth: 72\n",
      "min_samples_split: 21\n",
      "min_samples_leaf: 69\n",
      "criterion: entropy\n",
      "splitter: best\n",
      "max_features: log2\n",
      "min_weight_fraction_leaf: 0.43576042371611035\n",
      "max_leaf_nodes: 5764\n",
      "min_impurity_decrease: 0.8178750446033106\n",
      "ccp_alpha: 1.1472100759419583\n"
     ]
    },
    {
     "name": "stderr",
     "output_type": "stream",
     "text": [
      "Generation:  80%|████████  | 32/40 [03:10<00:49,  6.14s/it]"
     ]
    },
    {
     "name": "stdout",
     "output_type": "stream",
     "text": [
      "Generation 32, Best individual fitness: 0.5506000097167566\n",
      "max_depth: 81\n",
      "min_samples_split: 9\n",
      "min_samples_leaf: 110\n",
      "criterion: entropy\n",
      "splitter: random\n",
      "max_features: sqrt\n",
      "min_weight_fraction_leaf: 0.4963366091287937\n",
      "max_leaf_nodes: 1632\n",
      "min_impurity_decrease: 0.0726081550592872\n",
      "ccp_alpha: 3.008907581437489\n"
     ]
    },
    {
     "name": "stderr",
     "output_type": "stream",
     "text": [
      "Generation:  82%|████████▎ | 33/40 [03:16<00:42,  6.13s/it]"
     ]
    },
    {
     "name": "stdout",
     "output_type": "stream",
     "text": [
      "Generation 33, Best individual fitness: 0.5506000097167566\n",
      "max_depth: 89\n",
      "min_samples_split: 17\n",
      "min_samples_leaf: 100\n",
      "criterion: gini\n",
      "splitter: random\n",
      "max_features: None\n",
      "min_weight_fraction_leaf: 0.4630500951897435\n",
      "max_leaf_nodes: 8187\n",
      "min_impurity_decrease: 0.9618681334555712\n",
      "ccp_alpha: 3.7022155027659824\n",
      "Restarting due to stagnant fitness...\n"
     ]
    },
    {
     "name": "stderr",
     "output_type": "stream",
     "text": [
      "Generation:  85%|████████▌ | 34/40 [03:22<00:37,  6.29s/it]"
     ]
    },
    {
     "name": "stdout",
     "output_type": "stream",
     "text": [
      "Generation 34, Best individual fitness: 0.5506000097167566\n",
      "max_depth: 62\n",
      "min_samples_split: 26\n",
      "min_samples_leaf: 116\n",
      "criterion: entropy\n",
      "splitter: best\n",
      "max_features: None\n",
      "min_weight_fraction_leaf: 0.24540131908242274\n",
      "max_leaf_nodes: 7527\n",
      "min_impurity_decrease: 4.133358623528136\n",
      "ccp_alpha: 4.59352321429106\n"
     ]
    },
    {
     "name": "stderr",
     "output_type": "stream",
     "text": [
      "Generation:  88%|████████▊ | 35/40 [03:29<00:31,  6.34s/it]"
     ]
    },
    {
     "name": "stdout",
     "output_type": "stream",
     "text": [
      "Generation 35, Best individual fitness: 0.7406111839867852\n",
      "max_depth: 78\n",
      "min_samples_split: 39\n",
      "min_samples_leaf: 79\n",
      "criterion: entropy\n",
      "splitter: random\n",
      "max_features: None\n",
      "min_weight_fraction_leaf: 0.2997392591524208\n",
      "max_leaf_nodes: 7080\n",
      "min_impurity_decrease: 0.028526762849147014\n",
      "ccp_alpha: 0.18984178213993286\n"
     ]
    },
    {
     "name": "stderr",
     "output_type": "stream",
     "text": [
      "Generation:  90%|█████████ | 36/40 [03:35<00:25,  6.42s/it]"
     ]
    },
    {
     "name": "stdout",
     "output_type": "stream",
     "text": [
      "Generation 36, Best individual fitness: 0.7406111839867852\n",
      "max_depth: 78\n",
      "min_samples_split: 39\n",
      "min_samples_leaf: 79\n",
      "criterion: entropy\n",
      "splitter: random\n",
      "max_features: None\n",
      "min_weight_fraction_leaf: 0.2997392591524208\n",
      "max_leaf_nodes: 7080\n",
      "min_impurity_decrease: 0.028526762849147014\n",
      "ccp_alpha: 0.18984178213993286\n"
     ]
    },
    {
     "name": "stderr",
     "output_type": "stream",
     "text": [
      "Generation:  92%|█████████▎| 37/40 [03:43<00:20,  6.69s/it]"
     ]
    },
    {
     "name": "stdout",
     "output_type": "stream",
     "text": [
      "Generation 37, Best individual fitness: 0.7406111839867852\n",
      "max_depth: 78\n",
      "min_samples_split: 39\n",
      "min_samples_leaf: 79\n",
      "criterion: entropy\n",
      "splitter: random\n",
      "max_features: None\n",
      "min_weight_fraction_leaf: 0.2997392591524208\n",
      "max_leaf_nodes: 7080\n",
      "min_impurity_decrease: 0.028526762849147014\n",
      "ccp_alpha: 0.18984178213993286\n"
     ]
    },
    {
     "name": "stderr",
     "output_type": "stream",
     "text": [
      "Generation:  95%|█████████▌| 38/40 [03:50<00:14,  7.00s/it]"
     ]
    },
    {
     "name": "stdout",
     "output_type": "stream",
     "text": [
      "Generation 38, Best individual fitness: 0.7663241509983967\n",
      "max_depth: 34\n",
      "min_samples_split: 27\n",
      "min_samples_leaf: 117\n",
      "criterion: entropy\n",
      "splitter: best\n",
      "max_features: sqrt\n",
      "min_weight_fraction_leaf: 0.23762701883602227\n",
      "max_leaf_nodes: 8588\n",
      "min_impurity_decrease: 0.028526762849147014\n",
      "ccp_alpha: 0.18984178213993286\n"
     ]
    },
    {
     "name": "stderr",
     "output_type": "stream",
     "text": [
      "Generation:  98%|█████████▊| 39/40 [03:58<00:07,  7.13s/it]"
     ]
    },
    {
     "name": "stdout",
     "output_type": "stream",
     "text": [
      "Generation 39, Best individual fitness: 0.7663241509983967\n",
      "max_depth: 61\n",
      "min_samples_split: 9\n",
      "min_samples_leaf: 80\n",
      "criterion: entropy\n",
      "splitter: best\n",
      "max_features: None\n",
      "min_weight_fraction_leaf: 0.12107642518636424\n",
      "max_leaf_nodes: 1443\n",
      "min_impurity_decrease: 0.3829063683013506\n",
      "ccp_alpha: 0.18984178213993286\n"
     ]
    },
    {
     "name": "stderr",
     "output_type": "stream",
     "text": [
      "Generation: 100%|██████████| 40/40 [04:06<00:00,  6.15s/it]"
     ]
    },
    {
     "name": "stdout",
     "output_type": "stream",
     "text": [
      "Generation 40, Best individual fitness: 0.7663241509983967\n",
      "max_depth: 37\n",
      "min_samples_split: 26\n",
      "min_samples_leaf: 148\n",
      "criterion: entropy\n",
      "splitter: best\n",
      "max_features: None\n",
      "min_weight_fraction_leaf: 0.13590670684018685\n",
      "max_leaf_nodes: 1306\n",
      "min_impurity_decrease: 0.028526762849147014\n",
      "ccp_alpha: 0.18984178213993286\n",
      "Best Individual: [37, 26, 148, 'entropy', 'best', None, 0.13590670684018685, 1306, 0.028526762849147014, 0.18984178213993286]\n",
      "Best Fitness: 0.7663241509983967\n"
     ]
    },
    {
     "name": "stderr",
     "output_type": "stream",
     "text": [
      "\n"
     ]
    },
    {
     "data": {
      "image/png": "[encoded data removed]",
      "text/plain": [
       "<Figure size 1000x500 with 1 Axes>"
      ]
     },
     "metadata": {},
     "output_type": "display_data"
    }
   ],
   "source": [
    "import random\n",
    "import numpy as np\n",
    "import matplotlib.pyplot as plt\n",
    "from tqdm import tqdm\n",
    "import concurrent.futures\n",
    "from sklearn.tree import DecisionTreeClassifier\n",
    "from sklearn.metrics import accuracy_score\n",
    "from deap import base, creator, tools, algorithms\n",
    "\n",
    "# Set up the environment for DEAP\n",
    "creator.create(\"FitnessMax\", base.Fitness, weights=(1.0,))\n",
    "creator.create(\"Individual\", list, fitness=creator.FitnessMax)\n",
    "\n",
    "toolbox = base.Toolbox()\n",
    "\n",
    "# Attribute generators for the hyperparameters\n",
    "toolbox.register(\"max_depth\", random.randint, 10, 100)  # Tree depth from 10 to 100\n",
    "toolbox.register(\"min_samples_split\", random.randint, 8, 50)  # Min samples split from 8 to 50\n",
    "toolbox.register(\"min_samples_leaf\", random.randint, 50, 150)  # Min samples leaf from 50 to 150\n",
    "toolbox.register(\"criterion\", random.choice, [\"gini\", \"entropy\"])\n",
    "toolbox.register(\"splitter\", random.choice, [\"best\", \"random\"])\n",
    "toolbox.register(\"max_features\", random.choice, [None, \"sqrt\", \"log2\"])\n",
    "toolbox.register(\"min_weight_fraction_leaf\", lambda: random.uniform(0, 0.5))\n",
    "toolbox.register(\"max_leaf_nodes\", lambda: random.randint(2, 10000))\n",
    "toolbox.register(\"min_impurity_decrease\", lambda: random.uniform(0, 5))\n",
    "toolbox.register(\"ccp_alpha\", lambda: random.uniform(0, 5))\n",
    "\n",
    "# Structure initializers\n",
    "toolbox.register(\"individual\", tools.initCycle, creator.Individual,\n",
    "                 (toolbox.max_depth, toolbox.min_samples_split, toolbox.min_samples_leaf,\n",
    "                  toolbox.criterion, toolbox.splitter, toolbox.max_features,\n",
    "                  toolbox.min_weight_fraction_leaf, toolbox.max_leaf_nodes,\n",
    "                  toolbox.min_impurity_decrease, toolbox.ccp_alpha), n=1)\n",
    "toolbox.register(\"population\", tools.initRepeat, list, toolbox.individual)\n",
    "\n",
    "# Evaluation function\n",
    "def eval_decision_tree(individual):\n",
    "    max_depth, min_samples_split, min_samples_leaf, criterion, splitter, \\\n",
    "    max_features, min_weight_fraction_leaf, max_leaf_nodes, min_impurity_decrease, \\\n",
    "    ccp_alpha = individual\n",
    "    model = DecisionTreeClassifier(max_depth=max_depth,\n",
    "                                   min_samples_split=min_samples_split,\n",
    "                                   min_samples_leaf=min_samples_leaf,\n",
    "                                   criterion=criterion,\n",
    "                                   splitter=splitter,\n",
    "                                   max_features=max_features,\n",
    "                                   min_weight_fraction_leaf=min_weight_fraction_leaf,\n",
    "                                   max_leaf_nodes=max_leaf_nodes,\n",
    "                                   min_impurity_decrease=min_impurity_decrease,\n",
    "                                   ccp_alpha=ccp_alpha,\n",
    "                                   random_state=42)\n",
    "    model.fit(X_train, y_train)  # Ensure X_train and y_train are defined\n",
    "    predictions = model.predict(X_test)  # Ensure X_test is defined\n",
    "    accuracy = accuracy_score(y_test, predictions)  # Ensure y_test is defined\n",
    "    return accuracy,\n",
    "\n",
    "# Custom mutation function adjusted to handle parameters correctly\n",
    "def custom_mutate(individual, numeric_bounds, categorical_choices, indpb):\n",
    "    for i in range(len(individual)):\n",
    "        if random.random() < indpb:\n",
    "            if i in [0, 1, 2]:  # Numeric parameters with integer bounds: max_depth, min_samples_split, min_samples_leaf\n",
    "                low, up = numeric_bounds[i]\n",
    "                individual[i] = random.randint(low, up)\n",
    "            elif i in [3, 4, 5]:  # Categorical parameters: criterion, splitter, max_features\n",
    "                individual[i] = random.choice(categorical_choices[i - 3])\n",
    "            elif i == 6:  # min_weight_fraction_leaf, a floating point within [0, 0.5]\n",
    "                individual[i] = random.uniform(0, 0.5)\n",
    "            elif i == 7:  # max_leaf_nodes, an integer from 2 to 10000\n",
    "                individual[i] = random.randint(2, 10000)\n",
    "            elif i in [8, 9]:  # min_impurity_decrease and ccp_alpha, floating points within [0, 5]\n",
    "                individual[i] = random.uniform(0, 5)\n",
    "    return individual,\n",
    "\n",
    "\n",
    "# Genetic operators\n",
    "toolbox.register(\"evaluate\", eval_decision_tree)\n",
    "toolbox.register(\"mate\", tools.cxTwoPoint)\n",
    "toolbox.register(\"mutate\", custom_mutate, numeric_bounds=[(10, 100), (8, 50), (50, 150)],\n",
    "                 categorical_choices=[[\"gini\", \"entropy\"], [\"best\", \"random\"], [None, \"sqrt\", \"log2\"]], indpb=0.75)\n",
    "toolbox.register(\"select\", tools.selTournament, tournsize=30)\n",
    "\n",
    "# Evolutionary operations function\n",
    "def perform_evolutionary_operations():\n",
    "    population = toolbox.population(n=50)\n",
    "    best_fitnesses = []\n",
    "    stagnant_generations = 0\n",
    "    best_fitness = 0\n",
    "\n",
    "    with concurrent.futures.ThreadPoolExecutor() as executor:\n",
    "        for gen in tqdm(range(40), desc=\"Generation\"):\n",
    "            offspring = algorithms.varAnd(population, toolbox, cxpb=0.5, mutpb=0.75)\n",
    "            fits = list(executor.map(toolbox.evaluate, offspring))\n",
    "            for fit, ind in zip(fits, offspring):\n",
    "                ind.fitness.values = fit\n",
    "\n",
    "            population = toolbox.select(offspring, len(offspring))\n",
    "            current_best = tools.selBest(population, 1)[0]\n",
    "            best_fitnesses.append(current_best.fitness.values[0])\n",
    "\n",
    "\n",
    "            print(f'Generation {gen+1}, Best individual fitness: {current_best.fitness.values[0]}')\n",
    "            print(\"max_depth:\", current_best[0])\n",
    "            print(\"min_samples_split:\", current_best[1])\n",
    "            print(\"min_samples_leaf:\", current_best[2])\n",
    "            print(\"criterion:\", current_best[3])\n",
    "            print(\"splitter:\", current_best[4])\n",
    "            print(\"max_features:\", current_best[5])\n",
    "            print(\"min_weight_fraction_leaf:\", current_best[6])\n",
    "            print(\"max_leaf_nodes:\", current_best[7])\n",
    "            print(\"min_impurity_decrease:\", current_best[8])\n",
    "            print(\"ccp_alpha:\", current_best[9])\n",
    "\n",
    "            if current_best.fitness.values[0] > best_fitness:\n",
    "                best_fitness = current_best.fitness.values[0]\n",
    "                stagnant_generations = 0\n",
    "            else:\n",
    "                stagnant_generations += 1\n",
    "\n",
    "            if stagnant_generations >= 3:\n",
    "                print(\"Restarting due to stagnant fitness...\")\n",
    "                population = toolbox.population(n=100)  # Re-initialize the population\n",
    "                best_fitness = 0\n",
    "                stagnant_generations = 0\n",
    "\n",
    "    return population, best_fitnesses\n",
    "\n",
    "# Run the evolutionary algorithm\n",
    "final_population, fitness_history = perform_evolutionary_operations()\n",
    "top_individual = tools.selBest(final_population, 1)[0]\n",
    "print('Best Individual:', top_individual)\n",
    "print('Best Fitness:', top_individual.fitness.values[0])\n",
    "\n",
    "# Plot the fitness history\n",
    "plt.figure(figsize=(10, 5))\n",
    "plt.plot(fitness_history)\n",
    "plt.title('Fitness Evolution Over Generations')\n",
    "plt.xlabel('Generation')\n",
    "plt.ylabel('Fitness')\n",
    "plt.show()\n"
   ]
  },
  {
   "cell_type": "code",
   "execution_count": 66,
   "metadata": {},
   "outputs": [
    {
     "name": "stderr",
     "output_type": "stream",
     "text": [
      "/home/hashim/.local/lib/python3.10/site-packages/deap/creator.py:185: RuntimeWarning: A class named 'FitnessMax' has already been created and it will be overwritten. Consider deleting previous creation of that class or rename it.\n",
      "  warnings.warn(\"A class named '{0}' has already been created and it \"\n",
      "/home/hashim/.local/lib/python3.10/site-packages/deap/creator.py:185: RuntimeWarning: A class named 'Individual' has already been created and it will be overwritten. Consider deleting previous creation of that class or rename it.\n",
      "  warnings.warn(\"A class named '{0}' has already been created and it \"\n",
      "Generation:   1%|          | 1/100 [00:03<05:39,  3.43s/it]"
     ]
    },
    {
     "name": "stdout",
     "output_type": "stream",
     "text": [
      "Generation 1, Best Fitness: 0.5506000097167566\n",
      "max_depth: 68 min_samples_split 26 min_samples_leaf 82 criterion entropy splitter random max_features sqrt min_weight_fraction_leaf 0.4125590087549978 max_leaf_nodes 7393 min_impurity_decrease 1.6225762452761279 ccp_alpha 3.2741174001002293\n"
     ]
    },
    {
     "name": "stderr",
     "output_type": "stream",
     "text": [
      "Generation:   2%|▏         | 2/100 [00:06<05:44,  3.51s/it]"
     ]
    },
    {
     "name": "stdout",
     "output_type": "stream",
     "text": [
      "Generation 2, Best Fitness: 0.5506000097167566\n",
      "max_depth: 10 min_samples_split 45 min_samples_leaf 51 criterion entropy splitter random max_features None min_weight_fraction_leaf 0.17664990881345938 max_leaf_nodes 351 min_impurity_decrease 4.768752593113967 ccp_alpha 3.2218199781104104\n"
     ]
    },
    {
     "name": "stderr",
     "output_type": "stream",
     "text": [
      "Generation:   3%|▎         | 3/100 [00:10<05:19,  3.30s/it]"
     ]
    },
    {
     "name": "stdout",
     "output_type": "stream",
     "text": [
      "Generation 3, Best Fitness: 0.5506000097167566\n",
      "max_depth: 68 min_samples_split 30 min_samples_leaf 82 criterion entropy splitter random max_features sqrt min_weight_fraction_leaf 0.24163899051911913 max_leaf_nodes 7393 min_impurity_decrease 1.6225762452761279 ccp_alpha 4.741027941743988\n"
     ]
    },
    {
     "name": "stderr",
     "output_type": "stream",
     "text": [
      "Generation:   4%|▍         | 4/100 [00:13<05:13,  3.27s/it]"
     ]
    },
    {
     "name": "stdout",
     "output_type": "stream",
     "text": [
      "Restarting due to stagnant fitness after 4 generations.\n",
      "Generation 4, Best Fitness: 0.5506000097167566\n",
      "max_depth: 91 min_samples_split 45 min_samples_leaf 90 criterion gini splitter random max_features sqrt min_weight_fraction_leaf 0.2925625215680339 max_leaf_nodes 6955 min_impurity_decrease 3.6146711028296847 ccp_alpha 2.270626031131102\n"
     ]
    },
    {
     "name": "stderr",
     "output_type": "stream",
     "text": [
      "Generation:   5%|▌         | 5/100 [00:16<05:08,  3.25s/it]"
     ]
    },
    {
     "name": "stdout",
     "output_type": "stream",
     "text": [
      "Generation 5, Best Fitness: 0.5506000097167566\n",
      "max_depth: 57 min_samples_split 46 min_samples_leaf 84 criterion gini splitter random max_features None min_weight_fraction_leaf 0.19908788570548142 max_leaf_nodes 3190 min_impurity_decrease 1.67019219299681 ccp_alpha 1.4604185096741507\n"
     ]
    },
    {
     "name": "stderr",
     "output_type": "stream",
     "text": [
      "Generation:   6%|▌         | 6/100 [00:19<04:55,  3.14s/it]"
     ]
    },
    {
     "name": "stdout",
     "output_type": "stream",
     "text": [
      "Generation 6, Best Fitness: 0.5506000097167566\n",
      "max_depth: 57 min_samples_split 26 min_samples_leaf 60 criterion entropy splitter random max_features None min_weight_fraction_leaf 0.10654696755555726 max_leaf_nodes 5674 min_impurity_decrease 0.2864246083815003 ccp_alpha 3.5667931255861913\n"
     ]
    },
    {
     "name": "stderr",
     "output_type": "stream",
     "text": [
      "Generation:   7%|▋         | 7/100 [00:22<04:55,  3.18s/it]"
     ]
    },
    {
     "name": "stdout",
     "output_type": "stream",
     "text": [
      "Restarting due to stagnant fitness after 7 generations.\n",
      "Generation 7, Best Fitness: 0.5506000097167566\n",
      "max_depth: 31 min_samples_split 26 min_samples_leaf 116 criterion gini splitter random max_features None min_weight_fraction_leaf 0.38580005348629665 max_leaf_nodes 3225 min_impurity_decrease 4.1604546825536834 ccp_alpha 0.06880485494263511\n"
     ]
    },
    {
     "name": "stderr",
     "output_type": "stream",
     "text": [
      "Generation:   8%|▊         | 8/100 [00:25<04:43,  3.08s/it]"
     ]
    },
    {
     "name": "stdout",
     "output_type": "stream",
     "text": [
      "Generation 8, Best Fitness: 0.5506000097167566\n",
      "max_depth: 41 min_samples_split 13 min_samples_leaf 116 criterion gini splitter random max_features None min_weight_fraction_leaf 0.3900608323048917 max_leaf_nodes 9198 min_impurity_decrease 0.7721213151941081 ccp_alpha 0.3420375023458361\n"
     ]
    },
    {
     "name": "stderr",
     "output_type": "stream",
     "text": [
      "Generation:   9%|▉         | 9/100 [00:28<04:38,  3.06s/it]"
     ]
    },
    {
     "name": "stdout",
     "output_type": "stream",
     "text": [
      "Generation 9, Best Fitness: 0.5506000097167566\n",
      "max_depth: 33 min_samples_split 49 min_samples_leaf 127 criterion entropy splitter random max_features log2 min_weight_fraction_leaf 0.004088673512938568 max_leaf_nodes 559 min_impurity_decrease 1.0423370365724098 ccp_alpha 1.0493658440584146\n"
     ]
    },
    {
     "name": "stderr",
     "output_type": "stream",
     "text": [
      "Generation:  10%|█         | 10/100 [00:31<04:30,  3.00s/it]"
     ]
    },
    {
     "name": "stdout",
     "output_type": "stream",
     "text": [
      "Restarting due to stagnant fitness after 10 generations.\n",
      "Generation 10, Best Fitness: 0.5506000097167566\n",
      "max_depth: 33 min_samples_split 49 min_samples_leaf 127 criterion entropy splitter random max_features None min_weight_fraction_leaf 0.3788980077257893 max_leaf_nodes 304 min_impurity_decrease 0.1373363188650989 ccp_alpha 1.0493658440584146\n"
     ]
    },
    {
     "name": "stderr",
     "output_type": "stream",
     "text": [
      "Generation:  11%|█         | 11/100 [00:34<04:30,  3.04s/it]"
     ]
    },
    {
     "name": "stdout",
     "output_type": "stream",
     "text": [
      "Generation 11, Best Fitness: 0.5506000097167566\n",
      "max_depth: 84 min_samples_split 22 min_samples_leaf 62 criterion entropy splitter best max_features log2 min_weight_fraction_leaf 0.05257387822536347 max_leaf_nodes 3178 min_impurity_decrease 4.219633855069892 ccp_alpha 4.5362955798006315\n"
     ]
    },
    {
     "name": "stderr",
     "output_type": "stream",
     "text": [
      "Generation:  12%|█▏        | 12/100 [00:38<04:43,  3.22s/it]"
     ]
    },
    {
     "name": "stdout",
     "output_type": "stream",
     "text": [
      "Generation 12, Best Fitness: 0.5506000097167566\n",
      "max_depth: 75 min_samples_split 10 min_samples_leaf 88 criterion gini splitter random max_features None min_weight_fraction_leaf 0.3699618449088578 max_leaf_nodes 6933 min_impurity_decrease 3.211972477209532 ccp_alpha 1.2415489984108519\n"
     ]
    },
    {
     "name": "stderr",
     "output_type": "stream",
     "text": [
      "Generation:  13%|█▎        | 13/100 [00:41<04:34,  3.16s/it]"
     ]
    },
    {
     "name": "stdout",
     "output_type": "stream",
     "text": [
      "Restarting due to stagnant fitness after 13 generations.\n",
      "Generation 13, Best Fitness: 0.5506000097167566\n",
      "max_depth: 73 min_samples_split 19 min_samples_leaf 118 criterion entropy splitter best max_features sqrt min_weight_fraction_leaf 0.16668072417823715 max_leaf_nodes 8634 min_impurity_decrease 1.3940149206313224 ccp_alpha 0.25401876730435535\n"
     ]
    },
    {
     "name": "stderr",
     "output_type": "stream",
     "text": [
      "Generation:  14%|█▍        | 14/100 [00:44<04:38,  3.24s/it]"
     ]
    },
    {
     "name": "stdout",
     "output_type": "stream",
     "text": [
      "Generation 14, Best Fitness: 0.5506000097167566\n",
      "max_depth: 22 min_samples_split 41 min_samples_leaf 64 criterion gini splitter random max_features sqrt min_weight_fraction_leaf 0.44788595908511536 max_leaf_nodes 2986 min_impurity_decrease 2.725730232997752 ccp_alpha 1.811335782175132\n"
     ]
    },
    {
     "name": "stderr",
     "output_type": "stream",
     "text": [
      "Generation:  15%|█▌        | 15/100 [00:48<04:47,  3.38s/it]"
     ]
    },
    {
     "name": "stdout",
     "output_type": "stream",
     "text": [
      "Generation 15, Best Fitness: 0.5506000097167566\n",
      "max_depth: 40 min_samples_split 8 min_samples_leaf 85 criterion gini splitter random max_features sqrt min_weight_fraction_leaf 0.44788595908511536 max_leaf_nodes 328 min_impurity_decrease 4.453323309045285 ccp_alpha 1.0584527129044607\n"
     ]
    },
    {
     "name": "stderr",
     "output_type": "stream",
     "text": [
      "Generation:  16%|█▌        | 16/100 [00:51<04:45,  3.39s/it]"
     ]
    },
    {
     "name": "stdout",
     "output_type": "stream",
     "text": [
      "Restarting due to stagnant fitness after 16 generations.\n",
      "Generation 16, Best Fitness: 0.5506000097167566\n",
      "max_depth: 35 min_samples_split 23 min_samples_leaf 124 criterion gini splitter best max_features None min_weight_fraction_leaf 0.2635601727295973 max_leaf_nodes 7114 min_impurity_decrease 2.6241874421000033 ccp_alpha 1.517379724718696\n"
     ]
    },
    {
     "name": "stderr",
     "output_type": "stream",
     "text": [
      "Generation:  17%|█▋        | 17/100 [00:55<04:49,  3.49s/it]"
     ]
    },
    {
     "name": "stdout",
     "output_type": "stream",
     "text": [
      "Generation 17, Best Fitness: 0.5506000097167566\n",
      "max_depth: 27 min_samples_split 14 min_samples_leaf 74 criterion entropy splitter best max_features sqrt min_weight_fraction_leaf 0.22912368649638565 max_leaf_nodes 7318 min_impurity_decrease 3.1981320191273883 ccp_alpha 3.335273298419248\n"
     ]
    },
    {
     "name": "stderr",
     "output_type": "stream",
     "text": [
      "Generation:  18%|█▊        | 18/100 [00:58<04:43,  3.46s/it]"
     ]
    },
    {
     "name": "stdout",
     "output_type": "stream",
     "text": [
      "Generation 18, Best Fitness: 0.5506000097167566\n",
      "max_depth: 76 min_samples_split 30 min_samples_leaf 144 criterion gini splitter random max_features None min_weight_fraction_leaf 0.49772651118536265 max_leaf_nodes 3773 min_impurity_decrease 4.235228233607206 ccp_alpha 4.324411007664655\n"
     ]
    },
    {
     "name": "stderr",
     "output_type": "stream",
     "text": [
      "Generation:  19%|█▉        | 19/100 [01:02<04:44,  3.51s/it]"
     ]
    },
    {
     "name": "stdout",
     "output_type": "stream",
     "text": [
      "Restarting due to stagnant fitness after 19 generations.\n",
      "Generation 19, Best Fitness: 0.5506000097167566\n",
      "max_depth: 99 min_samples_split 43 min_samples_leaf 98 criterion gini splitter random max_features None min_weight_fraction_leaf 0.15521377141857606 max_leaf_nodes 4416 min_impurity_decrease 3.8489257176944425 ccp_alpha 2.416863700570189\n"
     ]
    },
    {
     "name": "stderr",
     "output_type": "stream",
     "text": [
      "Generation:  20%|██        | 20/100 [01:05<04:33,  3.42s/it]"
     ]
    },
    {
     "name": "stdout",
     "output_type": "stream",
     "text": [
      "Generation 20, Best Fitness: 0.5506000097167566\n",
      "max_depth: 30 min_samples_split 28 min_samples_leaf 83 criterion entropy splitter random max_features sqrt min_weight_fraction_leaf 0.2704634631388074 max_leaf_nodes 9674 min_impurity_decrease 4.393874083709517 ccp_alpha 0.93879162305683\n"
     ]
    },
    {
     "name": "stderr",
     "output_type": "stream",
     "text": [
      "Generation:  21%|██        | 21/100 [01:09<04:36,  3.50s/it]"
     ]
    },
    {
     "name": "stdout",
     "output_type": "stream",
     "text": [
      "Generation 21, Best Fitness: 0.5506000097167566\n",
      "max_depth: 81 min_samples_split 20 min_samples_leaf 126 criterion gini splitter best max_features sqrt min_weight_fraction_leaf 0.24005378468428223 max_leaf_nodes 5903 min_impurity_decrease 0.09014015308554113 ccp_alpha 4.409257907755128\n"
     ]
    },
    {
     "name": "stderr",
     "output_type": "stream",
     "text": [
      "Generation:  22%|██▏       | 22/100 [01:12<04:35,  3.53s/it]"
     ]
    },
    {
     "name": "stdout",
     "output_type": "stream",
     "text": [
      "Restarting due to stagnant fitness after 22 generations.\n",
      "Generation 22, Best Fitness: 0.5506000097167566\n",
      "max_depth: 96 min_samples_split 24 min_samples_leaf 126 criterion entropy splitter best max_features sqrt min_weight_fraction_leaf 0.29539874266715954 max_leaf_nodes 276 min_impurity_decrease 0.2768668810816727 ccp_alpha 4.506170790894811\n"
     ]
    },
    {
     "name": "stderr",
     "output_type": "stream",
     "text": [
      "Generation:  23%|██▎       | 23/100 [01:16<04:34,  3.57s/it]"
     ]
    },
    {
     "name": "stdout",
     "output_type": "stream",
     "text": [
      "Generation 23, Best Fitness: 0.5506000097167566\n",
      "max_depth: 22 min_samples_split 31 min_samples_leaf 102 criterion gini splitter random max_features log2 min_weight_fraction_leaf 0.1121157441302531 max_leaf_nodes 2808 min_impurity_decrease 3.228760977127364 ccp_alpha 1.9218651001837617\n"
     ]
    },
    {
     "name": "stderr",
     "output_type": "stream",
     "text": [
      "Generation:  24%|██▍       | 24/100 [01:20<04:35,  3.62s/it]"
     ]
    },
    {
     "name": "stdout",
     "output_type": "stream",
     "text": [
      "Generation 24, Best Fitness: 0.5506000097167566\n",
      "max_depth: 44 min_samples_split 43 min_samples_leaf 120 criterion entropy splitter best max_features sqrt min_weight_fraction_leaf 0.2047063046860979 max_leaf_nodes 8451 min_impurity_decrease 4.550659785043304 ccp_alpha 1.7819486570729421\n"
     ]
    },
    {
     "name": "stderr",
     "output_type": "stream",
     "text": [
      "Generation:  25%|██▌       | 25/100 [01:24<04:34,  3.66s/it]"
     ]
    },
    {
     "name": "stdout",
     "output_type": "stream",
     "text": [
      "Restarting due to stagnant fitness after 25 generations.\n",
      "Generation 25, Best Fitness: 0.5506000097167566\n",
      "max_depth: 44 min_samples_split 43 min_samples_leaf 120 criterion entropy splitter best max_features sqrt min_weight_fraction_leaf 0.18229682596050079 max_leaf_nodes 7881 min_impurity_decrease 4.815410995756858 ccp_alpha 4.149375029716041\n"
     ]
    },
    {
     "name": "stderr",
     "output_type": "stream",
     "text": [
      "Generation:  26%|██▌       | 26/100 [01:27<04:34,  3.71s/it]"
     ]
    },
    {
     "name": "stdout",
     "output_type": "stream",
     "text": [
      "Generation 26, Best Fitness: 0.5506000097167566\n",
      "max_depth: 60 min_samples_split 23 min_samples_leaf 144 criterion gini splitter random max_features None min_weight_fraction_leaf 0.1187602468181072 max_leaf_nodes 2931 min_impurity_decrease 2.9995348577878262 ccp_alpha 2.5226574414913583\n"
     ]
    },
    {
     "name": "stderr",
     "output_type": "stream",
     "text": [
      "Generation:  27%|██▋       | 27/100 [01:31<04:37,  3.81s/it]"
     ]
    },
    {
     "name": "stdout",
     "output_type": "stream",
     "text": [
      "Generation 27, Best Fitness: 0.5506000097167566\n",
      "max_depth: 45 min_samples_split 41 min_samples_leaf 50 criterion gini splitter best max_features None min_weight_fraction_leaf 0.0676394185993126 max_leaf_nodes 6213 min_impurity_decrease 1.771221798853032 ccp_alpha 2.237097504794031\n"
     ]
    },
    {
     "name": "stderr",
     "output_type": "stream",
     "text": [
      "Generation:  28%|██▊       | 28/100 [01:36<04:42,  3.92s/it]"
     ]
    },
    {
     "name": "stdout",
     "output_type": "stream",
     "text": [
      "Restarting due to stagnant fitness after 28 generations.\n",
      "Generation 28, Best Fitness: 0.5506000097167566\n",
      "max_depth: 15 min_samples_split 9 min_samples_leaf 66 criterion entropy splitter random max_features log2 min_weight_fraction_leaf 0.4599582608023094 max_leaf_nodes 3181 min_impurity_decrease 2.9995348577878262 ccp_alpha 2.7153179964751866\n"
     ]
    },
    {
     "name": "stderr",
     "output_type": "stream",
     "text": [
      "Generation:  29%|██▉       | 29/100 [01:40<04:38,  3.92s/it]"
     ]
    },
    {
     "name": "stdout",
     "output_type": "stream",
     "text": [
      "Generation 29, Best Fitness: 0.5506000097167566\n",
      "max_depth: 98 min_samples_split 39 min_samples_leaf 65 criterion entropy splitter best max_features sqrt min_weight_fraction_leaf 0.10466693349303968 max_leaf_nodes 1878 min_impurity_decrease 1.927017817008549 ccp_alpha 4.384134802266304\n"
     ]
    },
    {
     "name": "stderr",
     "output_type": "stream",
     "text": [
      "Generation:  30%|███       | 30/100 [01:43<04:32,  3.89s/it]"
     ]
    },
    {
     "name": "stdout",
     "output_type": "stream",
     "text": [
      "Generation 30, Best Fitness: 0.5506000097167566\n",
      "max_depth: 45 min_samples_split 41 min_samples_leaf 145 criterion entropy splitter random max_features None min_weight_fraction_leaf 0.40797427762369265 max_leaf_nodes 7098 min_impurity_decrease 2.308894685413651 ccp_alpha 1.6776761965646387\n"
     ]
    },
    {
     "name": "stderr",
     "output_type": "stream",
     "text": [
      "Generation:  31%|███       | 31/100 [01:47<04:27,  3.88s/it]"
     ]
    },
    {
     "name": "stdout",
     "output_type": "stream",
     "text": [
      "Restarting due to stagnant fitness after 31 generations.\n",
      "Generation 31, Best Fitness: 0.5506000097167566\n",
      "max_depth: 48 min_samples_split 38 min_samples_leaf 93 criterion entropy splitter best max_features log2 min_weight_fraction_leaf 0.07079548252820445 max_leaf_nodes 4335 min_impurity_decrease 2.963335135535201 ccp_alpha 1.6655875735568904\n"
     ]
    },
    {
     "name": "stderr",
     "output_type": "stream",
     "text": [
      "Generation:  32%|███▏      | 32/100 [01:51<04:25,  3.91s/it]"
     ]
    },
    {
     "name": "stdout",
     "output_type": "stream",
     "text": [
      "Generation 32, Best Fitness: 0.5506000097167566\n",
      "max_depth: 94 min_samples_split 44 min_samples_leaf 72 criterion gini splitter best max_features None min_weight_fraction_leaf 0.3537432706414949 max_leaf_nodes 7591 min_impurity_decrease 4.479880858616623 ccp_alpha 1.591474458418713\n"
     ]
    },
    {
     "name": "stderr",
     "output_type": "stream",
     "text": [
      "Generation:  33%|███▎      | 33/100 [01:55<04:16,  3.83s/it]"
     ]
    },
    {
     "name": "stdout",
     "output_type": "stream",
     "text": [
      "Generation 33, Best Fitness: 0.5506000097167566\n",
      "max_depth: 94 min_samples_split 44 min_samples_leaf 63 criterion gini splitter best max_features None min_weight_fraction_leaf 0.3537432706414949 max_leaf_nodes 7591 min_impurity_decrease 4.479880858616623 ccp_alpha 1.591474458418713\n"
     ]
    },
    {
     "name": "stderr",
     "output_type": "stream",
     "text": [
      "Generation:  34%|███▍      | 34/100 [01:59<04:08,  3.77s/it]"
     ]
    },
    {
     "name": "stdout",
     "output_type": "stream",
     "text": [
      "Restarting due to stagnant fitness after 34 generations.\n",
      "Generation 34, Best Fitness: 0.5506000097167566\n",
      "max_depth: 42 min_samples_split 36 min_samples_leaf 63 criterion gini splitter best max_features sqrt min_weight_fraction_leaf 0.07415527357332652 max_leaf_nodes 7591 min_impurity_decrease 4.479880858616623 ccp_alpha 1.591474458418713\n"
     ]
    },
    {
     "name": "stderr",
     "output_type": "stream",
     "text": [
      "Generation:  35%|███▌      | 35/100 [02:02<04:00,  3.70s/it]"
     ]
    },
    {
     "name": "stdout",
     "output_type": "stream",
     "text": [
      "Generation 35, Best Fitness: 0.5506000097167566\n",
      "max_depth: 41 min_samples_split 25 min_samples_leaf 79 criterion gini splitter random max_features sqrt min_weight_fraction_leaf 0.14955910383471221 max_leaf_nodes 9689 min_impurity_decrease 1.0114282973986866 ccp_alpha 3.4180498628505465\n"
     ]
    },
    {
     "name": "stderr",
     "output_type": "stream",
     "text": [
      "Generation:  36%|███▌      | 36/100 [02:06<03:54,  3.66s/it]"
     ]
    },
    {
     "name": "stdout",
     "output_type": "stream",
     "text": [
      "Generation 36, Best Fitness: 0.5506000097167566\n",
      "max_depth: 68 min_samples_split 27 min_samples_leaf 52 criterion entropy splitter random max_features log2 min_weight_fraction_leaf 0.38874655220353843 max_leaf_nodes 24 min_impurity_decrease 0.43101064807411216 ccp_alpha 3.2741174001002293\n"
     ]
    },
    {
     "name": "stderr",
     "output_type": "stream",
     "text": [
      "Generation:  37%|███▋      | 37/100 [02:10<03:58,  3.78s/it]"
     ]
    },
    {
     "name": "stdout",
     "output_type": "stream",
     "text": [
      "Restarting due to stagnant fitness after 37 generations.\n",
      "Generation 37, Best Fitness: 0.5506000097167566\n",
      "max_depth: 11 min_samples_split 23 min_samples_leaf 52 criterion gini splitter best max_features log2 min_weight_fraction_leaf 0.17511911204620367 max_leaf_nodes 4596 min_impurity_decrease 1.2456623588466087 ccp_alpha 3.692611828652119\n"
     ]
    },
    {
     "name": "stderr",
     "output_type": "stream",
     "text": [
      "Generation:  38%|███▊      | 38/100 [02:13<03:50,  3.72s/it]"
     ]
    },
    {
     "name": "stdout",
     "output_type": "stream",
     "text": [
      "Generation 38, Best Fitness: 0.5506000097167566\n",
      "max_depth: 60 min_samples_split 12 min_samples_leaf 77 criterion entropy splitter random max_features sqrt min_weight_fraction_leaf 0.17933926384647797 max_leaf_nodes 2111 min_impurity_decrease 2.019060687510938 ccp_alpha 4.976999183229675\n"
     ]
    },
    {
     "name": "stderr",
     "output_type": "stream",
     "text": [
      "Generation:  39%|███▉      | 39/100 [02:17<03:52,  3.81s/it]"
     ]
    },
    {
     "name": "stdout",
     "output_type": "stream",
     "text": [
      "Generation 39, Best Fitness: 0.5506000097167566\n",
      "max_depth: 14 min_samples_split 36 min_samples_leaf 145 criterion gini splitter best max_features sqrt min_weight_fraction_leaf 0.16887896679701336 max_leaf_nodes 5166 min_impurity_decrease 2.019060687510938 ccp_alpha 1.1467362510241847\n"
     ]
    },
    {
     "name": "stderr",
     "output_type": "stream",
     "text": [
      "Generation:  40%|████      | 40/100 [02:21<03:46,  3.78s/it]"
     ]
    },
    {
     "name": "stdout",
     "output_type": "stream",
     "text": [
      "Restarting due to stagnant fitness after 40 generations.\n",
      "Generation 40, Best Fitness: 0.5506000097167566\n",
      "max_depth: 40 min_samples_split 25 min_samples_leaf 122 criterion gini splitter random max_features log2 min_weight_fraction_leaf 0.2525452131346173 max_leaf_nodes 4521 min_impurity_decrease 3.4403137488941478 ccp_alpha 1.8239896540856844\n"
     ]
    },
    {
     "name": "stderr",
     "output_type": "stream",
     "text": [
      "Generation:  41%|████      | 41/100 [02:25<03:44,  3.80s/it]"
     ]
    },
    {
     "name": "stdout",
     "output_type": "stream",
     "text": [
      "Generation 41, Best Fitness: 0.5506000097167566\n",
      "max_depth: 20 min_samples_split 19 min_samples_leaf 149 criterion gini splitter best max_features None min_weight_fraction_leaf 0.25323259732199616 max_leaf_nodes 9497 min_impurity_decrease 2.0393759160257545 ccp_alpha 3.2369392209947385\n"
     ]
    },
    {
     "name": "stderr",
     "output_type": "stream",
     "text": [
      "Generation:  42%|████▏     | 42/100 [02:29<03:48,  3.94s/it]"
     ]
    },
    {
     "name": "stdout",
     "output_type": "stream",
     "text": [
      "Generation 42, Best Fitness: 0.5506000097167566\n",
      "max_depth: 45 min_samples_split 35 min_samples_leaf 90 criterion entropy splitter best max_features None min_weight_fraction_leaf 0.1571960968809702 max_leaf_nodes 4417 min_impurity_decrease 4.424855394031061 ccp_alpha 2.2166413475723896\n"
     ]
    },
    {
     "name": "stderr",
     "output_type": "stream",
     "text": [
      "Generation:  43%|████▎     | 43/100 [02:33<03:46,  3.97s/it]"
     ]
    },
    {
     "name": "stdout",
     "output_type": "stream",
     "text": [
      "Restarting due to stagnant fitness after 43 generations.\n",
      "Generation 43, Best Fitness: 0.5506000097167566\n",
      "max_depth: 75 min_samples_split 16 min_samples_leaf 125 criterion gini splitter random max_features None min_weight_fraction_leaf 0.11190408983116268 max_leaf_nodes 3059 min_impurity_decrease 0.7206736917925538 ccp_alpha 1.557032927768367\n"
     ]
    },
    {
     "name": "stderr",
     "output_type": "stream",
     "text": [
      "Generation:  44%|████▍     | 44/100 [02:37<03:38,  3.90s/it]"
     ]
    },
    {
     "name": "stdout",
     "output_type": "stream",
     "text": [
      "Generation 44, Best Fitness: 0.5506000097167566\n",
      "max_depth: 95 min_samples_split 46 min_samples_leaf 67 criterion gini splitter random max_features None min_weight_fraction_leaf 0.42873145024607184 max_leaf_nodes 1947 min_impurity_decrease 3.75693847274796 ccp_alpha 1.6914301020550067\n"
     ]
    },
    {
     "name": "stderr",
     "output_type": "stream",
     "text": [
      "Generation:  45%|████▌     | 45/100 [02:41<03:31,  3.84s/it]"
     ]
    },
    {
     "name": "stdout",
     "output_type": "stream",
     "text": [
      "Generation 45, Best Fitness: 0.5506000097167566\n",
      "max_depth: 60 min_samples_split 37 min_samples_leaf 109 criterion entropy splitter random max_features log2 min_weight_fraction_leaf 0.4550476475089701 max_leaf_nodes 9109 min_impurity_decrease 2.375620302794548 ccp_alpha 1.351758087134921\n"
     ]
    },
    {
     "name": "stderr",
     "output_type": "stream",
     "text": [
      "Generation:  46%|████▌     | 46/100 [02:44<03:25,  3.81s/it]"
     ]
    },
    {
     "name": "stdout",
     "output_type": "stream",
     "text": [
      "Generation 46, Best Fitness: 0.7660326483019968\n",
      "max_depth: 66 min_samples_split 17 min_samples_leaf 73 criterion entropy splitter random max_features None min_weight_fraction_leaf 0.028085994885342025 max_leaf_nodes 4647 min_impurity_decrease 0.04228979907444641 ccp_alpha 0.19741369152545818\n"
     ]
    },
    {
     "name": "stderr",
     "output_type": "stream",
     "text": [
      "Generation:  47%|████▋     | 47/100 [02:49<03:28,  3.93s/it]"
     ]
    },
    {
     "name": "stdout",
     "output_type": "stream",
     "text": [
      "Generation 47, Best Fitness: 0.7660326483019968\n",
      "max_depth: 84 min_samples_split 16 min_samples_leaf 60 criterion gini splitter random max_features None min_weight_fraction_leaf 0.4373220941876183 max_leaf_nodes 3488 min_impurity_decrease 0.48483705222771845 ccp_alpha 0.011866477623739269\n"
     ]
    },
    {
     "name": "stderr",
     "output_type": "stream",
     "text": [
      "Generation:  48%|████▊     | 48/100 [02:53<03:27,  4.00s/it]"
     ]
    },
    {
     "name": "stdout",
     "output_type": "stream",
     "text": [
      "Generation 48, Best Fitness: 0.7663241509983967\n",
      "max_depth: 66 min_samples_split 17 min_samples_leaf 73 criterion entropy splitter best max_features None min_weight_fraction_leaf 0.028085994885342025 max_leaf_nodes 4647 min_impurity_decrease 0.04228979907444641 ccp_alpha 0.19741369152545818\n"
     ]
    },
    {
     "name": "stderr",
     "output_type": "stream",
     "text": [
      "Generation:  49%|████▉     | 49/100 [02:57<03:24,  4.00s/it]"
     ]
    },
    {
     "name": "stdout",
     "output_type": "stream",
     "text": [
      "Generation 49, Best Fitness: 0.7663241509983967\n",
      "max_depth: 66 min_samples_split 41 min_samples_leaf 73 criterion entropy splitter best max_features log2 min_weight_fraction_leaf 0.028085994885342025 max_leaf_nodes 4647 min_impurity_decrease 0.04228979907444641 ccp_alpha 0.19741369152545818\n"
     ]
    },
    {
     "name": "stderr",
     "output_type": "stream",
     "text": [
      "Generation:  50%|█████     | 50/100 [03:01<03:17,  3.96s/it]"
     ]
    },
    {
     "name": "stdout",
     "output_type": "stream",
     "text": [
      "Generation 50, Best Fitness: 0.7663241509983967\n",
      "max_depth: 66 min_samples_split 17 min_samples_leaf 128 criterion gini splitter best max_features log2 min_weight_fraction_leaf 0.0718059896450135 max_leaf_nodes 4647 min_impurity_decrease 0.04228979907444641 ccp_alpha 0.19741369152545818\n"
     ]
    },
    {
     "name": "stderr",
     "output_type": "stream",
     "text": [
      "Generation:  51%|█████     | 51/100 [03:04<03:11,  3.90s/it]"
     ]
    },
    {
     "name": "stdout",
     "output_type": "stream",
     "text": [
      "Restarting due to stagnant fitness after 51 generations.\n",
      "Generation 51, Best Fitness: 0.7663241509983967\n",
      "max_depth: 66 min_samples_split 41 min_samples_leaf 73 criterion entropy splitter best max_features log2 min_weight_fraction_leaf 0.0718059896450135 max_leaf_nodes 4647 min_impurity_decrease 0.04228979907444641 ccp_alpha 0.19741369152545818\n"
     ]
    },
    {
     "name": "stderr",
     "output_type": "stream",
     "text": [
      "Generation:  52%|█████▏    | 52/100 [03:08<03:03,  3.81s/it]"
     ]
    },
    {
     "name": "stdout",
     "output_type": "stream",
     "text": [
      "Generation 52, Best Fitness: 0.7663241509983967\n",
      "max_depth: 66 min_samples_split 17 min_samples_leaf 73 criterion entropy splitter best max_features None min_weight_fraction_leaf 0.3779914485116639 max_leaf_nodes 3988 min_impurity_decrease 0.04228979907444641 ccp_alpha 0.19741369152545818\n"
     ]
    },
    {
     "name": "stderr",
     "output_type": "stream",
     "text": [
      "Generation:  53%|█████▎    | 53/100 [03:11<02:54,  3.72s/it]"
     ]
    },
    {
     "name": "stdout",
     "output_type": "stream",
     "text": [
      "Generation 53, Best Fitness: 0.7663241509983967\n",
      "max_depth: 66 min_samples_split 17 min_samples_leaf 73 criterion entropy splitter best max_features None min_weight_fraction_leaf 0.3779914485116639 max_leaf_nodes 3988 min_impurity_decrease 0.04228979907444641 ccp_alpha 0.19741369152545818\n"
     ]
    },
    {
     "name": "stderr",
     "output_type": "stream",
     "text": [
      "Generation:  54%|█████▍    | 54/100 [03:15<02:54,  3.79s/it]"
     ]
    },
    {
     "name": "stdout",
     "output_type": "stream",
     "text": [
      "Restarting due to stagnant fitness after 54 generations.\n",
      "Generation 54, Best Fitness: 0.7663241509983967\n",
      "max_depth: 66 min_samples_split 17 min_samples_leaf 73 criterion entropy splitter best max_features None min_weight_fraction_leaf 0.13842304480704393 max_leaf_nodes 3988 min_impurity_decrease 0.04228979907444641 ccp_alpha 0.19741369152545818\n"
     ]
    },
    {
     "name": "stderr",
     "output_type": "stream",
     "text": [
      "Generation:  55%|█████▌    | 55/100 [03:19<02:54,  3.87s/it]"
     ]
    },
    {
     "name": "stdout",
     "output_type": "stream",
     "text": [
      "Generation 55, Best Fitness: 0.7663241509983967\n",
      "max_depth: 66 min_samples_split 50 min_samples_leaf 56 criterion entropy splitter best max_features None min_weight_fraction_leaf 0.028085994885342025 max_leaf_nodes 4647 min_impurity_decrease 0.04228979907444641 ccp_alpha 0.19741369152545818\n"
     ]
    },
    {
     "name": "stderr",
     "output_type": "stream",
     "text": [
      "Generation:  56%|█████▌    | 56/100 [03:23<02:52,  3.92s/it]"
     ]
    },
    {
     "name": "stdout",
     "output_type": "stream",
     "text": [
      "Generation 56, Best Fitness: 0.7663241509983967\n",
      "max_depth: 66 min_samples_split 50 min_samples_leaf 56 criterion entropy splitter best max_features None min_weight_fraction_leaf 0.028085994885342025 max_leaf_nodes 4647 min_impurity_decrease 0.04228979907444641 ccp_alpha 0.19741369152545818\n"
     ]
    },
    {
     "name": "stderr",
     "output_type": "stream",
     "text": [
      "Generation:  57%|█████▋    | 57/100 [03:28<03:02,  4.24s/it]"
     ]
    },
    {
     "name": "stdout",
     "output_type": "stream",
     "text": [
      "Restarting due to stagnant fitness after 57 generations.\n",
      "Generation 57, Best Fitness: 0.7663241509983967\n",
      "max_depth: 66 min_samples_split 50 min_samples_leaf 56 criterion entropy splitter best max_features None min_weight_fraction_leaf 0.028085994885342025 max_leaf_nodes 4647 min_impurity_decrease 0.04228979907444641 ccp_alpha 0.19741369152545818\n"
     ]
    },
    {
     "name": "stderr",
     "output_type": "stream",
     "text": [
      "Generation:  58%|█████▊    | 58/100 [03:32<02:54,  4.16s/it]"
     ]
    },
    {
     "name": "stdout",
     "output_type": "stream",
     "text": [
      "Generation 58, Best Fitness: 0.7663241509983967\n",
      "max_depth: 64 min_samples_split 22 min_samples_leaf 101 criterion entropy splitter random max_features log2 min_weight_fraction_leaf 0.04076657747114115 max_leaf_nodes 581 min_impurity_decrease 4.048337189149722 ccp_alpha 2.1239441666538954\n"
     ]
    },
    {
     "name": "stderr",
     "output_type": "stream",
     "text": [
      "Generation:  59%|█████▉    | 59/100 [03:36<02:47,  4.09s/it]"
     ]
    },
    {
     "name": "stdout",
     "output_type": "stream",
     "text": [
      "Generation 59, Best Fitness: 0.7663241509983967\n",
      "max_depth: 31 min_samples_split 33 min_samples_leaf 135 criterion entropy splitter best max_features None min_weight_fraction_leaf 0.4748120475217045 max_leaf_nodes 3561 min_impurity_decrease 2.9497372713534693 ccp_alpha 3.2219665958491506\n"
     ]
    },
    {
     "name": "stderr",
     "output_type": "stream",
     "text": [
      "Generation:  60%|██████    | 60/100 [03:41<02:44,  4.12s/it]"
     ]
    },
    {
     "name": "stdout",
     "output_type": "stream",
     "text": [
      "Restarting due to stagnant fitness after 60 generations.\n",
      "Generation 60, Best Fitness: 0.7663241509983967\n",
      "max_depth: 55 min_samples_split 13 min_samples_leaf 108 criterion entropy splitter random max_features sqrt min_weight_fraction_leaf 0.03716886660956831 max_leaf_nodes 8468 min_impurity_decrease 3.781174519411508 ccp_alpha 4.036448318204769\n"
     ]
    },
    {
     "name": "stderr",
     "output_type": "stream",
     "text": [
      "Generation:  61%|██████    | 61/100 [03:45<02:39,  4.10s/it]"
     ]
    },
    {
     "name": "stdout",
     "output_type": "stream",
     "text": [
      "Generation 61, Best Fitness: 0.7663241509983967\n",
      "max_depth: 66 min_samples_split 17 min_samples_leaf 73 criterion entropy splitter best max_features None min_weight_fraction_leaf 0.028085994885342025 max_leaf_nodes 4647 min_impurity_decrease 0.04228979907444641 ccp_alpha 0.19741369152545818\n"
     ]
    },
    {
     "name": "stderr",
     "output_type": "stream",
     "text": [
      "Generation:  62%|██████▏   | 62/100 [03:48<02:33,  4.03s/it]"
     ]
    },
    {
     "name": "stdout",
     "output_type": "stream",
     "text": [
      "Generation 62, Best Fitness: 0.7663241509983967\n",
      "max_depth: 66 min_samples_split 13 min_samples_leaf 126 criterion entropy splitter best max_features sqrt min_weight_fraction_leaf 0.06378727527114919 max_leaf_nodes 4647 min_impurity_decrease 0.04228979907444641 ccp_alpha 0.19741369152545818\n"
     ]
    },
    {
     "name": "stderr",
     "output_type": "stream",
     "text": [
      "Generation:  63%|██████▎   | 63/100 [03:52<02:28,  4.02s/it]"
     ]
    },
    {
     "name": "stdout",
     "output_type": "stream",
     "text": [
      "Restarting due to stagnant fitness after 63 generations.\n",
      "Generation 63, Best Fitness: 0.7663241509983967\n",
      "max_depth: 66 min_samples_split 17 min_samples_leaf 73 criterion entropy splitter best max_features None min_weight_fraction_leaf 0.028085994885342025 max_leaf_nodes 4647 min_impurity_decrease 0.04228979907444641 ccp_alpha 0.19741369152545818\n"
     ]
    },
    {
     "name": "stderr",
     "output_type": "stream",
     "text": [
      "Generation:  64%|██████▍   | 64/100 [03:56<02:19,  3.87s/it]"
     ]
    },
    {
     "name": "stdout",
     "output_type": "stream",
     "text": [
      "Generation 64, Best Fitness: 0.7663241509983967\n",
      "max_depth: 26 min_samples_split 32 min_samples_leaf 54 criterion entropy splitter best max_features log2 min_weight_fraction_leaf 0.19729401461395596 max_leaf_nodes 4199 min_impurity_decrease 0.02897613807297028 ccp_alpha 0.3541774146247406\n"
     ]
    },
    {
     "name": "stderr",
     "output_type": "stream",
     "text": [
      "Generation:  65%|██████▌   | 65/100 [04:00<02:12,  3.77s/it]"
     ]
    },
    {
     "name": "stdout",
     "output_type": "stream",
     "text": [
      "Generation 65, Best Fitness: 0.7663241509983967\n",
      "max_depth: 26 min_samples_split 32 min_samples_leaf 112 criterion entropy splitter best max_features log2 min_weight_fraction_leaf 0.19729401461395596 max_leaf_nodes 4199 min_impurity_decrease 0.02897613807297028 ccp_alpha 0.3541774146247406\n"
     ]
    },
    {
     "name": "stderr",
     "output_type": "stream",
     "text": [
      "Generation:  66%|██████▌   | 66/100 [04:03<02:02,  3.62s/it]"
     ]
    },
    {
     "name": "stdout",
     "output_type": "stream",
     "text": [
      "Restarting due to stagnant fitness after 66 generations.\n",
      "Generation 66, Best Fitness: 0.7663241509983967\n",
      "max_depth: 38 min_samples_split 42 min_samples_leaf 51 criterion entropy splitter best max_features None min_weight_fraction_leaf 0.44776033677489674 max_leaf_nodes 6735 min_impurity_decrease 3.9451053443039683 ccp_alpha 3.9681764436821494\n"
     ]
    },
    {
     "name": "stderr",
     "output_type": "stream",
     "text": [
      "Generation:  67%|██████▋   | 67/100 [04:07<02:02,  3.72s/it]"
     ]
    },
    {
     "name": "stdout",
     "output_type": "stream",
     "text": [
      "Generation 67, Best Fitness: 0.7663241509983967\n",
      "max_depth: 54 min_samples_split 32 min_samples_leaf 87 criterion gini splitter random max_features sqrt min_weight_fraction_leaf 0.4451255044744057 max_leaf_nodes 328 min_impurity_decrease 2.563368522865974 ccp_alpha 1.886611409713418\n"
     ]
    },
    {
     "name": "stderr",
     "output_type": "stream",
     "text": [
      "Generation:  68%|██████▊   | 68/100 [04:10<01:54,  3.58s/it]"
     ]
    },
    {
     "name": "stdout",
     "output_type": "stream",
     "text": [
      "Generation 68, Best Fitness: 0.7663241509983967\n",
      "max_depth: 19 min_samples_split 41 min_samples_leaf 115 criterion gini splitter random max_features None min_weight_fraction_leaf 0.3364920916835848 max_leaf_nodes 3161 min_impurity_decrease 3.8266466436270057 ccp_alpha 4.153687215069551\n"
     ]
    },
    {
     "name": "stderr",
     "output_type": "stream",
     "text": [
      "Generation:  69%|██████▉   | 69/100 [04:13<01:49,  3.53s/it]"
     ]
    },
    {
     "name": "stdout",
     "output_type": "stream",
     "text": [
      "Restarting due to stagnant fitness after 69 generations.\n",
      "Generation 69, Best Fitness: 0.7663241509983967\n",
      "max_depth: 98 min_samples_split 44 min_samples_leaf 97 criterion gini splitter best max_features log2 min_weight_fraction_leaf 0.12323257151378109 max_leaf_nodes 4286 min_impurity_decrease 1.894937138290445 ccp_alpha 3.4188325006571576\n"
     ]
    },
    {
     "name": "stderr",
     "output_type": "stream",
     "text": [
      "Generation:  70%|███████   | 70/100 [04:17<01:50,  3.70s/it]"
     ]
    },
    {
     "name": "stdout",
     "output_type": "stream",
     "text": [
      "Generation 70, Best Fitness: 0.7663241509983967\n",
      "max_depth: 88 min_samples_split 28 min_samples_leaf 140 criterion gini splitter random max_features log2 min_weight_fraction_leaf 0.08289177344374188 max_leaf_nodes 7315 min_impurity_decrease 2.3449642407648947 ccp_alpha 4.863435327904736\n"
     ]
    },
    {
     "name": "stderr",
     "output_type": "stream",
     "text": [
      "Generation:  71%|███████   | 71/100 [04:21<01:44,  3.61s/it]"
     ]
    },
    {
     "name": "stdout",
     "output_type": "stream",
     "text": [
      "Generation 71, Best Fitness: 0.7663241509983967\n",
      "max_depth: 29 min_samples_split 12 min_samples_leaf 55 criterion gini splitter best max_features None min_weight_fraction_leaf 0.16923644681163602 max_leaf_nodes 2626 min_impurity_decrease 4.571837852847026 ccp_alpha 0.20219444316503687\n"
     ]
    },
    {
     "name": "stderr",
     "output_type": "stream",
     "text": [
      "Generation:  72%|███████▏  | 72/100 [04:24<01:38,  3.52s/it]"
     ]
    },
    {
     "name": "stdout",
     "output_type": "stream",
     "text": [
      "Restarting due to stagnant fitness after 72 generations.\n",
      "Generation 72, Best Fitness: 0.7663241509983967\n",
      "max_depth: 25 min_samples_split 31 min_samples_leaf 111 criterion entropy splitter random max_features sqrt min_weight_fraction_leaf 0.3514321096730782 max_leaf_nodes 9299 min_impurity_decrease 3.626907666640577 ccp_alpha 3.037631361513567\n"
     ]
    },
    {
     "name": "stderr",
     "output_type": "stream",
     "text": [
      "Generation:  73%|███████▎  | 73/100 [04:28<01:33,  3.47s/it]"
     ]
    },
    {
     "name": "stdout",
     "output_type": "stream",
     "text": [
      "Generation 73, Best Fitness: 0.7663241509983967\n",
      "max_depth: 31 min_samples_split 24 min_samples_leaf 73 criterion entropy splitter random max_features None min_weight_fraction_leaf 0.03427887916791289 max_leaf_nodes 2205 min_impurity_decrease 4.492152531857162 ccp_alpha 0.5019368989529893\n"
     ]
    },
    {
     "name": "stderr",
     "output_type": "stream",
     "text": [
      "Generation:  74%|███████▍  | 74/100 [04:31<01:30,  3.47s/it]"
     ]
    },
    {
     "name": "stdout",
     "output_type": "stream",
     "text": [
      "Generation 74, Best Fitness: 0.7663241509983967\n",
      "max_depth: 40 min_samples_split 42 min_samples_leaf 58 criterion gini splitter random max_features log2 min_weight_fraction_leaf 0.2799601934232579 max_leaf_nodes 4457 min_impurity_decrease 2.8421406800590994 ccp_alpha 4.937587944652346\n"
     ]
    },
    {
     "name": "stderr",
     "output_type": "stream",
     "text": [
      "Generation:  75%|███████▌  | 75/100 [04:34<01:22,  3.31s/it]"
     ]
    },
    {
     "name": "stdout",
     "output_type": "stream",
     "text": [
      "Restarting due to stagnant fitness after 75 generations.\n",
      "Generation 75, Best Fitness: 0.7663241509983967\n",
      "max_depth: 86 min_samples_split 48 min_samples_leaf 57 criterion gini splitter random max_features sqrt min_weight_fraction_leaf 0.442889672995456 max_leaf_nodes 9477 min_impurity_decrease 4.665464956291141 ccp_alpha 3.2848794557523915\n"
     ]
    },
    {
     "name": "stderr",
     "output_type": "stream",
     "text": [
      "Generation:  76%|███████▌  | 76/100 [04:37<01:20,  3.35s/it]"
     ]
    },
    {
     "name": "stdout",
     "output_type": "stream",
     "text": [
      "Generation 76, Best Fitness: 0.7663241509983967\n",
      "max_depth: 67 min_samples_split 9 min_samples_leaf 67 criterion gini splitter random max_features sqrt min_weight_fraction_leaf 0.494687350408602 max_leaf_nodes 4889 min_impurity_decrease 4.015773957872259 ccp_alpha 4.92879595119914\n"
     ]
    },
    {
     "name": "stderr",
     "output_type": "stream",
     "text": [
      "Generation:  77%|███████▋  | 77/100 [04:41<01:19,  3.45s/it]"
     ]
    },
    {
     "name": "stdout",
     "output_type": "stream",
     "text": [
      "Generation 77, Best Fitness: 0.7663241509983967\n",
      "max_depth: 88 min_samples_split 9 min_samples_leaf 135 criterion entropy splitter best max_features None min_weight_fraction_leaf 0.29800925479080514 max_leaf_nodes 3024 min_impurity_decrease 1.2210122507171761 ccp_alpha 0.4981441721495816\n"
     ]
    },
    {
     "name": "stderr",
     "output_type": "stream",
     "text": [
      "Generation:  78%|███████▊  | 78/100 [04:45<01:21,  3.70s/it]"
     ]
    },
    {
     "name": "stdout",
     "output_type": "stream",
     "text": [
      "Restarting due to stagnant fitness after 78 generations.\n",
      "Generation 78, Best Fitness: 0.7663241509983967\n",
      "max_depth: 21 min_samples_split 31 min_samples_leaf 106 criterion entropy splitter random max_features None min_weight_fraction_leaf 0.1967819481362122 max_leaf_nodes 5969 min_impurity_decrease 4.643541613452994 ccp_alpha 0.5542688777959759\n"
     ]
    },
    {
     "name": "stderr",
     "output_type": "stream",
     "text": [
      "Generation:  79%|███████▉  | 79/100 [04:49<01:17,  3.68s/it]"
     ]
    },
    {
     "name": "stdout",
     "output_type": "stream",
     "text": [
      "Generation 79, Best Fitness: 0.7663241509983967\n",
      "max_depth: 17 min_samples_split 47 min_samples_leaf 54 criterion entropy splitter best max_features sqrt min_weight_fraction_leaf 0.20638535323021445 max_leaf_nodes 2627 min_impurity_decrease 4.930397061980857 ccp_alpha 3.206549060565625\n"
     ]
    },
    {
     "name": "stderr",
     "output_type": "stream",
     "text": [
      "Generation:  80%|████████  | 80/100 [04:52<01:12,  3.61s/it]"
     ]
    },
    {
     "name": "stdout",
     "output_type": "stream",
     "text": [
      "Generation 80, Best Fitness: 0.7663241509983967\n",
      "max_depth: 69 min_samples_split 10 min_samples_leaf 140 criterion entropy splitter random max_features sqrt min_weight_fraction_leaf 0.3623735352864339 max_leaf_nodes 4079 min_impurity_decrease 1.752458067365879 ccp_alpha 1.2543072914338231\n"
     ]
    },
    {
     "name": "stderr",
     "output_type": "stream",
     "text": [
      "Generation:  81%|████████  | 81/100 [04:56<01:07,  3.57s/it]"
     ]
    },
    {
     "name": "stdout",
     "output_type": "stream",
     "text": [
      "Restarting due to stagnant fitness after 81 generations.\n",
      "Generation 81, Best Fitness: 0.7663241509983967\n",
      "max_depth: 27 min_samples_split 28 min_samples_leaf 128 criterion gini splitter random max_features sqrt min_weight_fraction_leaf 0.05975749961293786 max_leaf_nodes 2627 min_impurity_decrease 2.9335083916823863 ccp_alpha 1.3624249396076311\n"
     ]
    },
    {
     "name": "stderr",
     "output_type": "stream",
     "text": [
      "Generation:  82%|████████▏ | 82/100 [05:00<01:09,  3.87s/it]"
     ]
    },
    {
     "name": "stdout",
     "output_type": "stream",
     "text": [
      "Generation 82, Best Fitness: 0.7663241509983967\n",
      "max_depth: 66 min_samples_split 17 min_samples_leaf 73 criterion entropy splitter best max_features None min_weight_fraction_leaf 0.028085994885342025 max_leaf_nodes 4647 min_impurity_decrease 0.04228979907444641 ccp_alpha 0.19741369152545818\n"
     ]
    },
    {
     "name": "stderr",
     "output_type": "stream",
     "text": [
      "Generation:  83%|████████▎ | 83/100 [05:04<01:06,  3.90s/it]"
     ]
    },
    {
     "name": "stdout",
     "output_type": "stream",
     "text": [
      "Generation 83, Best Fitness: 0.7663241509983967\n",
      "max_depth: 66 min_samples_split 17 min_samples_leaf 91 criterion entropy splitter best max_features None min_weight_fraction_leaf 0.028085994885342025 max_leaf_nodes 4647 min_impurity_decrease 0.04228979907444641 ccp_alpha 0.19741369152545818\n"
     ]
    },
    {
     "name": "stderr",
     "output_type": "stream",
     "text": [
      "Generation:  84%|████████▍ | 84/100 [05:08<01:02,  3.90s/it]"
     ]
    },
    {
     "name": "stdout",
     "output_type": "stream",
     "text": [
      "Restarting due to stagnant fitness after 84 generations.\n",
      "Generation 84, Best Fitness: 0.7663241509983967\n",
      "max_depth: 14 min_samples_split 31 min_samples_leaf 55 criterion gini splitter random max_features log2 min_weight_fraction_leaf 0.16996858246691238 max_leaf_nodes 767 min_impurity_decrease 3.8263184669760624 ccp_alpha 1.7863582886150224\n"
     ]
    },
    {
     "name": "stderr",
     "output_type": "stream",
     "text": [
      "Generation:  85%|████████▌ | 85/100 [05:12<00:57,  3.83s/it]"
     ]
    },
    {
     "name": "stdout",
     "output_type": "stream",
     "text": [
      "Generation 85, Best Fitness: 0.7663241509983967\n",
      "max_depth: 53 min_samples_split 29 min_samples_leaf 130 criterion entropy splitter best max_features None min_weight_fraction_leaf 0.37744233635534885 max_leaf_nodes 8796 min_impurity_decrease 1.2891251998626978 ccp_alpha 1.2708309337123107\n"
     ]
    },
    {
     "name": "stderr",
     "output_type": "stream",
     "text": [
      "Generation:  86%|████████▌ | 86/100 [05:15<00:52,  3.73s/it]"
     ]
    },
    {
     "name": "stdout",
     "output_type": "stream",
     "text": [
      "Generation 86, Best Fitness: 0.7663241509983967\n",
      "max_depth: 75 min_samples_split 19 min_samples_leaf 70 criterion gini splitter best max_features None min_weight_fraction_leaf 0.46965561029358094 max_leaf_nodes 8036 min_impurity_decrease 0.7301560139540192 ccp_alpha 2.2171591652418874\n"
     ]
    },
    {
     "name": "stderr",
     "output_type": "stream",
     "text": [
      "Generation:  87%|████████▋ | 87/100 [05:19<00:46,  3.61s/it]"
     ]
    },
    {
     "name": "stdout",
     "output_type": "stream",
     "text": [
      "Restarting due to stagnant fitness after 87 generations.\n",
      "Generation 87, Best Fitness: 0.7663241509983967\n",
      "max_depth: 41 min_samples_split 16 min_samples_leaf 100 criterion gini splitter best max_features log2 min_weight_fraction_leaf 0.3697931081833577 max_leaf_nodes 7511 min_impurity_decrease 4.3108241037596 ccp_alpha 1.590215137745579\n"
     ]
    },
    {
     "name": "stderr",
     "output_type": "stream",
     "text": [
      "Generation:  88%|████████▊ | 88/100 [05:23<00:46,  3.88s/it]"
     ]
    },
    {
     "name": "stdout",
     "output_type": "stream",
     "text": [
      "Generation 88, Best Fitness: 0.7663241509983967\n",
      "max_depth: 66 min_samples_split 12 min_samples_leaf 73 criterion entropy splitter best max_features None min_weight_fraction_leaf 0.028085994885342025 max_leaf_nodes 4647 min_impurity_decrease 0.04228979907444641 ccp_alpha 0.19741369152545818\n"
     ]
    },
    {
     "name": "stderr",
     "output_type": "stream",
     "text": [
      "Generation:  89%|████████▉ | 89/100 [05:27<00:43,  3.96s/it]"
     ]
    },
    {
     "name": "stdout",
     "output_type": "stream",
     "text": [
      "Generation 89, Best Fitness: 0.7663241509983967\n",
      "max_depth: 66 min_samples_split 12 min_samples_leaf 73 criterion entropy splitter best max_features None min_weight_fraction_leaf 0.028085994885342025 max_leaf_nodes 4647 min_impurity_decrease 0.04228979907444641 ccp_alpha 0.19741369152545818\n"
     ]
    },
    {
     "name": "stderr",
     "output_type": "stream",
     "text": [
      "Generation:  90%|█████████ | 90/100 [05:32<00:41,  4.15s/it]"
     ]
    },
    {
     "name": "stdout",
     "output_type": "stream",
     "text": [
      "Restarting due to stagnant fitness after 90 generations.\n",
      "Generation 90, Best Fitness: 0.7663241509983967\n",
      "max_depth: 39 min_samples_split 43 min_samples_leaf 73 criterion entropy splitter best max_features log2 min_weight_fraction_leaf 0.028085994885342025 max_leaf_nodes 4647 min_impurity_decrease 0.04228979907444641 ccp_alpha 0.19741369152545818\n"
     ]
    },
    {
     "name": "stderr",
     "output_type": "stream",
     "text": [
      "Generation:  91%|█████████ | 91/100 [05:36<00:36,  4.02s/it]"
     ]
    },
    {
     "name": "stdout",
     "output_type": "stream",
     "text": [
      "Generation 91, Best Fitness: 0.7663241509983967\n",
      "max_depth: 15 min_samples_split 17 min_samples_leaf 73 criterion gini splitter best max_features sqrt min_weight_fraction_leaf 0.21103591974940694 max_leaf_nodes 4647 min_impurity_decrease 0.04228979907444641 ccp_alpha 0.19741369152545818\n"
     ]
    },
    {
     "name": "stderr",
     "output_type": "stream",
     "text": [
      "Generation:  92%|█████████▏| 92/100 [05:40<00:31,  3.99s/it]"
     ]
    },
    {
     "name": "stdout",
     "output_type": "stream",
     "text": [
      "Generation 92, Best Fitness: 0.7663241509983967\n",
      "max_depth: 15 min_samples_split 33 min_samples_leaf 81 criterion gini splitter best max_features sqrt min_weight_fraction_leaf 0.21103591974940694 max_leaf_nodes 4647 min_impurity_decrease 0.04228979907444641 ccp_alpha 0.19741369152545818\n"
     ]
    },
    {
     "name": "stderr",
     "output_type": "stream",
     "text": [
      "Generation:  93%|█████████▎| 93/100 [05:43<00:26,  3.80s/it]"
     ]
    },
    {
     "name": "stdout",
     "output_type": "stream",
     "text": [
      "Restarting due to stagnant fitness after 93 generations.\n",
      "Generation 93, Best Fitness: 0.7663241509983967\n",
      "max_depth: 15 min_samples_split 17 min_samples_leaf 126 criterion gini splitter best max_features log2 min_weight_fraction_leaf 0.005978438516129669 max_leaf_nodes 7969 min_impurity_decrease 0.04228979907444641 ccp_alpha 0.19741369152545818\n"
     ]
    },
    {
     "name": "stderr",
     "output_type": "stream",
     "text": [
      "Generation:  94%|█████████▍| 94/100 [05:47<00:22,  3.75s/it]"
     ]
    },
    {
     "name": "stdout",
     "output_type": "stream",
     "text": [
      "Generation 94, Best Fitness: 0.7663241509983967\n",
      "max_depth: 29 min_samples_split 39 min_samples_leaf 73 criterion entropy splitter best max_features None min_weight_fraction_leaf 0.10201617142921554 max_leaf_nodes 2906 min_impurity_decrease 2.504856862540197 ccp_alpha 0.7235505007258775\n"
     ]
    },
    {
     "name": "stderr",
     "output_type": "stream",
     "text": [
      "Generation:  95%|█████████▌| 95/100 [05:50<00:17,  3.57s/it]"
     ]
    },
    {
     "name": "stdout",
     "output_type": "stream",
     "text": [
      "Generation 95, Best Fitness: 0.7663241509983967\n",
      "max_depth: 93 min_samples_split 46 min_samples_leaf 89 criterion entropy splitter best max_features log2 min_weight_fraction_leaf 0.009371447065979643 max_leaf_nodes 768 min_impurity_decrease 0.20574849966635333 ccp_alpha 0.17561776256780182\n"
     ]
    },
    {
     "name": "stderr",
     "output_type": "stream",
     "text": [
      "Generation:  96%|█████████▌| 96/100 [05:54<00:14,  3.61s/it]"
     ]
    },
    {
     "name": "stdout",
     "output_type": "stream",
     "text": [
      "Restarting due to stagnant fitness after 96 generations.\n",
      "Generation 96, Best Fitness: 0.7663241509983967\n",
      "max_depth: 16 min_samples_split 21 min_samples_leaf 62 criterion entropy splitter best max_features sqrt min_weight_fraction_leaf 0.09905439664058208 max_leaf_nodes 6175 min_impurity_decrease 3.6023538511756725 ccp_alpha 1.992553533241599\n"
     ]
    },
    {
     "name": "stderr",
     "output_type": "stream",
     "text": [
      "Generation:  97%|█████████▋| 97/100 [05:57<00:11,  3.70s/it]"
     ]
    },
    {
     "name": "stdout",
     "output_type": "stream",
     "text": [
      "Generation 97, Best Fitness: 0.7663241509983967\n",
      "max_depth: 66 min_samples_split 17 min_samples_leaf 73 criterion entropy splitter best max_features None min_weight_fraction_leaf 0.23887353910816195 max_leaf_nodes 3630 min_impurity_decrease 0.04228979907444641 ccp_alpha 0.19741369152545818\n"
     ]
    },
    {
     "name": "stderr",
     "output_type": "stream",
     "text": [
      "Generation:  98%|█████████▊| 98/100 [06:01<00:07,  3.77s/it]"
     ]
    },
    {
     "name": "stdout",
     "output_type": "stream",
     "text": [
      "Generation 98, Best Fitness: 0.7663241509983967\n",
      "max_depth: 66 min_samples_split 17 min_samples_leaf 73 criterion entropy splitter best max_features None min_weight_fraction_leaf 0.23887353910816195 max_leaf_nodes 3630 min_impurity_decrease 0.04228979907444641 ccp_alpha 0.19741369152545818\n"
     ]
    },
    {
     "name": "stderr",
     "output_type": "stream",
     "text": [
      "Generation:  99%|█████████▉| 99/100 [06:05<00:03,  3.81s/it]"
     ]
    },
    {
     "name": "stdout",
     "output_type": "stream",
     "text": [
      "Restarting due to stagnant fitness after 99 generations.\n",
      "Generation 99, Best Fitness: 0.7663241509983967\n",
      "max_depth: 66 min_samples_split 17 min_samples_leaf 73 criterion entropy splitter best max_features None min_weight_fraction_leaf 0.23887353910816195 max_leaf_nodes 3630 min_impurity_decrease 0.04228979907444641 ccp_alpha 0.19741369152545818\n"
     ]
    },
    {
     "name": "stderr",
     "output_type": "stream",
     "text": [
      "Generation: 100%|██████████| 100/100 [06:10<00:00,  3.70s/it]"
     ]
    },
    {
     "name": "stdout",
     "output_type": "stream",
     "text": [
      "Generation 100, Best Fitness: 0.7663241509983967\n",
      "max_depth: 66 min_samples_split 17 min_samples_leaf 73 criterion entropy splitter best max_features None min_weight_fraction_leaf 0.028085994885342025 max_leaf_nodes 4647 min_impurity_decrease 0.04228979907444641 ccp_alpha 0.19741369152545818\n",
      "Best Individual: [66, 17, 73, 'entropy', 'best', None, 0.028085994885342025, 4647, 0.04228979907444641, 0.19741369152545818]\n",
      "Best Fitness: 0.7663241509983967\n"
     ]
    },
    {
     "name": "stderr",
     "output_type": "stream",
     "text": [
      "\n"
     ]
    },
    {
     "data": {
      "image/png": "[encoded data removed]",
      "text/plain": [
       "<Figure size 1000x500 with 1 Axes>"
      ]
     },
     "metadata": {},
     "output_type": "display_data"
    }
   ],
   "source": [
    "import random\n",
    "import numpy as np\n",
    "import matplotlib.pyplot as plt\n",
    "from tqdm import tqdm\n",
    "import concurrent.futures\n",
    "from sklearn.tree import DecisionTreeClassifier\n",
    "from sklearn.metrics import accuracy_score\n",
    "from deap import base, creator, tools, algorithms\n",
    "\n",
    "# Set up the environment for DEAP\n",
    "creator.create(\"FitnessMax\", base.Fitness, weights=(1.0,))\n",
    "creator.create(\"Individual\", list, fitness=creator.FitnessMax)\n",
    "\n",
    "toolbox = base.Toolbox()\n",
    "\n",
    "# Attribute generators for the hyperparameters\n",
    "toolbox.register(\"max_depth\", random.randint, 10, 100)  # Tree depth from 10 to 100\n",
    "toolbox.register(\"min_samples_split\", random.randint, 8, 50)  # Min samples split from 8 to 50\n",
    "toolbox.register(\"min_samples_leaf\", random.randint, 50, 150)  # Min samples leaf from 50 to 150\n",
    "toolbox.register(\"criterion\", random.choice, [\"gini\", \"entropy\"])\n",
    "toolbox.register(\"splitter\", random.choice, [\"best\", \"random\"])\n",
    "toolbox.register(\"max_features\", random.choice, [None, \"sqrt\", \"log2\"])\n",
    "toolbox.register(\"min_weight_fraction_leaf\", lambda: random.uniform(0, 0.5))\n",
    "toolbox.register(\"max_leaf_nodes\", lambda: random.randint(2, 10000))\n",
    "toolbox.register(\"min_impurity_decrease\", lambda: random.uniform(0, 5))\n",
    "toolbox.register(\"ccp_alpha\", lambda: random.uniform(0, 5))\n",
    "\n",
    "# Structure initializers\n",
    "toolbox.register(\"individual\", tools.initCycle, creator.Individual,\n",
    "                 (toolbox.max_depth, toolbox.min_samples_split, toolbox.min_samples_leaf,\n",
    "                  toolbox.criterion, toolbox.splitter, toolbox.max_features,\n",
    "                  toolbox.min_weight_fraction_leaf, toolbox.max_leaf_nodes,\n",
    "                  toolbox.min_impurity_decrease, toolbox.ccp_alpha), n=1)\n",
    "toolbox.register(\"population\", tools.initRepeat, list, toolbox.individual)\n",
    "\n",
    "# Evaluation function\n",
    "def eval_decision_tree(individual):\n",
    "    max_depth, min_samples_split, min_samples_leaf, criterion, splitter, \\\n",
    "    max_features, min_weight_fraction_leaf, max_leaf_nodes, min_impurity_decrease, \\\n",
    "    ccp_alpha = individual\n",
    "    model = DecisionTreeClassifier(max_depth=max_depth,\n",
    "                                   min_samples_split=min_samples_split,\n",
    "                                   min_samples_leaf=min_samples_leaf,\n",
    "                                   criterion=criterion,\n",
    "                                   splitter=splitter,\n",
    "                                   max_features=max_features,\n",
    "                                   min_weight_fraction_leaf=min_weight_fraction_leaf,\n",
    "                                   max_leaf_nodes=max_leaf_nodes,\n",
    "                                   min_impurity_decrease=min_impurity_decrease,\n",
    "                                   ccp_alpha=ccp_alpha,\n",
    "                                   random_state=42)\n",
    "    model.fit(X_train, y_train)  # Ensure X_train and y_train are defined\n",
    "    predictions = model.predict(X_test)  # Ensure X_test is defined\n",
    "    accuracy = accuracy_score(y_test, predictions)  # Ensure y_test is defined\n",
    "    return accuracy,\n",
    "\n",
    "# Custom mutation function adjusted to handle parameters correctly\n",
    "def custom_mutate(individual, numeric_bounds, categorical_choices, indpb):\n",
    "    for i in range(len(individual)):\n",
    "        if random.random() < indpb:\n",
    "            if i in [0, 1, 2]:  # Numeric parameters with integer bounds: max_depth, min_samples_split, min_samples_leaf\n",
    "                low, up = numeric_bounds[i]\n",
    "                individual[i] = random.randint(low, up)\n",
    "            elif i in [3, 4, 5]:  # Categorical parameters: criterion, splitter, max_features\n",
    "                individual[i] = random.choice(categorical_choices[i - 3])\n",
    "            elif i == 6:  # min_weight_fraction_leaf, a floating point within [0, 0.5]\n",
    "                individual[i] = random.uniform(0, 0.5)\n",
    "            elif i == 7:  # max_leaf_nodes, an integer from 2 to 10000\n",
    "                individual[i] = random.randint(2, 10000)\n",
    "            elif i in [8, 9]:  # min_impurity_decrease and ccp_alpha, floating points within [0, 5]\n",
    "                individual[i] = random.uniform(0, 5)\n",
    "    return individual,\n",
    "\n",
    "\n",
    "# Genetic operators\n",
    "toolbox.register(\"evaluate\", eval_decision_tree)\n",
    "toolbox.register(\"mate\", tools.cxTwoPoint)\n",
    "toolbox.register(\"mutate\", custom_mutate, numeric_bounds=[(10, 100), (8, 50), (50, 150)],\n",
    "                 categorical_choices=[[\"gini\", \"entropy\"], [\"best\", \"random\"], [None, \"sqrt\", \"log2\"]], indpb=0.3)\n",
    "toolbox.register(\"select\", tools.selTournament, tournsize=3)\n",
    "\n",
    "def perform_evolutionary_operations():\n",
    "    population = toolbox.population(n=50)\n",
    "    best_fitnesses = []\n",
    "    best_individual = None  # Best individual across all generations\n",
    "    best_fitness = float('-inf')  # Initialize best fitness as negative infinity\n",
    "\n",
    "    with concurrent.futures.ThreadPoolExecutor() as executor:\n",
    "        for gen in tqdm(range(100), desc=\"Generation\"):\n",
    "            # Evaluate the offspring\n",
    "            offspring = algorithms.varAnd(population, toolbox, cxpb=0.7, mutpb=0.3)\n",
    "            fits = list(executor.map(toolbox.evaluate, offspring))\n",
    "            for fit, ind in zip(fits, offspring):\n",
    "                ind.fitness.values = fit\n",
    "\n",
    "            # Update population based on fitness\n",
    "            population = toolbox.select(offspring, len(offspring))\n",
    "            current_best = tools.selBest(population, 1)[0]\n",
    "            best_fitnesses.append(current_best.fitness.values[0])\n",
    "\n",
    "            # Update the global best individual\n",
    "            if best_individual is None or current_best.fitness.values[0] > best_fitness:\n",
    "                best_individual = current_best\n",
    "                best_fitness = current_best.fitness.values[0]\n",
    "                stagnant_generations = 0  # Reset stagnation counter\n",
    "            else:\n",
    "                stagnant_generations += 1\n",
    "\n",
    "            # If the population has stagnated, reset with the best individual retained\n",
    "            if stagnant_generations >= 3:\n",
    "                print(f\"Restarting due to stagnant fitness after {gen+1} generations.\")\n",
    "                population = toolbox.population(n=50 - 1)  # Create new population\n",
    "                population.append(best_individual)  # Add best individual to the new population\n",
    "                stagnant_generations = 0  # Reset stagnation counter\n",
    "\n",
    "            # Print current best status\n",
    "            print(f'Generation {gen+1}, Best Fitness: {best_fitness}')\n",
    "            print(\"max_depth:\", current_best[0], \"min_samples_split\", current_best[1], \"min_samples_leaf\", current_best[2], \"criterion\", current_best[3], \"splitter\", current_best[4], \"max_features\", current_best[5], \"min_weight_fraction_leaf\", current_best[6], \"max_leaf_nodes\", current_best[7], \"min_impurity_decrease\", current_best[8], \"ccp_alpha\", current_best[9])\n",
    "\n",
    "\n",
    "    return population, best_fitnesses, best_individual\n",
    "\n",
    "# Run the evolutionary algorithm\n",
    "final_population, fitness_history, top_individual = perform_evolutionary_operations()\n",
    "print('Best Individual:', top_individual)\n",
    "print('Best Fitness:', top_individual.fitness.values[0])\n",
    "\n",
    "# Plot the fitness history\n",
    "plt.figure(figsize=(10, 5))\n",
    "plt.plot(fitness_history)\n",
    "plt.title('Fitness Evolution Over Generations')\n",
    "plt.xlabel('Generation')\n",
    "plt.ylabel('Fitness')\n",
    "plt.show()\n",
    "\n",
    "            "
   ]
  }
 ],
 "metadata": {
  "kernelspec": {
   "display_name": "Python 3",
   "language": "python",
   "name": "python3"
  },
  "language_info": {
   "codemirror_mode": {
    "name": "ipython",
    "version": 3
   },
   "file_extension": ".py",
   "mimetype": "text/x-python",
   "name": "python",
   "nbconvert_exporter": "python",
   "pygments_lexer": "ipython3",
   "version": "3.10.12"
  }
 },
 "nbformat": 4,
 "nbformat_minor": 2
}
